{
  "cells": [
    {
      "cell_type": "markdown",
      "metadata": {
        "id": "hplquoQed2ha"
      },
      "source": [
        "# Modelos de N-gramas\n",
        "\n",
        "Modelos de N-gramas são modelos de linguagem probabilísticos em que assumimos uma versão generalizada da condição de Markov. Assim, para predizer a n-ésima palavra, procuramos maximizar a probabilidade condicional $P(w_n|w_1, \\cdots,w_{n-1})$\n",
        "\n",
        "## Materiais\n",
        "\n",
        "[Módulo NLTK -  Modelos de Linguagem](https://www.nltk.org/api/nltk.lm.html)"
      ]
    },
    {
      "cell_type": "code",
      "execution_count": 1,
      "metadata": {
        "colab": {
          "base_uri": "https://localhost:8080/"
        },
        "id": "FSXt0KbbcnSg",
        "outputId": "dbf37473-2e09-45f3-93b6-e858abf3fde5"
      },
      "outputs": [
        {
          "name": "stderr",
          "output_type": "stream",
          "text": [
            "[nltk_data] Downloading package machado to\n",
            "[nltk_data]     C:\\Users\\oknotok\\AppData\\Roaming\\nltk_data...\n",
            "[nltk_data]   Package machado is already up-to-date!\n",
            "[nltk_data] Downloading package punkt to\n",
            "[nltk_data]     C:\\Users\\oknotok\\AppData\\Roaming\\nltk_data...\n",
            "[nltk_data]   Package punkt is already up-to-date!\n"
          ]
        }
      ],
      "source": [
        "import nltk\n",
        "nltk.download(\"machado\")\n",
        "nltk.download('punkt')\n",
        "from nltk.corpus import machado"
      ]
    },
    {
      "cell_type": "markdown",
      "metadata": {
        "id": "eYInVaIY7Zr_"
      },
      "source": [
        "O módulo lm do nltk oferece diversas implementações de modelos probabilísticos de linguagem e ferramentas utilitárias para calcular n-gramas, preparar dados para o treinamento de modelos, etc."
      ]
    },
    {
      "cell_type": "code",
      "execution_count": 2,
      "metadata": {
        "colab": {
          "base_uri": "https://localhost:8080/"
        },
        "id": "CfSVNHhncbGD",
        "outputId": "021afda4-d63a-48bb-9cbc-00ebe6d7d80f"
      },
      "outputs": [
        {
          "name": "stdout",
          "output_type": "stream",
          "text": [
            "[['Conto', ',', 'Contos', 'Fluminenses', ',', '1870'], ['Contos', 'Fluminenses'], ['Texto', '-', 'fonte', ':'], ['Obra', 'Completa', ',', 'Machado', 'de', 'Assis', ',', 'vol', '.'], ['II', ','], ['Rio', 'de', 'Janeiro', ':', 'Nova', 'Aguilar', ',', '1994', '.'], ['Publicado', 'originalmente', 'pela', 'Editora', 'Garnier', ',', 'Rio', 'de', 'Janeiro', ',', 'em', '1870', '.'], ['ÍNDICE'], ['MISS', 'DOLLAR'], ['LUÍS', 'SOARES']]\n",
            "[('Conto', ','), (',', 'Contos'), ('Contos', 'Fluminenses'), ('Fluminenses', ','), (',', '1870'), ('1870', 'Contos'), ('Contos', 'Fluminenses'), ('Fluminenses', 'Texto'), ('Texto', '-'), ('-', 'fonte'), ('fonte', ':'), (':', 'Obra'), ('Obra', 'Completa'), ('Completa', ','), (',', 'Machado'), ('Machado', 'de'), ('de', 'Assis'), ('Assis', ','), (',', 'vol'), ('vol', '.'), ('.', 'II'), ('II', ','), (',', 'Rio'), ('Rio', 'de'), ('de', 'Janeiro'), ('Janeiro', ':'), (':', 'Nova'), ('Nova', 'Aguilar'), ('Aguilar', ','), (',', '1994'), ('1994', '.'), ('.', 'Publicado'), ('Publicado', 'originalmente'), ('originalmente', 'pela'), ('pela', 'Editora'), ('Editora', 'Garnier'), ('Garnier', ','), (',', 'Rio'), ('Rio', 'de'), ('de', 'Janeiro'), ('Janeiro', ','), (',', 'em'), ('em', '1870'), ('1870', '.'), ('.', 'ÍNDICE'), ('ÍNDICE', 'MISS'), ('MISS', 'DOLLAR'), ('DOLLAR', 'LUÍS'), ('LUÍS', 'SOARES')]\n",
            "[('Conto',), ('Conto', ','), ('Conto', ',', 'Contos'), (',',), (',', 'Contos'), (',', 'Contos', 'Fluminenses'), ('Contos',), ('Contos', 'Fluminenses'), ('Contos', 'Fluminenses', ','), ('Fluminenses',), ('Fluminenses', ','), ('Fluminenses', ',', '1870'), (',',), (',', '1870'), (',', '1870', 'Contos'), ('1870',), ('1870', 'Contos'), ('1870', 'Contos', 'Fluminenses'), ('Contos',), ('Contos', 'Fluminenses'), ('Contos', 'Fluminenses', 'Texto'), ('Fluminenses',), ('Fluminenses', 'Texto'), ('Fluminenses', 'Texto', '-'), ('Texto',), ('Texto', '-'), ('Texto', '-', 'fonte'), ('-',), ('-', 'fonte'), ('-', 'fonte', ':'), ('fonte',), ('fonte', ':'), ('fonte', ':', 'Obra'), (':',), (':', 'Obra'), (':', 'Obra', 'Completa'), ('Obra',), ('Obra', 'Completa'), ('Obra', 'Completa', ','), ('Completa',), ('Completa', ','), ('Completa', ',', 'Machado'), (',',), (',', 'Machado'), (',', 'Machado', 'de'), ('Machado',), ('Machado', 'de'), ('Machado', 'de', 'Assis'), ('de',), ('de', 'Assis'), ('de', 'Assis', ','), ('Assis',), ('Assis', ','), ('Assis', ',', 'vol'), (',',), (',', 'vol'), (',', 'vol', '.'), ('vol',), ('vol', '.'), ('vol', '.', 'II'), ('.',), ('.', 'II'), ('.', 'II', ','), ('II',), ('II', ','), ('II', ',', 'Rio'), (',',), (',', 'Rio'), (',', 'Rio', 'de'), ('Rio',), ('Rio', 'de'), ('Rio', 'de', 'Janeiro'), ('de',), ('de', 'Janeiro'), ('de', 'Janeiro', ':'), ('Janeiro',), ('Janeiro', ':'), ('Janeiro', ':', 'Nova'), (':',), (':', 'Nova'), (':', 'Nova', 'Aguilar'), ('Nova',), ('Nova', 'Aguilar'), ('Nova', 'Aguilar', ','), ('Aguilar',), ('Aguilar', ','), ('Aguilar', ',', '1994'), (',',), (',', '1994'), (',', '1994', '.'), ('1994',), ('1994', '.'), ('1994', '.', 'Publicado'), ('.',), ('.', 'Publicado'), ('.', 'Publicado', 'originalmente'), ('Publicado',), ('Publicado', 'originalmente'), ('Publicado', 'originalmente', 'pela'), ('originalmente',), ('originalmente', 'pela'), ('originalmente', 'pela', 'Editora'), ('pela',), ('pela', 'Editora'), ('pela', 'Editora', 'Garnier'), ('Editora',), ('Editora', 'Garnier'), ('Editora', 'Garnier', ','), ('Garnier',), ('Garnier', ','), ('Garnier', ',', 'Rio'), (',',), (',', 'Rio'), (',', 'Rio', 'de'), ('Rio',), ('Rio', 'de'), ('Rio', 'de', 'Janeiro'), ('de',), ('de', 'Janeiro'), ('de', 'Janeiro', ','), ('Janeiro',), ('Janeiro', ','), ('Janeiro', ',', 'em'), (',',), (',', 'em'), (',', 'em', '1870'), ('em',), ('em', '1870'), ('em', '1870', '.'), ('1870',), ('1870', '.'), ('1870', '.', 'ÍNDICE'), ('.',), ('.', 'ÍNDICE'), ('.', 'ÍNDICE', 'MISS'), ('ÍNDICE',), ('ÍNDICE', 'MISS'), ('ÍNDICE', 'MISS', 'DOLLAR'), ('MISS',), ('MISS', 'DOLLAR'), ('MISS', 'DOLLAR', 'LUÍS'), ('DOLLAR',), ('DOLLAR', 'LUÍS'), ('DOLLAR', 'LUÍS', 'SOARES'), ('LUÍS',), ('LUÍS', 'SOARES'), ('SOARES',)]\n"
          ]
        }
      ],
      "source": [
        "from nltk.lm.preprocessing import pad_both_ends\n",
        "from nltk.lm.preprocessing import flatten\n",
        "from nltk.util import bigrams,everygrams\n",
        "print(machado.sents()[:10])\n",
        "print(list(bigrams(flatten(machado.sents()[:10]))))\n",
        "# print(list(everygrams(flatten(machado.sents()[:10]), max_len=3, min_len=3)))\n",
        "print(list(everygrams(flatten(machado.sents()[:10]), max_len=3)))\n"
      ]
    },
    {
      "cell_type": "markdown",
      "metadata": {
        "id": "bm7aWspF7uCy"
      },
      "source": [
        "Comumente, na preparação dos textos, marcamos o início e final de cada sentença com marcadores especiais para delimitar o início e fim da sentença"
      ]
    },
    {
      "cell_type": "code",
      "execution_count": 3,
      "metadata": {
        "colab": {
          "base_uri": "https://localhost:8080/"
        },
        "id": "PjEqQ6iDjYay",
        "outputId": "f72eebd8-4e79-42c0-9e67-2eafb9ce0fa7"
      },
      "outputs": [
        {
          "name": "stdout",
          "output_type": "stream",
          "text": [
            "['<s>', 'Conto', ',', 'Contos', 'Fluminenses', ',', '1870', '</s>']\n",
            "[('<s>', 'Conto'), ('Conto', ','), (',', 'Contos'), ('Contos', 'Fluminenses'), ('Fluminenses', ','), (',', '1870'), ('1870', '</s>')]\n"
          ]
        }
      ],
      "source": [
        "from nltk.lm.preprocessing import pad_both_ends\n",
        "padded_sents = list(pad_both_ends(machado.sents()[0],n=2))\n",
        "print(padded_sents)\n",
        "bigramas = list(bigrams(padded_sents))\n",
        "print(bigramas)"
      ]
    },
    {
      "cell_type": "markdown",
      "metadata": {
        "id": "5of4cJ5X7_Iq"
      },
      "source": [
        "Vamos treinar um modelo de maximização da verossimilhança esperada (MLE)"
      ]
    },
    {
      "cell_type": "code",
      "execution_count": 4,
      "metadata": {
        "id": "DqOrCuHVh0GU"
      },
      "outputs": [],
      "source": [
        "from nltk.lm.preprocessing import padded_everygram_pipeline\n",
        "from nltk.lm.models import MLE\n",
        "import re\n",
        "from sklearn.model_selection import train_test_split\n",
        "files = [fileid for fileid in machado.fileids() if re.match(\"romance\",fileid)]\n",
        "data = machado.sents(fileids=files)\n",
        "train_data, test_data = train_test_split(data,test_size=0.3)\n",
        "train, vocab = padded_everygram_pipeline(2, train_data)\n",
        "lm = MLE(2)\n",
        "\n",
        "lm.fit(train,vocab)"
      ]
    },
    {
      "cell_type": "markdown",
      "metadata": {
        "id": "gsIFbLw58YVA"
      },
      "source": [
        "Vamos investigar um pouco o que está sendo representado nesse modelo.\n",
        "   - O atributo counts do modelo armazena o dicionário que associa a cada contexto uma distribuição de probabilidade discreta sobre as palavras do vocabulario\n",
        "   - Podemos então calcular a probabilidade de uma palavra (ou de uma palavra dado um contexto) a partir dele"
      ]
    },
    {
      "cell_type": "code",
      "execution_count": 8,
      "metadata": {
        "colab": {
          "base_uri": "https://localhost:8080/"
        },
        "id": "I9Z2CpLgkc-D",
        "outputId": "374cf413-0963-4e5f-8111-d623604279e0"
      },
      "outputs": [
        {
          "name": "stdout",
          "output_type": "stream",
          "text": [
            "<NgramCounter with 3 ngram orders and 1006029 ngrams>\n",
            "7\n",
            "P('cigana')= 3.875045289591822e-06\n",
            "P('cigana'|'olhos','de')= 0\n",
            "26700\n"
          ]
        }
      ],
      "source": [
        "print(lm.counts)\n",
        "print(lm.counts['Conto'])\n",
        "print(\"P('cigana')=\",lm.score(\"cigana\"))\n",
        "print(\"P('cigana'|'olhos','de')=\",lm.score(\"cigana\", [\"olhos\",\"de\"]))\n",
        "\n",
        "print(len(lm.vocab))"
      ]
    },
    {
      "cell_type": "markdown",
      "metadata": {
        "id": "Ut4uWpqJ9Bxb"
      },
      "source": [
        "Note que a expressão \"olhos de cigana\" aparece com pouquíssima frequência no texto e portanto, a probabilidade $P(\\mbox{cigana}|\\mbox{olhos},\\mbox{de})$ é muito baixa.\n",
        "\n",
        "Dado um conjunto de dados de teste, podemos também avaliar o modelo treinado com base nesses dados através da métrica de perplexidade"
      ]
    },
    {
      "cell_type": "code",
      "execution_count": null,
      "metadata": {
        "colab": {
          "base_uri": "https://localhost:8080/"
        },
        "id": "YyGlPY8cpuHM",
        "outputId": "214ee388-54b3-470e-c253-73209a39139a"
      },
      "outputs": [],
      "source": [
        "# lm.perplexity(test_data)\n",
        "\n",
        "from nltk.lm.preprocessing import padded_everygram_pipeline\n",
        "test_set = list(padded_everygram_pipeline(2, (test_data)))\n",
        "lm.perplexity(everygrams(flatten(test_data), 2))"
      ]
    },
    {
      "cell_type": "code",
      "execution_count": 10,
      "metadata": {
        "id": "Ahu3dbNFdEP9"
      },
      "outputs": [],
      "source": [
        "from collections import *\n",
        "from random import random\n",
        "def normalize(counter):\n",
        "   s = float(sum(counter.values()))\n",
        "   return [(c,cnt/s) for c,cnt in counter.items()]\n",
        "\n",
        "\n",
        "def train_char_lm(texts, order=4):\n",
        "    lm = defaultdict(Counter)\n",
        "    for text in texts:\n",
        "       data = text\n",
        "       pad = \"~\" * order\n",
        "       data = pad + data + (\"</s>\"*order)\n",
        "       for i in range(len(data)-order):\n",
        "         for j in range(1, order):\n",
        "           history, char = data[i:i+j], data[i+j]\n",
        "           lm[history][char]+=1\n",
        "    outlm = {hist:normalize(chars) for hist, chars in lm.items()}\n",
        "    return outlm\n",
        "\n"
      ]
    },
    {
      "cell_type": "code",
      "execution_count": 11,
      "metadata": {
        "id": "h0onH-WNdPHJ"
      },
      "outputs": [],
      "source": [
        "def generate_letter(lm, history, order):\n",
        "        history = history[-order:]\n",
        "        dist = []\n",
        "        while dist == [] and history != '':\n",
        "           try:\n",
        "              dist = lm[history]\n",
        "           except:\n",
        "              history = history[1:]\n",
        "        x = random()\n",
        "        for c,v in dist:\n",
        "            x = x - v\n",
        "            if x <= 0: return c"
      ]
    },
    {
      "cell_type": "code",
      "execution_count": 12,
      "metadata": {
        "id": "wEdZf_45e2SC"
      },
      "outputs": [],
      "source": [
        "def generate_text(lm, order, nletters=1000):\n",
        "    history = \"~\" * order\n",
        "    out = []\n",
        "    for i in range(nletters):\n",
        "        c = generate_letter(lm, history, order)\n",
        "        history = history[-order:] + c\n",
        "        out.append(c)\n",
        "    return \"\".join(out)"
      ]
    },
    {
      "cell_type": "code",
      "execution_count": 13,
      "metadata": {
        "colab": {
          "base_uri": "https://localhost:8080/"
        },
        "id": "NPrxQhiRfHbA",
        "outputId": "17cfc4a0-72cc-44d7-be47-060426c93f10"
      },
      "outputs": [
        {
          "name": "stderr",
          "output_type": "stream",
          "text": [
            "[nltk_data] Downloading package machado to\n",
            "[nltk_data]     C:\\Users\\oknotok\\AppData\\Roaming\\nltk_data...\n",
            "[nltk_data]   Package machado is already up-to-date!\n"
          ]
        },
        {
          "data": {
            "text/plain": [
              "True"
            ]
          },
          "execution_count": 13,
          "metadata": {},
          "output_type": "execute_result"
        }
      ],
      "source": [
        "import nltk\n",
        "nltk.download(\"machado\")"
      ]
    },
    {
      "cell_type": "code",
      "execution_count": 14,
      "metadata": {
        "colab": {
          "base_uri": "https://localhost:8080/",
          "height": 328
        },
        "id": "w0RzObNxe7hF",
        "outputId": "a9b72a87-a108-4392-9223-28f431ca86f5"
      },
      "outputs": [],
      "source": [
        "from nltk.corpus import machado\n",
        "import re\n",
        "order = 15\n",
        "files = [fileid for fileid in machado.fileids() if re.match(\"romance/\",fileid)]\n",
        "texts = [machado.raw(fileids=[file]) for file in files]\n",
        "lm = train_char_lm(texts, order=order)"
      ]
    },
    {
      "cell_type": "code",
      "execution_count": 15,
      "metadata": {
        "colab": {
          "base_uri": "https://localhost:8080/"
        },
        "id": "H2zlAzWbe8Iz",
        "outputId": "517a0faa-886c-4ade-d617-2643ea8e48b7"
      },
      "outputs": [
        {
          "name": "stdout",
          "output_type": "stream",
          "text": [
            "~ROMANCE, Memorial de Aires,1908\n",
            "\n",
            "Memorial de\n",
            "Aires\n",
            "\n",
            "Texto-fonte:\n",
            "Obra Completa, Machado de\n",
            "Assis,\n",
            "Rio\n",
            "de Janeiro: Editora\n",
            "  Nova Aguilar, Rio de Janeiro, 1904.\n",
            "\n",
            "ADVERTÊNCIA DA PRIMEIRA\n",
            "  EDIÇÃO\n",
            "\n",
            "Não sei o que ela disse a Natividade? Não fez mais que ameaçá-la com palavras de tristeza. Não vinha alegre, a filha, que ela\n",
            "morreria talvez\n",
            "se me calasse, do mesmo modo...\n",
            "\n",
            "-- De outro modo, ambos eles podiam ser felizes.\n",
            "\n",
            "Meneses repeliu a idéia de fazer\n",
            "  confidência da mãe.\n",
            "  A impressão foi profunda e dolorosa, mas o sentido era este. E Fidélia deixaria\n",
            "a mesa sem chorar, como Pedro chorou depois do galo.\n",
            "\n",
            "Tudo imaginações! Crede-me: há tiranos de\n",
            "intenção. Quem sabe? Não conhecia\n",
            "  a hipocrisia, a perfídia da serpente e da\n",
            "desobediência do homem, ainda a engraxar botas, é sublime.\n",
            "\n",
            "CAPÍTULO XVIII / VISÃO DO\n",
            "CORREDOR\n",
            "\n",
            "No fim da escada, ao fundo do\n",
            "corredor escuro, parei alguns instantes de silêncio, ergueu-se e foi\n",
            "  dali ao gabinete de Estácio.\n",
            "  Será ela que está ali, com uma senhora idosa, arrastando um pouco os pés, e dando o braço a uma\n",
            "  moça alta e fina.\n",
            "\n",
            "-- Ande para aqui,\n",
            "  baronesa, disse-lhe D. Fernanda, relativamente doces e honestas, ficando o veneno ou a intenção recôndita e lhe recomendou segredo, ela acabava de me revelar\n",
            "tudo; mas o coração\n",
            "aprova, que digo? ele mesmo escreve estas letras. Não é a minha pena, não são os\n",
            "meus lábios que lhe falam deste modo, são todas as forças físicas e morais de Fidélia, e hoje outra de Tristão, em que este lhe anuncia que embarca\n",
            "no paquete inglês para cá; deve chegar a 23 ou 24. A alegria com que eles leram\n",
            "esta notícia foi naturalmente, continuou ele, não\n",
            "precisa de prendas da cidade. Uma noite, indo a deitar-lhe os braços, como se\n",
            "fosse de outro, era um verso magnífico. Sonoro, não há dúvida;\n",
            "melhor que padre só cônego, por causa de uma gratificação, se não bastavam duas moedas. Talvez\n",
            "uma. Com efeito, a mão do\n",
            "nosso amigo. Camacho não lhe disse mais nada; procurou-o no dia seguinte, as amarguras engolidas,\n",
            "as raivas sopitadas; contou-me que ele andava com suas esperanças, e alguma vez das realidades, se a vocação o impõe e a ocasião o\n",
            "permite. Também é preciso ter as mesmas idéias pairavam na cabeça de Shakespeare, a tudo quanto tenho padecido, disse Estevão sentando-se na cama; mas que queres tu, minha\n",
            "  pobre égua? continuou a inglesa deitando os olhos estavam pregados na criança. Era tão gentil, com o vestido\n",
            "soberbo que havia de ter notícia\n",
            "freqüente do enfermo, e achou que era a melhor coisa do mundo; pura questão\n",
            "  de temperamento do rapaz. Deixei de lá ir cinco dias;\n",
            "  apareci a 20 de agosto.\n",
            "\n",
            "CAPÍTULO III\n",
            "\n",
            "Um criado trouxe o\n",
            "café. Rubião pegou-lhe do braço; a moça estremeceu e\n",
            "  ficou igualmente séria.\n",
            "\n",
            "-- Não! murmurou; minha\n",
            "  dívida não tem limites.\n",
            "\n",
            "Esta palavra obscura e\n",
            "incompleta era repetida na rua, examinei ainda\n",
            "comigo se efetivamente terna, ainda que de igual preço. Mortifica-se\n",
            "naturalmente; mas podia ser íntimo, escondido, pessoal, e acaso estranho. Supõe\n",
            "um fio de anedotas ou uma história simples,\n",
            "acontecida e por acontecer; o que poderás ver nos dois capítulos que faltam e\n",
            "são curtos.\n",
            "\n",
            "CAPÍTULO LXXXV / O CIMO DA\n",
            "MONTANHA\n",
            "\n",
            "Quem escapa a um perigo ama a vida\n",
            "com outra intensidade. Mortos ambos, todas as\n",
            "suas saudades filiais e matrimoniais foram postas na cabeça das duas filhas.\n",
            "\n",
            "Uma fugira-lhe,\n",
            "casando. Ameaçada da solidão, se a outra casasse também, D. Maria Augusta não compreende,\n",
            "  nem avalia. Eu não teria ânimo de vê-lo; foi tão nosso\n",
            "amigo, que não sei se\n",
            "estava na idéia, se no gesto, se na palavra. Não é que falasse mal de ninguém,\n",
            "e aliás seria uma distração. Quero crer que a razão do dissentimento houvera naquele\n",
            "  dia. Eugênia parecia modificada. Em casa esperava-o, porém, uma desagradável?\n",
            "\n",
            " Mas lá em cima há\n",
            "vés vis...\n",
            "\n",
            " Vae victis.\n",
            "Mas é uma frase latina. Podemos arranjar outra coisa; parece que D. Lívia tem um gosto deplorável?\n",
            "\n",
            "A senhora arregaçou levemente a ponta esquerda do lábio\n",
            "  superior, e respondeu:\n",
            "\n",
            "-- Dou.\n",
            "\n",
            "-- Foi ele quem lhe\n",
            "  encomendou...\n",
            "\n",
            "-- O sermão? interrompeu\n",
            "  Félix, venham jantar no dia seguinte, tudo para ser ouvido de um transeunte. Supõe agora que estou velha é que hei de meter-me\n",
            "  em folias... Ele\n",
            "  sim,\n",
            "  que é rapaz -- e precisa...\n",
            "\n",
            "Tive uma suspeita\n",
            "  súbita:\n",
            "\n",
            "-- Minha senhora,\n",
            "  é a maior fortuna a que já agora podemos rasgar...\n",
            "\n",
            "Estela pegou na carta e\n",
            "  rasgou-a lentamente, e mais lentamente a carta, e a hipótese da troça pareceu outra vez mais verossímil.\n",
            "Concordou que ele tinha medo  não medo de mim, nem de si, nem do\n",
            "código, nem da consciência.\n",
            "\n",
            "Estevão, que aliás nada disse, porque o atribuíra à\n",
            "  comoção natural dos\n",
            "cobradores, resmungou na rua:\n",
            "\n",
            " Ora aqui está um\n",
            "homem que detesta a folha e paga. Quantos a adoram e não pagam!\n",
            "\n",
            "CAPÍTULO CXXXVI\n",
            "\n",
            "O cobrador não foi ao\n",
            "diabo; recebeu o preço do semestre e, como possuía a\n",
            "  qualidade me chama para ele, ou se todas me faltam, -- em cujo caso, como em\n",
            "  outro campo já tenho trabalhado tanto por você,\n",
            "eu que o faço amigo dos meus amig\n"
          ]
        }
      ],
      "source": [
        "\n",
        "text = generate_text(lm, order, nletters=5000)\n",
        "print(text)"
      ]
    },
    {
      "cell_type": "code",
      "execution_count": 16,
      "metadata": {
        "id": "Dfl_rLiBe4Lj"
      },
      "outputs": [],
      "source": [
        "def generate_from_prompt(lm, prompt, order, nletters=1000):\n",
        "    history = \"~\" * (order-len(prompt)) + prompt[-order:]\n",
        "    out = []\n",
        "    out.extend(prompt)\n",
        "    for i in range(nletters):\n",
        "        c = generate_letter(lm, history, order)\n",
        "        history = history[-order+1:] + c\n",
        "        out.append(c)\n",
        "    return \"\".join(out)"
      ]
    },
    {
      "cell_type": "code",
      "execution_count": 29,
      "metadata": {
        "colab": {
          "base_uri": "https://localhost:8080/"
        },
        "id": "2FBP5NpafCCC",
        "outputId": "f854a649-e014-44bc-99fe-f201059720c3"
      },
      "outputs": [
        {
          "name": "stdout",
          "output_type": "stream",
          "text": [
            "ao verme\n",
            "que\n",
            "primeiro roeu as frias\n",
            "carnes\n",
            "do meu cadáver\n",
            "\n",
            "dedico\n",
            "como saudosa lembrança\n",
            "\n",
            "estas\n",
            "Memórias\n",
            "Póstumas\n",
            "\n",
            "Prólogo da terceira\n",
            "edição\n",
            "\n",
            "A primeira edição destas\n",
            "Memórias Póstumas de Brás Cubas, descobri uma\n",
            "lei sublime, a lei da equivalência das janelas, e estabeleci que o modo de\n",
            "compensar uma janela fechada;\n",
            "eu abri outra com o gesto de\n",
            "aproximação. Certo é que Capitu recuou um pouco para deixá-la\n",
            "passar. Os olhos com que o buscava, os apertos de mão\n",
            "significativos e\n",
            "  eloqüentes. Não era recente a afeição dela; era talvez a parte mais enfadonha do sistema,\n",
            "posto que concebida com um formidável rigor de lógica. Reorganizada a sociedade\n",
            "pelo método dele, nem por isso a história morre.\n",
            "\n",
            "Resta saber (é o ponto escuro)\n",
            "como é que Santos pôde calar por longos dias um negócio tão importante para ele, como a procurar por\n",
            "onde começaria. Quando os levantou deu com a inglesa. Ia já falar, mas estacou.\n",
            "A afeição que lhe tinha não impediu que achasse demasiada familiaridade que existia entre ela\n"
          ]
        }
      ],
      "source": [
        "prompt = \"ao verme\"\n",
        "text = generate_from_prompt(lm,prompt,order)\n",
        "print(text)\n"
      ]
    },
    {
      "cell_type": "code",
      "execution_count": 31,
      "metadata": {
        "colab": {
          "base_uri": "https://localhost:8080/"
        },
        "id": "fgWsQqN1v9x_",
        "outputId": "8b1c7434-4c1d-4b76-cf61-a450bbff0200"
      },
      "outputs": [
        {
          "name": "stdout",
          "output_type": "stream",
          "text": [
            "Requirement already satisfied: datasets in c:\\users\\oknotok\\appdata\\roaming\\python\\python311\\site-packages (2.18.0)\n",
            "Requirement already satisfied: filelock in c:\\python311\\lib\\site-packages (from datasets) (3.12.0)\n",
            "Requirement already satisfied: numpy>=1.17 in c:\\python311\\lib\\site-packages (from datasets) (1.24.3)\n",
            "Requirement already satisfied: pyarrow>=12.0.0 in c:\\python311\\lib\\site-packages (from datasets) (15.0.2)\n",
            "Requirement already satisfied: pyarrow-hotfix in c:\\python311\\lib\\site-packages (from datasets) (0.6)\n",
            "Requirement already satisfied: dill<0.3.9,>=0.3.0 in c:\\python311\\lib\\site-packages (from datasets) (0.3.8)\n",
            "Requirement already satisfied: pandas in c:\\python311\\lib\\site-packages (from datasets) (2.0.2)\n",
            "Requirement already satisfied: requests>=2.19.0 in c:\\python311\\lib\\site-packages (from datasets) (2.32.3)\n",
            "Requirement already satisfied: tqdm>=4.62.1 in c:\\python311\\lib\\site-packages (from datasets) (4.65.0)\n",
            "Requirement already satisfied: xxhash in c:\\python311\\lib\\site-packages (from datasets) (3.4.1)\n",
            "Requirement already satisfied: multiprocess in c:\\users\\oknotok\\appdata\\roaming\\python\\python311\\site-packages (from datasets) (0.70.16)\n",
            "Requirement already satisfied: fsspec<=2024.2.0,>=2023.1.0 in c:\\python311\\lib\\site-packages (from fsspec[http]<=2024.2.0,>=2023.1.0->datasets) (2024.2.0)\n",
            "Requirement already satisfied: aiohttp in c:\\users\\oknotok\\appdata\\roaming\\python\\python311\\site-packages (from datasets) (3.9.5)\n",
            "Requirement already satisfied: huggingface-hub>=0.19.4 in c:\\python311\\lib\\site-packages (from datasets) (0.22.2)\n",
            "Requirement already satisfied: packaging in c:\\python311\\lib\\site-packages (from datasets) (23.2)\n",
            "Requirement already satisfied: pyyaml>=5.1 in c:\\python311\\lib\\site-packages (from datasets) (6.0)\n",
            "Requirement already satisfied: aiosignal>=1.1.2 in c:\\users\\oknotok\\appdata\\roaming\\python\\python311\\site-packages (from aiohttp->datasets) (1.3.1)\n",
            "Requirement already satisfied: attrs>=17.3.0 in c:\\python311\\lib\\site-packages (from aiohttp->datasets) (23.1.0)\n",
            "Requirement already satisfied: frozenlist>=1.1.1 in c:\\python311\\lib\\site-packages (from aiohttp->datasets) (1.4.1)\n",
            "Requirement already satisfied: multidict<7.0,>=4.5 in c:\\python311\\lib\\site-packages (from aiohttp->datasets) (6.0.5)\n",
            "Requirement already satisfied: yarl<2.0,>=1.0 in c:\\users\\oknotok\\appdata\\roaming\\python\\python311\\site-packages (from aiohttp->datasets) (1.9.4)\n",
            "Requirement already satisfied: typing-extensions>=3.7.4.3 in c:\\python311\\lib\\site-packages (from huggingface-hub>=0.19.4->datasets) (4.11.0)\n",
            "Requirement already satisfied: charset-normalizer<4,>=2 in c:\\python311\\lib\\site-packages (from requests>=2.19.0->datasets) (3.1.0)\n",
            "Requirement already satisfied: idna<4,>=2.5 in c:\\python311\\lib\\site-packages (from requests>=2.19.0->datasets) (3.4)\n",
            "Requirement already satisfied: urllib3<3,>=1.21.1 in c:\\python311\\lib\\site-packages (from requests>=2.19.0->datasets) (2.2.0)\n",
            "Requirement already satisfied: certifi>=2017.4.17 in c:\\python311\\lib\\site-packages (from requests>=2.19.0->datasets) (2023.5.7)\n",
            "Requirement already satisfied: colorama in c:\\python311\\lib\\site-packages (from tqdm>=4.62.1->datasets) (0.4.6)\n",
            "Requirement already satisfied: python-dateutil>=2.8.2 in c:\\python311\\lib\\site-packages (from pandas->datasets) (2.8.2)\n",
            "Requirement already satisfied: pytz>=2020.1 in c:\\python311\\lib\\site-packages (from pandas->datasets) (2023.3)\n",
            "Requirement already satisfied: tzdata>=2022.1 in c:\\python311\\lib\\site-packages (from pandas->datasets) (2023.3)\n",
            "Requirement already satisfied: six>=1.5 in c:\\python311\\lib\\site-packages (from python-dateutil>=2.8.2->pandas->datasets) (1.16.0)\n",
            "Note: you may need to restart the kernel to use updated packages.\n"
          ]
        },
        {
          "name": "stderr",
          "output_type": "stream",
          "text": [
            "DEPRECATION: Loading egg at c:\\python311\\lib\\site-packages\\vboxapi-1.0-py3.11.egg is deprecated. pip 24.3 will enforce this behaviour change. A possible replacement is to use pip for package installation.. Discussion can be found at https://github.com/pypa/pip/issues/12330\n",
            "\n",
            "[notice] A new release of pip is available: 24.0 -> 24.1.2\n",
            "[notice] To update, run: python.exe -m pip install --upgrade pip\n"
          ]
        },
        {
          "name": "stdout",
          "output_type": "stream",
          "text": [
            "Requirement already satisfied: pyarrow in c:\\python311\\lib\\site-packages (15.0.2)\n",
            "Requirement already satisfied: numpy<2,>=1.16.6 in c:\\python311\\lib\\site-packages (from pyarrow) (1.24.3)\n",
            "Note: you may need to restart the kernel to use updated packages.\n"
          ]
        },
        {
          "name": "stderr",
          "output_type": "stream",
          "text": [
            "DEPRECATION: Loading egg at c:\\python311\\lib\\site-packages\\vboxapi-1.0-py3.11.egg is deprecated. pip 24.3 will enforce this behaviour change. A possible replacement is to use pip for package installation.. Discussion can be found at https://github.com/pypa/pip/issues/12330\n",
            "\n",
            "[notice] A new release of pip is available: 24.0 -> 24.1.2\n",
            "[notice] To update, run: python.exe -m pip install --upgrade pip\n"
          ]
        }
      ],
      "source": [
        "%pip install datasets==2.14.7\n",
        "%pip install pyarrow==16.1.0"
      ]
    },
    {
      "cell_type": "code",
      "execution_count": null,
      "metadata": {
        "id": "O5C-g0sNpQcg"
      },
      "outputs": [],
      "source": [
        "import torch\n",
        "import torch.nn as nn\n",
        "import pyarrow as pa\n",
        "\n",
        "class CharLM(nn.Module):\n",
        "   def __init__(self,vocab,order, hidden_size=100,num_layers=3,dropout = 0.5):\n",
        "      super().__init__()\n",
        "      if len(vocab)<=1:\n",
        "         raise Exception(\"Vocabulário deve ter pelo menos dois símbolos\")\n",
        "      self.id2voc ={0:\"<UNK>\", 1:'<PAD>',2:\"<s>\",3:\"</s>\"}\n",
        "      self.id2voc.update({i+3:c for i,c in enumerate(vocab)})\n",
        "      self.voc2id = {self.id2voc[key]:key for key in self.id2voc}\n",
        "      self.hidden_size = hidden_size\n",
        "      self.input_size = order\n",
        "      self.lstm = nn.LSTM(self.input_size,self.hidden_size,num_layers=num_layers,batch_first=True)\n",
        "      self.dropout = nn.Dropout(p=dropout)\n",
        "      self.out_head = nn.Linear(self.hidden_size,len(self.id2voc))\n",
        "      self.relu = nn.ReLU()\n",
        "   def forward(self,contexts,labels=None):\n",
        "      if len(contexts.shape) == 1:\n",
        "         contexts=contexts.unsqueeze(dim=0)\n",
        "      loss_fn = nn.CrossEntropyLoss()\n",
        "      encoded = self.lstm(contexts)[0]\n",
        "      if self.train:\n",
        "         encoded = self.dropout(encoded)\n",
        "      logits = self.relu(self.out_head(encoded))\n",
        "      loss = None\n",
        "      if labels!=None:\n",
        "         loss = loss_fn(logits,labels)\n",
        "      if loss:\n",
        "         return (loss,torch.multinomial(logits.softmax(dim=-1), num_samples=1))\n",
        "      else:\n",
        "         return torch.multinomial(logits.softmax(dim=1),num_samples=1)\n",
        "   def predict(self,text,n_letters=1):\n",
        "      device = torch.device(\"cuda:0\" if torch.cuda.is_available() else \"cpu\")\n",
        "      outputs = list(text)\n",
        "      inputs = [float(self.voc2id[\"<PAD>\"])]*(self.input_size-len(text)-1)\n",
        "      if len(text)<self.input_size:\n",
        "         inputs;append(float(self.voc2id[\"<s>\"]))\n",
        "      inputs.extend([float(self.voc2id[c]) if c in self.voc2id else float(self.voc2id[\"<UNK>\"])\n",
        "                        for c in outputs[-self.input_size:]\n",
        "                    ])\n",
        "      for i in range(n_letters):\n",
        "         predicted = self.forward(torch.tensor(inputs).to(device))[0]\n",
        "         outputs.append(self.id2voc[predicted.item()])\n",
        "         inputs = inputs[1:]\n",
        "         inputs.append(float(predicted))\n",
        "      return \"\".join(outputs)\n",
        "   def convert_texts_to_contexts(self,texts):\n",
        "      contexts = []\n",
        "      labels = []\n",
        "      for text in texts:\n",
        "         converted = [self.voc2id[\"<PAD>\"]]*(self.input_size-1)\n",
        "         converted.append(self.voc2id[\"<s>\"])\n",
        "         converted.extend([self.voc2id[c] if c in self.voc2id else self.voc2id['<UNK>']\n",
        "                              for c in list(text)\n",
        "                          ])\n",
        "         converted.extend([self.voc2id[\"</s>\"]]*self.input_size)\n",
        "         for i in range(len(converted)-self.input_size):\n",
        "            contexts.append([float(i) for i in converted[i:i+self.input_size]])\n",
        "            labels.append(converted[i+self.input_size])\n",
        "      return pa.table([contexts,labels],names=[\"contexts\",\"labels\"])\n"
      ]
    },
    {
      "cell_type": "code",
      "execution_count": null,
      "metadata": {
        "id": "OMkrQkCIpaE5"
      },
      "outputs": [],
      "source": [
        "def create_vocab(texts):\n",
        "   text = \"\".join(texts)\n",
        "   return set(list(text))\n"
      ]
    },
    {
      "cell_type": "code",
      "execution_count": null,
      "metadata": {
        "id": "Ns9OM7pMvSqo"
      },
      "outputs": [],
      "source": [
        "from nltk.corpus import machado\n",
        "import re\n",
        "\n",
        "files = [fileid for fileid in machado.fileids() if re.match(\"romance/\",fileid)]\n",
        "texts = [machado.raw(fileids=[file]) for file in files]\n",
        "order = 15\n",
        "vocab = create_vocab(texts)\n",
        "model = CharLM(vocab,order)"
      ]
    },
    {
      "cell_type": "code",
      "execution_count": null,
      "metadata": {
        "colab": {
          "base_uri": "https://localhost:8080/"
        },
        "id": "lSyXMmA5vj4k",
        "outputId": "f6374a8e-4521-4852-91c2-b2b96126327c"
      },
      "outputs": [
        {
          "data": {
            "text/plain": [
              "Dataset({\n",
              "    features: ['contexts', 'labels'],\n",
              "    num_rows: 3098589\n",
              "})"
            ]
          },
          "execution_count": 83,
          "metadata": {},
          "output_type": "execute_result"
        }
      ],
      "source": [
        "from datasets import Dataset\n",
        "dataset = Dataset(model.convert_texts_to_contexts(texts)).with_format(type=\"torch\")\n",
        "dataset"
      ]
    },
    {
      "cell_type": "code",
      "execution_count": null,
      "metadata": {
        "colab": {
          "base_uri": "https://localhost:8080/"
        },
        "id": "qmBMISZ64QMT",
        "outputId": "ef9f5aa1-cc8d-4f99-f983-27343a6f65e4"
      },
      "outputs": [
        {
          "data": {
            "text/plain": [
              "{'contexts': tensor([0., 0., 0., 0., 0., 0., 0., 0., 0., 0., 0., 0., 0., 0., 0.]),\n",
              " 'labels': tensor(32)}"
            ]
          },
          "execution_count": 84,
          "metadata": {},
          "output_type": "execute_result"
        }
      ],
      "source": [
        "dataset[0]"
      ]
    },
    {
      "cell_type": "code",
      "execution_count": null,
      "metadata": {
        "id": "blFv7IX6zGwo"
      },
      "outputs": [],
      "source": [
        "from transformers import TrainingArguments, Trainer\n",
        "training_args =  TrainingArguments(\n",
        "          output_dir = \"./\",\n",
        "          num_train_epochs = 0.25,\n",
        "          eval_strategy= 'no',\n",
        "          auto_find_batch_size=True,\n",
        "          remove_unused_columns=True,\n",
        "      )\n",
        "\n",
        "trainer = Trainer(\n",
        "       model=model,\n",
        "       args=training_args,\n",
        "       train_dataset=dataset,\n",
        "   )"
      ]
    },
    {
      "cell_type": "code",
      "execution_count": null,
      "metadata": {
        "colab": {
          "base_uri": "https://localhost:8080/",
          "height": 351
        },
        "id": "jVTzwolk0c08",
        "outputId": "80b6c57c-042d-4c33-af26-d0ee56473e97"
      },
      "outputs": [
        {
          "data": {
            "text/html": [
              "\n",
              "    <div>\n",
              "      \n",
              "      <progress value='96832' max='96831' style='width:300px; height:20px; vertical-align: middle;'></progress>\n",
              "      [96831/96831 10:16, Epoch 0.25/1]\n",
              "    </div>\n",
              "    <table border=\"1\" class=\"dataframe\">\n",
              "  <thead>\n",
              " <tr style=\"text-align: left;\">\n",
              "      <th>Epoch</th>\n",
              "      <th>Training Loss</th>\n",
              "      <th>Validation Loss</th>\n",
              "    </tr>\n",
              "  </thead>\n",
              "  <tbody>\n",
              "  </tbody>\n",
              "</table><p>"
            ],
            "text/plain": [
              "<IPython.core.display.HTML object>"
            ]
          },
          "metadata": {},
          "output_type": "display_data"
        },
        {
          "ename": "ValueError",
          "evalue": "Trainer: evaluation requires an eval_dataset.",
          "output_type": "error",
          "traceback": [
            "\u001b[0;31m---------------------------------------------------------------------------\u001b[0m",
            "\u001b[0;31mValueError\u001b[0m                                Traceback (most recent call last)",
            "\u001b[0;32m<ipython-input-106-3435b262f1ae>\u001b[0m in \u001b[0;36m<cell line: 1>\u001b[0;34m()\u001b[0m\n\u001b[0;32m----> 1\u001b[0;31m \u001b[0mtrainer\u001b[0m\u001b[0;34m.\u001b[0m\u001b[0mtrain\u001b[0m\u001b[0;34m(\u001b[0m\u001b[0;34m)\u001b[0m\u001b[0;34m\u001b[0m\u001b[0;34m\u001b[0m\u001b[0m\n\u001b[0m",
            "\u001b[0;32m/usr/local/lib/python3.10/dist-packages/transformers/trainer.py\u001b[0m in \u001b[0;36mtrain\u001b[0;34m(self, resume_from_checkpoint, trial, ignore_keys_for_eval, **kwargs)\u001b[0m\n\u001b[1;32m   1930\u001b[0m                 \u001b[0mhf_hub_utils\u001b[0m\u001b[0;34m.\u001b[0m\u001b[0menable_progress_bars\u001b[0m\u001b[0;34m(\u001b[0m\u001b[0;34m)\u001b[0m\u001b[0;34m\u001b[0m\u001b[0;34m\u001b[0m\u001b[0m\n\u001b[1;32m   1931\u001b[0m         \u001b[0;32melse\u001b[0m\u001b[0;34m:\u001b[0m\u001b[0;34m\u001b[0m\u001b[0;34m\u001b[0m\u001b[0m\n\u001b[0;32m-> 1932\u001b[0;31m             return inner_training_loop(\n\u001b[0m\u001b[1;32m   1933\u001b[0m                 \u001b[0margs\u001b[0m\u001b[0;34m=\u001b[0m\u001b[0margs\u001b[0m\u001b[0;34m,\u001b[0m\u001b[0;34m\u001b[0m\u001b[0;34m\u001b[0m\u001b[0m\n\u001b[1;32m   1934\u001b[0m                 \u001b[0mresume_from_checkpoint\u001b[0m\u001b[0;34m=\u001b[0m\u001b[0mresume_from_checkpoint\u001b[0m\u001b[0;34m,\u001b[0m\u001b[0;34m\u001b[0m\u001b[0;34m\u001b[0m\u001b[0m\n",
            "\u001b[0;32m/usr/local/lib/python3.10/dist-packages/accelerate/utils/memory.py\u001b[0m in \u001b[0;36mdecorator\u001b[0;34m(*args, **kwargs)\u001b[0m\n\u001b[1;32m    142\u001b[0m                 \u001b[0;32mraise\u001b[0m \u001b[0mRuntimeError\u001b[0m\u001b[0;34m(\u001b[0m\u001b[0;34m\"No executable batch size found, reached zero.\"\u001b[0m\u001b[0;34m)\u001b[0m\u001b[0;34m\u001b[0m\u001b[0;34m\u001b[0m\u001b[0m\n\u001b[1;32m    143\u001b[0m             \u001b[0;32mtry\u001b[0m\u001b[0;34m:\u001b[0m\u001b[0;34m\u001b[0m\u001b[0;34m\u001b[0m\u001b[0m\n\u001b[0;32m--> 144\u001b[0;31m                 \u001b[0;32mreturn\u001b[0m \u001b[0mfunction\u001b[0m\u001b[0;34m(\u001b[0m\u001b[0mbatch_size\u001b[0m\u001b[0;34m,\u001b[0m \u001b[0;34m*\u001b[0m\u001b[0margs\u001b[0m\u001b[0;34m,\u001b[0m \u001b[0;34m**\u001b[0m\u001b[0mkwargs\u001b[0m\u001b[0;34m)\u001b[0m\u001b[0;34m\u001b[0m\u001b[0;34m\u001b[0m\u001b[0m\n\u001b[0m\u001b[1;32m    145\u001b[0m             \u001b[0;32mexcept\u001b[0m \u001b[0mException\u001b[0m \u001b[0;32mas\u001b[0m \u001b[0me\u001b[0m\u001b[0;34m:\u001b[0m\u001b[0;34m\u001b[0m\u001b[0;34m\u001b[0m\u001b[0m\n\u001b[1;32m    146\u001b[0m                 \u001b[0;32mif\u001b[0m \u001b[0mshould_reduce_batch_size\u001b[0m\u001b[0;34m(\u001b[0m\u001b[0me\u001b[0m\u001b[0;34m)\u001b[0m\u001b[0;34m:\u001b[0m\u001b[0;34m\u001b[0m\u001b[0;34m\u001b[0m\u001b[0m\n",
            "\u001b[0;32m/usr/local/lib/python3.10/dist-packages/transformers/trainer.py\u001b[0m in \u001b[0;36m_inner_training_loop\u001b[0;34m(self, batch_size, args, resume_from_checkpoint, trial, ignore_keys_for_eval)\u001b[0m\n\u001b[1;32m   2363\u001b[0m \u001b[0;34m\u001b[0m\u001b[0m\n\u001b[1;32m   2364\u001b[0m             \u001b[0mself\u001b[0m\u001b[0;34m.\u001b[0m\u001b[0mcontrol\u001b[0m \u001b[0;34m=\u001b[0m \u001b[0mself\u001b[0m\u001b[0;34m.\u001b[0m\u001b[0mcallback_handler\u001b[0m\u001b[0;34m.\u001b[0m\u001b[0mon_epoch_end\u001b[0m\u001b[0;34m(\u001b[0m\u001b[0margs\u001b[0m\u001b[0;34m,\u001b[0m \u001b[0mself\u001b[0m\u001b[0;34m.\u001b[0m\u001b[0mstate\u001b[0m\u001b[0;34m,\u001b[0m \u001b[0mself\u001b[0m\u001b[0;34m.\u001b[0m\u001b[0mcontrol\u001b[0m\u001b[0;34m)\u001b[0m\u001b[0;34m\u001b[0m\u001b[0;34m\u001b[0m\u001b[0m\n\u001b[0;32m-> 2365\u001b[0;31m             \u001b[0mself\u001b[0m\u001b[0;34m.\u001b[0m\u001b[0m_maybe_log_save_evaluate\u001b[0m\u001b[0;34m(\u001b[0m\u001b[0mtr_loss\u001b[0m\u001b[0;34m,\u001b[0m \u001b[0mgrad_norm\u001b[0m\u001b[0;34m,\u001b[0m \u001b[0mmodel\u001b[0m\u001b[0;34m,\u001b[0m \u001b[0mtrial\u001b[0m\u001b[0;34m,\u001b[0m \u001b[0mepoch\u001b[0m\u001b[0;34m,\u001b[0m \u001b[0mignore_keys_for_eval\u001b[0m\u001b[0;34m)\u001b[0m\u001b[0;34m\u001b[0m\u001b[0;34m\u001b[0m\u001b[0m\n\u001b[0m\u001b[1;32m   2366\u001b[0m \u001b[0;34m\u001b[0m\u001b[0m\n\u001b[1;32m   2367\u001b[0m             \u001b[0;32mif\u001b[0m \u001b[0mDebugOption\u001b[0m\u001b[0;34m.\u001b[0m\u001b[0mTPU_METRICS_DEBUG\u001b[0m \u001b[0;32min\u001b[0m \u001b[0mself\u001b[0m\u001b[0;34m.\u001b[0m\u001b[0margs\u001b[0m\u001b[0;34m.\u001b[0m\u001b[0mdebug\u001b[0m\u001b[0;34m:\u001b[0m\u001b[0;34m\u001b[0m\u001b[0;34m\u001b[0m\u001b[0m\n",
            "\u001b[0;32m/usr/local/lib/python3.10/dist-packages/transformers/trainer.py\u001b[0m in \u001b[0;36m_maybe_log_save_evaluate\u001b[0;34m(self, tr_loss, grad_norm, model, trial, epoch, ignore_keys_for_eval)\u001b[0m\n\u001b[1;32m   2791\u001b[0m         \u001b[0mmetrics\u001b[0m \u001b[0;34m=\u001b[0m \u001b[0;32mNone\u001b[0m\u001b[0;34m\u001b[0m\u001b[0;34m\u001b[0m\u001b[0m\n\u001b[1;32m   2792\u001b[0m         \u001b[0;32mif\u001b[0m \u001b[0mself\u001b[0m\u001b[0;34m.\u001b[0m\u001b[0mcontrol\u001b[0m\u001b[0;34m.\u001b[0m\u001b[0mshould_evaluate\u001b[0m\u001b[0;34m:\u001b[0m\u001b[0;34m\u001b[0m\u001b[0;34m\u001b[0m\u001b[0m\n\u001b[0;32m-> 2793\u001b[0;31m             \u001b[0mmetrics\u001b[0m \u001b[0;34m=\u001b[0m \u001b[0mself\u001b[0m\u001b[0;34m.\u001b[0m\u001b[0m_evaluate\u001b[0m\u001b[0;34m(\u001b[0m\u001b[0mtrial\u001b[0m\u001b[0;34m,\u001b[0m \u001b[0mignore_keys_for_eval\u001b[0m\u001b[0;34m)\u001b[0m\u001b[0;34m\u001b[0m\u001b[0;34m\u001b[0m\u001b[0m\n\u001b[0m\u001b[1;32m   2794\u001b[0m \u001b[0;34m\u001b[0m\u001b[0m\n\u001b[1;32m   2795\u001b[0m         \u001b[0;32mif\u001b[0m \u001b[0mself\u001b[0m\u001b[0;34m.\u001b[0m\u001b[0mcontrol\u001b[0m\u001b[0;34m.\u001b[0m\u001b[0mshould_save\u001b[0m\u001b[0;34m:\u001b[0m\u001b[0;34m\u001b[0m\u001b[0;34m\u001b[0m\u001b[0m\n",
            "\u001b[0;32m/usr/local/lib/python3.10/dist-packages/transformers/trainer.py\u001b[0m in \u001b[0;36m_evaluate\u001b[0;34m(self, trial, ignore_keys_for_eval, skip_scheduler)\u001b[0m\n\u001b[1;32m   2748\u001b[0m \u001b[0;34m\u001b[0m\u001b[0m\n\u001b[1;32m   2749\u001b[0m     \u001b[0;32mdef\u001b[0m \u001b[0m_evaluate\u001b[0m\u001b[0;34m(\u001b[0m\u001b[0mself\u001b[0m\u001b[0;34m,\u001b[0m \u001b[0mtrial\u001b[0m\u001b[0;34m,\u001b[0m \u001b[0mignore_keys_for_eval\u001b[0m\u001b[0;34m,\u001b[0m \u001b[0mskip_scheduler\u001b[0m\u001b[0;34m=\u001b[0m\u001b[0;32mFalse\u001b[0m\u001b[0;34m)\u001b[0m\u001b[0;34m:\u001b[0m\u001b[0;34m\u001b[0m\u001b[0;34m\u001b[0m\u001b[0m\n\u001b[0;32m-> 2750\u001b[0;31m         \u001b[0mmetrics\u001b[0m \u001b[0;34m=\u001b[0m \u001b[0mself\u001b[0m\u001b[0;34m.\u001b[0m\u001b[0mevaluate\u001b[0m\u001b[0;34m(\u001b[0m\u001b[0mignore_keys\u001b[0m\u001b[0;34m=\u001b[0m\u001b[0mignore_keys_for_eval\u001b[0m\u001b[0;34m)\u001b[0m\u001b[0;34m\u001b[0m\u001b[0;34m\u001b[0m\u001b[0m\n\u001b[0m\u001b[1;32m   2751\u001b[0m         \u001b[0mself\u001b[0m\u001b[0;34m.\u001b[0m\u001b[0m_report_to_hp_search\u001b[0m\u001b[0;34m(\u001b[0m\u001b[0mtrial\u001b[0m\u001b[0;34m,\u001b[0m \u001b[0mself\u001b[0m\u001b[0;34m.\u001b[0m\u001b[0mstate\u001b[0m\u001b[0;34m.\u001b[0m\u001b[0mglobal_step\u001b[0m\u001b[0;34m,\u001b[0m \u001b[0mmetrics\u001b[0m\u001b[0;34m)\u001b[0m\u001b[0;34m\u001b[0m\u001b[0;34m\u001b[0m\u001b[0m\n\u001b[1;32m   2752\u001b[0m \u001b[0;34m\u001b[0m\u001b[0m\n",
            "\u001b[0;32m/usr/local/lib/python3.10/dist-packages/transformers/trainer.py\u001b[0m in \u001b[0;36mevaluate\u001b[0;34m(self, eval_dataset, ignore_keys, metric_key_prefix)\u001b[0m\n\u001b[1;32m   3632\u001b[0m         \u001b[0mself\u001b[0m\u001b[0;34m.\u001b[0m\u001b[0m_memory_tracker\u001b[0m\u001b[0;34m.\u001b[0m\u001b[0mstart\u001b[0m\u001b[0;34m(\u001b[0m\u001b[0;34m)\u001b[0m\u001b[0;34m\u001b[0m\u001b[0;34m\u001b[0m\u001b[0m\n\u001b[1;32m   3633\u001b[0m \u001b[0;34m\u001b[0m\u001b[0m\n\u001b[0;32m-> 3634\u001b[0;31m         \u001b[0meval_dataloader\u001b[0m \u001b[0;34m=\u001b[0m \u001b[0mself\u001b[0m\u001b[0;34m.\u001b[0m\u001b[0mget_eval_dataloader\u001b[0m\u001b[0;34m(\u001b[0m\u001b[0meval_dataset\u001b[0m\u001b[0;34m)\u001b[0m\u001b[0;34m\u001b[0m\u001b[0;34m\u001b[0m\u001b[0m\n\u001b[0m\u001b[1;32m   3635\u001b[0m         \u001b[0;32mif\u001b[0m \u001b[0mself\u001b[0m\u001b[0;34m.\u001b[0m\u001b[0mis_fsdp_xla_v2_enabled\u001b[0m\u001b[0;34m:\u001b[0m\u001b[0;34m\u001b[0m\u001b[0;34m\u001b[0m\u001b[0m\n\u001b[1;32m   3636\u001b[0m             \u001b[0meval_dataloader\u001b[0m \u001b[0;34m=\u001b[0m \u001b[0mtpu_spmd_dataloader\u001b[0m\u001b[0;34m(\u001b[0m\u001b[0meval_dataloader\u001b[0m\u001b[0;34m)\u001b[0m\u001b[0;34m\u001b[0m\u001b[0;34m\u001b[0m\u001b[0m\n",
            "\u001b[0;32m/usr/local/lib/python3.10/dist-packages/transformers/trainer.py\u001b[0m in \u001b[0;36mget_eval_dataloader\u001b[0;34m(self, eval_dataset)\u001b[0m\n\u001b[1;32m    937\u001b[0m         \"\"\"\n\u001b[1;32m    938\u001b[0m         \u001b[0;32mif\u001b[0m \u001b[0meval_dataset\u001b[0m \u001b[0;32mis\u001b[0m \u001b[0;32mNone\u001b[0m \u001b[0;32mand\u001b[0m \u001b[0mself\u001b[0m\u001b[0;34m.\u001b[0m\u001b[0meval_dataset\u001b[0m \u001b[0;32mis\u001b[0m \u001b[0;32mNone\u001b[0m\u001b[0;34m:\u001b[0m\u001b[0;34m\u001b[0m\u001b[0;34m\u001b[0m\u001b[0m\n\u001b[0;32m--> 939\u001b[0;31m             \u001b[0;32mraise\u001b[0m \u001b[0mValueError\u001b[0m\u001b[0;34m(\u001b[0m\u001b[0;34m\"Trainer: evaluation requires an eval_dataset.\"\u001b[0m\u001b[0;34m)\u001b[0m\u001b[0;34m\u001b[0m\u001b[0;34m\u001b[0m\u001b[0m\n\u001b[0m\u001b[1;32m    940\u001b[0m \u001b[0;34m\u001b[0m\u001b[0m\n\u001b[1;32m    941\u001b[0m         \u001b[0;31m# If we have persistent workers, don't do a fork bomb especially as eval datasets\u001b[0m\u001b[0;34m\u001b[0m\u001b[0;34m\u001b[0m\u001b[0m\n",
            "\u001b[0;31mValueError\u001b[0m: Trainer: evaluation requires an eval_dataset."
          ]
        }
      ],
      "source": [
        "trainer.train()"
      ]
    },
    {
      "cell_type": "code",
      "execution_count": 32,
      "metadata": {
        "colab": {
          "base_uri": "https://localhost:8080/",
          "height": 336,
          "referenced_widgets": [
            "a217edd9f1594f46b92f443238b75ef4",
            "5e69fbef962142979bf9df1463cbee1f",
            "ffe9af5b56764ea489be2bc8f62c63cb",
            "dd6f7af18dc1498abeb1b2d86b700445",
            "2c35221cf33f4f51866d5aa005fdb8eb",
            "b51febbe145a402e9862cdbb7784b7ce",
            "351824e626fe46a48eda6777d30b57c6",
            "5e5e6e2a25294fa2b64b038ee962c6ea",
            "8e94a9adc3094fb0a53ea72ce90a94a6",
            "26550c1fc4cd4ffc932ed247fffea933",
            "faefdd8d31014b269ee1739f34e3813e",
            "439ec6e910b842a59d1055ffb8f8b476",
            "707d61f8e3a14a7ea389d76b7fa6fd62",
            "3b1b7fadad6b49299a363d1f839293f7",
            "1357e6f5358e4853bb54ecd6b6efc23c",
            "5e72c1779d384c7a83b54b61c6e46b69",
            "3e1de9a4e74e4bffa23d5edf41c2320a",
            "cbbf8f0e44724436907b9cb940c5cc2c",
            "372b3cc639e943f388e2e27ac7f3a84c",
            "9c7c3b87b9d247ba90d9c68468d4d1fe",
            "6f27b1ddf1014685a3be3844353288aa",
            "143ea28d74c342aa9c5e3af07e66b10e",
            "3862f4dbf84648008ec5dc46cfa21cd3",
            "c71e60b3a8dc4ab4b104d7317d246597",
            "a3e00202b43e4522b008830a47935778",
            "272ae88df93d4abc9da25a0356419ae7",
            "7902853356494b07a9b4632cca503e57",
            "7f8df1d9d35446b09be51982f9a12934",
            "01d24ae932794909ad096ccd336894e8",
            "f4fde6fb31814279a5dfb02da4a4da61",
            "464b3ea2abba44ff8914e9d564a89457",
            "79f62543413047aa8e8ab4c33e58a8ff",
            "37ecd718b2c646e38a2bc5874413a634",
            "82cd95c47ce54435bdab142dd807b4a1",
            "52fb998a5fdf4241af743b972129d72a",
            "2178ac9e7df84f06ae349cf1887e77df",
            "38d94a57a94046c7a5d7f946d047f0a9",
            "0a9d4c45923046cab722463f4e71f50e",
            "97b8b2224fc24dc6806c6b1ff939b472",
            "4055ec7ef9fd47cba0abd84f6dbbaef5",
            "79ace638574a4835b8a9cc382e3f69bb",
            "0188741a6b9847169efccee68087e7ee",
            "be088b040c6d4fd0823277cf5b607b77",
            "d6374413f3f6487587512cacc396bbf8",
            "b1944dbbe97e48a585c81812f7c4fa6d",
            "3d408f4d739b4c7f8fb34366ee5c8073",
            "8e1d6588ef804dabb4efffac17086431",
            "8911884cc9124c0eaf3f927df47976dc",
            "04e9a6ec926c41d89dfc8051a947ba36",
            "5d4b3483da0f4f73a7356132bb11fbeb",
            "ab4abea05fe14ebfb2d715640eef93ea",
            "1bc870e15c6643d8b9af46a0ca14e9d7",
            "d84dc5946a50434bb39ffb8cd3f7771a",
            "be2c8152063647e6afccabc7b97bbfa2",
            "b6e82b6622fc4e73804ebdd1c7972371",
            "22972412418f4a21bbc6a03e0bd9dfa5",
            "004523f24ebd4373a1847fdff6763298",
            "f3cd2301d56a470e8a4ded1286377475",
            "3a37ca08ff40408baaafb034c7bcde0e",
            "7f11859150044ce2b35c7b3851d8704b",
            "e6cc368a4d2d4ea3b7789e8a9593a375",
            "3f10c966d4354b43ad39988dd3fcbc86",
            "d7953d75fd4e46ff8bef4fa1ceaed091",
            "bceb150dc3de40ffa026654580cc4c6f",
            "1f0a5ac669064ed49977f313dd934696",
            "96bcb9569713451289b7d2256be3a7e3"
          ]
        },
        "id": "vFR9GGo0AEGf",
        "outputId": "404c824d-acca-4bee-ffd9-3a63aa018c65"
      },
      "outputs": [
        {
          "data": {
            "application/vnd.jupyter.widget-view+json": {
              "model_id": "9768519bb26a480195cc62e078e33a37",
              "version_major": 2,
              "version_minor": 0
            },
            "text/plain": [
              "tokenizer_config.json:   0%|          | 0.00/43.0 [00:00<?, ?B/s]"
            ]
          },
          "metadata": {},
          "output_type": "display_data"
        },
        {
          "name": "stderr",
          "output_type": "stream",
          "text": [
            "c:\\Python311\\Lib\\site-packages\\huggingface_hub\\file_download.py:148: UserWarning: `huggingface_hub` cache-system uses symlinks by default to efficiently store duplicated files but your machine does not support them in C:\\Users\\oknotok\\.cache\\huggingface\\hub\\models--neuralmind--bert-base-portuguese-cased. Caching files will still work but in a degraded version that might require more space on your disk. This warning can be disabled by setting the `HF_HUB_DISABLE_SYMLINKS_WARNING` environment variable. For more details, see https://huggingface.co/docs/huggingface_hub/how-to-cache#limitations.\n",
            "To support symlinks on Windows, you either need to activate Developer Mode or to run Python as an administrator. In order to see activate developer mode, see this article: https://docs.microsoft.com/en-us/windows/apps/get-started/enable-your-device-for-development\n",
            "  warnings.warn(message)\n"
          ]
        },
        {
          "data": {
            "application/vnd.jupyter.widget-view+json": {
              "model_id": "f503d527c509424b9bf171cd6f114ff0",
              "version_major": 2,
              "version_minor": 0
            },
            "text/plain": [
              "config.json:   0%|          | 0.00/647 [00:00<?, ?B/s]"
            ]
          },
          "metadata": {},
          "output_type": "display_data"
        },
        {
          "data": {
            "application/vnd.jupyter.widget-view+json": {
              "model_id": "2d7976ddb5bb4acf929936b9564aee61",
              "version_major": 2,
              "version_minor": 0
            },
            "text/plain": [
              "vocab.txt:   0%|          | 0.00/210k [00:00<?, ?B/s]"
            ]
          },
          "metadata": {},
          "output_type": "display_data"
        },
        {
          "data": {
            "application/vnd.jupyter.widget-view+json": {
              "model_id": "bd7aa7c0c9984d74b9be6c5c9eb82caf",
              "version_major": 2,
              "version_minor": 0
            },
            "text/plain": [
              "added_tokens.json:   0%|          | 0.00/2.00 [00:00<?, ?B/s]"
            ]
          },
          "metadata": {},
          "output_type": "display_data"
        },
        {
          "data": {
            "application/vnd.jupyter.widget-view+json": {
              "model_id": "8925343d0afc491dbaea07e45816f8bc",
              "version_major": 2,
              "version_minor": 0
            },
            "text/plain": [
              "special_tokens_map.json:   0%|          | 0.00/112 [00:00<?, ?B/s]"
            ]
          },
          "metadata": {},
          "output_type": "display_data"
        },
        {
          "data": {
            "application/vnd.jupyter.widget-view+json": {
              "model_id": "e8fc0f14e56d4d02bf437760050c0374",
              "version_major": 2,
              "version_minor": 0
            },
            "text/plain": [
              "pytorch_model.bin:   0%|          | 0.00/438M [00:00<?, ?B/s]"
            ]
          },
          "metadata": {},
          "output_type": "display_data"
        }
      ],
      "source": [
        "from transformers import AutoModel, AutoTokenizer\n",
        "model_name = \"neuralmind/bert-base-portuguese-cased\"\n",
        "tokenizer =  AutoTokenizer.from_pretrained(model_name)\n",
        "transf_model = AutoModel.from_pretrained(model_name)"
      ]
    },
    {
      "cell_type": "code",
      "execution_count": 33,
      "metadata": {
        "colab": {
          "base_uri": "https://localhost:8080/"
        },
        "id": "-EsQTDX8AcO-",
        "outputId": "758c4b57-48df-4a68-ea4a-8cb41ba7149d"
      },
      "outputs": [
        {
          "name": "stdout",
          "output_type": "stream",
          "text": [
            " Era conveniente ao romance que o leitor ficasse muito tempo sem saber quem era Miss Dollar. Mas por outro lado, sem a apresentação de Miss Dollar, seria o autor obrigado a longas digressões, que encheriam o papel sem adiantar a ação. Não há hesitação possível: vou apresentar-lhes Miss Dollar.  Se o leitor é rapaz e dado ao gênio melancólico, imagina que Miss Dollar é uma inglesa pálida e delgada, escassa de carnes e de sangue, abrindo à flor do rosto dois grandes olhos azuis e sacudindo ao vento umas longas tranças loiras. A moça em questão deve ser\n",
            "['[CLS]', 'Era', 'conveniente', 'ao', 'romance', 'que', 'o', 'leitor', 'fica', '##s', '##se', 'muito', 'tempo', 'sem', 'saber', 'quem', 'era', 'Miss', 'Dol', '##lar', '.', 'Mas', 'por', 'outro', 'lado', ',', 'sem', 'a', 'apresentação', 'de', 'Miss', 'Dol', '##lar', ',', 'seria', 'o', 'autor', 'obrigado', 'a', 'longas', 'dig', '##ress', '##ões', ',', 'que', 'ench', '##eria', '##m', 'o', 'papel', 'sem', 'adia', '##ntar', 'a', 'ação', '.', 'Não', 'há', 'hes', '##itação', 'possível', ':', 'vou', 'apresentar', '-', 'lhes', 'Miss', 'Dol', '##lar', '.', 'Se', 'o', 'leitor', 'é', 'rapaz', 'e', 'dado', 'ao', 'gên', '##io', 'mel', '##anc', '##ólico', ',', 'imagin', '##a', 'que', 'Miss', 'Dol', '##lar', 'é', 'uma', 'inglesa', 'pá', '##li', '##da', 'e', 'del', '##gada', ',', 'esca', '##s', '##sa', 'de', 'carne', '##s', 'e', 'de', 'sangue', ',', 'abrindo', 'à', 'flor', 'do', 'rosto', 'dois', 'grandes', 'olhos', 'azuis', 'e', 'sa', '##cu', '##din', '##do', 'ao', 'vento', 'umas', 'longas', 'tran', '##ças', 'lo', '##iras', '.', 'A', 'moça', 'em', 'questão', 'deve', 'ser', '[SEP]']\n"
          ]
        }
      ],
      "source": [
        "sent = \" \".join(machado.raw().split('\\n')[56:67])\n",
        "print(sent)\n",
        "print(tokenizer.tokenize(sent,add_special_tokens=True))\n"
      ]
    },
    {
      "cell_type": "code",
      "execution_count": 34,
      "metadata": {
        "colab": {
          "base_uri": "https://localhost:8080/"
        },
        "id": "KBIHYNhiCEFB",
        "outputId": "0de26679-599b-4cae-c227-40c0e55e537e"
      },
      "outputs": [
        {
          "name": "stdout",
          "output_type": "stream",
          "text": [
            "{'input_ids': tensor([[  101,  3362, 22020,   320,  4313,   179,   146, 14624,  1968, 22281,\n",
            "           236,   785,   596,   834,  4945,  1977,   495,  5332, 10403,  7177,\n",
            "           119,  1645,   240,  1342,  1341,   117,   834,   123,  4689,   125,\n",
            "          5332, 10403,  7177,   117,  1467,   146,  1368,  9773,   123,  9800,\n",
            "          2826,  1239,   270,   117,   179, 16386,  1994, 22287,   146,  1798,\n",
            "           834,  8684,  2443,   123,  2973,   119,  2542,  1307, 18540,  3489,\n",
            "          2199,   131, 17891,  4849,   118,  7707,  5332, 10403,  7177,   119,\n",
            "           530,   146, 14624,   253, 13254,   122,  3433,   320,  2659,   247,\n",
            "           949,  1601, 12658,   117, 12223, 22278,   179,  5332, 10403,  7177,\n",
            "           253,   230,  6369,  3097,  3093,   285,   122,  2607,  3281,   117,\n",
            "          3240, 22281,   375,   125,  7714, 22281,   122,   125,  5052,   117,\n",
            "         14094,   353, 12252,   171,  9169,   682,  1491,  5708, 16467,   122,\n",
            "           629,   830,  6436,   243,   320,  9059, 11368,  9800,  8196,   759,\n",
            "          1340,  1402,   119,   177, 18073,   173,  4162,  1981,   333,   102]]), 'token_type_ids': tensor([[0, 0, 0, 0, 0, 0, 0, 0, 0, 0, 0, 0, 0, 0, 0, 0, 0, 0, 0, 0, 0, 0, 0, 0,\n",
            "         0, 0, 0, 0, 0, 0, 0, 0, 0, 0, 0, 0, 0, 0, 0, 0, 0, 0, 0, 0, 0, 0, 0, 0,\n",
            "         0, 0, 0, 0, 0, 0, 0, 0, 0, 0, 0, 0, 0, 0, 0, 0, 0, 0, 0, 0, 0, 0, 0, 0,\n",
            "         0, 0, 0, 0, 0, 0, 0, 0, 0, 0, 0, 0, 0, 0, 0, 0, 0, 0, 0, 0, 0, 0, 0, 0,\n",
            "         0, 0, 0, 0, 0, 0, 0, 0, 0, 0, 0, 0, 0, 0, 0, 0, 0, 0, 0, 0, 0, 0, 0, 0,\n",
            "         0, 0, 0, 0, 0, 0, 0, 0, 0, 0, 0, 0, 0, 0, 0, 0, 0, 0, 0, 0]]), 'attention_mask': tensor([[1, 1, 1, 1, 1, 1, 1, 1, 1, 1, 1, 1, 1, 1, 1, 1, 1, 1, 1, 1, 1, 1, 1, 1,\n",
            "         1, 1, 1, 1, 1, 1, 1, 1, 1, 1, 1, 1, 1, 1, 1, 1, 1, 1, 1, 1, 1, 1, 1, 1,\n",
            "         1, 1, 1, 1, 1, 1, 1, 1, 1, 1, 1, 1, 1, 1, 1, 1, 1, 1, 1, 1, 1, 1, 1, 1,\n",
            "         1, 1, 1, 1, 1, 1, 1, 1, 1, 1, 1, 1, 1, 1, 1, 1, 1, 1, 1, 1, 1, 1, 1, 1,\n",
            "         1, 1, 1, 1, 1, 1, 1, 1, 1, 1, 1, 1, 1, 1, 1, 1, 1, 1, 1, 1, 1, 1, 1, 1,\n",
            "         1, 1, 1, 1, 1, 1, 1, 1, 1, 1, 1, 1, 1, 1, 1, 1, 1, 1, 1, 1]])}\n",
            "torch.Size([1, 140])\n"
          ]
        }
      ],
      "source": [
        "encoded = tokenizer(sent,return_tensors='pt')\n",
        "print(encoded)\n",
        "print(encoded['input_ids'].shape)"
      ]
    },
    {
      "cell_type": "code",
      "execution_count": 35,
      "metadata": {
        "colab": {
          "base_uri": "https://localhost:8080/"
        },
        "id": "k07B6bUxCzFH",
        "outputId": "890bab02-8210-4bae-fed3-fccc16eaee8e"
      },
      "outputs": [
        {
          "data": {
            "text/plain": [
              "BaseModelOutputWithPoolingAndCrossAttentions(last_hidden_state=tensor([[[ 0.3321, -0.0222, -0.1118,  ..., -0.2713, -0.0577, -0.3856],\n",
              "         [ 0.4673, -0.6415,  0.0684,  ...,  0.0043,  0.4092, -0.5008],\n",
              "         [ 0.4127, -0.2568,  0.3349,  ...,  0.6755, -0.1253, -0.1977],\n",
              "         ...,\n",
              "         [-0.0346,  0.1697,  0.2855,  ..., -0.4704, -0.0712, -0.1308],\n",
              "         [ 0.3084, -0.2054,  0.7561,  ..., -0.2902, -0.0521, -0.8002],\n",
              "         [ 0.3327, -0.0211, -0.1130,  ..., -0.2712, -0.0568, -0.3902]]],\n",
              "       grad_fn=<NativeLayerNormBackward0>), pooler_output=tensor([[-2.3519e-02,  1.7835e-03, -1.5374e-01,  9.1325e-02,  3.3067e-02,\n",
              "         -1.4718e-01,  8.2286e-01, -1.2356e-01,  1.4054e-01, -1.9458e-01,\n",
              "         -4.6636e-01, -7.8418e-03,  1.7339e-01, -4.2789e-02, -1.7140e-01,\n",
              "          9.2816e-02, -3.6222e-02, -1.0855e-01, -1.5493e-01,  8.5959e-01,\n",
              "          1.5545e-02, -5.9975e-02,  1.2371e-01, -1.7211e-01, -1.3424e-01,\n",
              "         -1.8552e-01,  6.0686e-02,  2.8905e-02,  1.4735e-01, -1.7608e-01,\n",
              "         -1.5986e-01, -9.6633e-01, -3.2136e-01,  1.3031e-02,  1.6471e-02,\n",
              "          1.1695e-02,  1.2268e-01,  4.6242e-03,  4.5030e-01,  3.7289e-02,\n",
              "         -7.8060e-02, -8.1118e-02, -4.3411e-01, -1.1429e-01,  1.1347e-01,\n",
              "          2.6673e-02, -8.5300e-02,  9.8589e-03, -7.4727e-02, -7.4330e-02,\n",
              "          1.0524e-01,  1.5262e-01, -1.9630e-02, -1.2213e-01, -7.0003e-02,\n",
              "          1.0854e-02,  2.1240e-02, -1.0014e-01,  4.0756e-02,  1.0530e-01,\n",
              "         -3.6759e-01,  8.7011e-02, -1.0517e-01,  2.3491e-02,  5.6007e-02,\n",
              "         -1.0262e-02, -6.5724e-02, -4.5275e-02, -2.2062e-01, -7.7200e-02,\n",
              "          2.2708e-02, -9.6974e-01,  8.7175e-02,  1.6325e-01,  1.4800e-01,\n",
              "         -6.2611e-02,  4.0725e-02,  8.0964e-02,  5.9426e-02, -2.1726e-02,\n",
              "          4.6583e-02,  2.1653e-01, -1.2542e-01, -7.9944e-02,  6.4279e-03,\n",
              "          3.7325e-02,  2.0516e-01,  1.1905e-01,  1.0137e-01, -5.1578e-02,\n",
              "          5.4324e-02,  8.4234e-01, -1.0416e-01, -1.6709e-01, -7.6599e-02,\n",
              "          1.2734e-01,  5.6898e-01, -5.0427e-02, -1.8602e-01,  3.4970e-02,\n",
              "          2.3830e-01, -1.0360e-01,  1.1804e-01,  6.0153e-02,  6.4745e-02,\n",
              "         -3.8244e-02,  1.1447e-02,  1.1200e-01, -1.2410e-01,  1.0270e-01,\n",
              "          1.3324e-01, -8.1037e-01, -6.6406e-02,  2.0582e-02,  1.3738e-01,\n",
              "          4.4733e-02,  9.7164e-02, -6.9439e-02, -1.9819e-01,  1.4972e-01,\n",
              "          6.1814e-02, -2.5096e-01, -1.1546e-01, -1.5950e-01,  1.3484e-01,\n",
              "          9.3789e-02, -2.3592e-01,  1.0211e-01, -4.1773e-03,  4.0854e-02,\n",
              "          6.2137e-01,  7.0110e-04, -1.0154e-02,  2.3761e-01,  1.2257e-01,\n",
              "         -2.2576e-02,  8.4484e-02,  1.9856e-01,  3.6931e-01,  1.0656e-02,\n",
              "          6.1375e-02, -6.2302e-02,  9.0051e-02,  1.8114e-01, -7.4262e-02,\n",
              "          8.9964e-02, -1.8286e-01,  7.5170e-03,  9.4874e-01, -1.5840e-01,\n",
              "          1.6913e-01,  1.1325e-01,  6.6284e-02, -1.1571e-01, -1.1243e-02,\n",
              "         -1.4426e-01,  3.8597e-02,  2.0042e-01, -9.4671e-02,  2.5771e-02,\n",
              "          9.7090e-02,  1.8786e-01,  6.1404e-02,  1.5124e-02,  2.8707e-02,\n",
              "         -8.9078e-01,  1.2620e-01,  1.0128e-03,  4.9210e-02, -1.4851e-01,\n",
              "          4.6505e-02,  6.7341e-02, -4.7825e-02,  1.6470e-01, -4.0636e-02,\n",
              "         -5.0664e-02,  3.0250e-01,  7.4752e-02, -1.6016e-01, -1.8148e-01,\n",
              "         -3.1287e-02,  3.7328e-02, -8.2495e-02, -7.2673e-02,  1.8787e-01,\n",
              "          6.1868e-02,  8.1926e-02,  2.0863e-01, -7.7211e-02, -6.7046e-02,\n",
              "         -5.6383e-02, -2.6856e-03, -1.6091e-01,  7.6215e-02,  3.3117e-02,\n",
              "         -6.9256e-03, -2.5717e-01, -7.3431e-02, -1.8311e-02, -1.1073e-01,\n",
              "         -5.8984e-02,  1.0793e-01,  1.3812e-01, -1.3325e-01, -7.3813e-01,\n",
              "          4.0424e-02,  1.7305e-01, -4.8394e-02, -6.9250e-02,  3.6668e-02,\n",
              "          9.8685e-01,  7.4731e-02,  9.8182e-02, -5.2513e-01, -2.2269e-01,\n",
              "         -4.5135e-02,  6.7261e-02,  3.1888e-03,  7.7912e-02, -1.9778e-01,\n",
              "         -2.0877e-02,  7.8124e-02,  7.1910e-03, -4.2075e-01, -2.9653e-02,\n",
              "          3.2493e-02,  7.2282e-02, -5.0939e-02,  9.2486e-02,  9.4464e-02,\n",
              "          1.0227e-01,  2.2862e-01,  5.6159e-02, -2.3557e-01,  1.8168e-02,\n",
              "         -7.3511e-01, -2.8211e-02, -7.6413e-02, -7.9498e-01,  1.1876e-02,\n",
              "         -1.2174e-01,  9.5832e-01,  1.1241e-01,  9.3503e-01, -1.2044e-01,\n",
              "          1.0338e-01,  1.6539e-01,  1.9724e-02,  1.1627e-01,  3.0570e-01,\n",
              "          9.8665e-01, -1.5756e-01,  2.9250e-02,  9.0806e-02, -6.6661e-02,\n",
              "         -8.9676e-01, -6.8451e-02, -2.4948e-02,  1.4699e-01, -1.0472e-02,\n",
              "         -1.4619e-01, -6.6010e-02,  4.0685e-02, -3.0968e-01,  1.9515e-01,\n",
              "          7.3776e-02,  1.4327e-01, -8.3705e-02,  4.7415e-01, -6.4938e-02,\n",
              "         -1.8975e-02, -6.4017e-02, -8.8484e-02, -9.4329e-02,  1.2761e-02,\n",
              "         -1.5664e-01,  6.4807e-02, -7.0141e-01, -7.0424e-02,  2.4801e-02,\n",
              "         -5.1346e-02,  1.2367e-01, -1.9417e-01,  8.1354e-02,  1.6055e-01,\n",
              "         -7.5637e-04,  2.7175e-01, -1.7050e-01,  2.0652e-01, -6.9397e-01,\n",
              "          1.3437e-01,  2.5789e-02,  9.0566e-02, -1.7057e-01,  5.8477e-01,\n",
              "          6.4647e-01,  1.4192e-02, -4.0827e-02,  1.5474e-01,  9.4756e-02,\n",
              "          8.4358e-01,  1.4406e-01, -1.2292e-01, -9.9309e-01, -1.0858e-03,\n",
              "         -9.5875e-02,  2.1649e-01, -9.4643e-01,  3.5124e-04,  2.9799e-01,\n",
              "          4.3832e-02,  1.1749e-01, -2.5558e-01, -3.9700e-03, -2.9601e-02,\n",
              "          1.9849e-01,  5.8347e-01, -9.2829e-02,  6.6869e-01,  2.1482e-01,\n",
              "         -7.2429e-03,  3.4164e-02, -1.2612e-01,  9.2619e-01, -2.3077e-01,\n",
              "          5.3720e-02,  9.9917e-02, -2.9451e-01, -3.0871e-02, -2.0876e-01,\n",
              "         -9.6035e-01,  4.8834e-01,  2.8941e-01, -8.3683e-01,  5.9567e-02,\n",
              "         -1.0010e-02, -3.7909e-02,  1.4681e-01, -1.3165e-01, -9.1079e-02,\n",
              "          1.5903e-02,  2.4685e-02,  8.3817e-01,  5.4798e-01, -3.3865e-02,\n",
              "          6.9308e-01,  5.3808e-02,  8.3856e-02,  1.5364e-01, -3.8741e-02,\n",
              "          7.2763e-02,  6.9291e-02,  3.7859e-02, -1.9556e-01, -5.2766e-02,\n",
              "          2.6142e-01, -1.2742e-01,  3.3478e-02, -4.9532e-02, -1.4337e-01,\n",
              "         -1.0963e-01,  3.3867e-02,  1.5461e-02,  4.2295e-02, -6.6642e-02,\n",
              "          1.6684e-01,  6.0893e-02,  3.4592e-02,  6.8535e-02,  2.6263e-02,\n",
              "         -1.0082e-01, -9.6164e-01,  1.0301e-01, -1.5883e-01,  1.2439e-01,\n",
              "         -1.5709e-02, -3.0311e-01,  1.1528e-01, -6.5946e-02, -7.2569e-02,\n",
              "         -3.9306e-01, -9.0875e-02, -8.6306e-02,  5.4815e-01, -3.6568e-02,\n",
              "         -1.6267e-01, -5.8115e-01,  9.8187e-01, -5.3077e-02,  3.7065e-02,\n",
              "         -8.2522e-02,  1.8749e-02,  7.4690e-01,  7.8650e-01,  9.9988e-02,\n",
              "         -5.6027e-02,  3.8506e-02, -1.8165e-02, -2.9753e-02, -3.5156e-02,\n",
              "          3.3724e-02, -2.1848e-02,  4.9550e-02, -5.7970e-02,  1.8737e-01,\n",
              "         -2.8416e-01, -4.3187e-01, -1.2812e-01,  6.3406e-02,  6.5792e-02,\n",
              "         -1.9592e-02,  3.7937e-02, -4.0683e-02,  7.9515e-02, -6.2391e-03,\n",
              "          4.8001e-02,  9.2862e-02,  2.0612e-01, -1.3511e-01,  6.7967e-02,\n",
              "          1.7441e-01,  9.2558e-01, -1.5879e-01,  4.0461e-02, -3.3481e-02,\n",
              "          6.9946e-02,  3.1199e-01,  1.2704e-01, -6.1121e-03,  1.7020e-01,\n",
              "          2.5630e-01, -7.4230e-02,  5.7696e-02,  6.9692e-02, -7.1796e-02,\n",
              "         -1.3640e-01,  1.5134e-01, -1.7889e-01,  9.6996e-03, -1.0225e-03,\n",
              "          1.0346e-01, -5.2803e-01, -5.1657e-01,  3.0713e-02, -9.5501e-02,\n",
              "          7.8536e-02, -4.0662e-02, -2.3984e-02,  4.3718e-02, -5.9121e-02,\n",
              "          8.4391e-02, -5.0487e-02,  3.8774e-02,  9.8641e-02,  1.0439e-01,\n",
              "         -1.8207e-02,  9.5766e-01,  1.1181e-01, -1.2475e-01, -4.8049e-02,\n",
              "          9.5922e-02, -2.1156e-01,  3.9378e-03,  6.4528e-02, -3.3898e-02,\n",
              "          2.0596e-02, -3.5856e-02, -8.2452e-02, -2.4669e-02,  2.1796e-01,\n",
              "         -3.8015e-01, -9.8191e-03, -9.9437e-01, -1.0645e-02, -4.2629e-02,\n",
              "          1.0452e-01, -3.9909e-01, -4.9871e-02, -4.0791e-02, -4.6564e-02,\n",
              "         -9.3574e-02, -4.1478e-02,  5.6025e-02,  8.3347e-02, -4.3026e-02,\n",
              "          1.3691e-01,  1.1397e-01, -2.2234e-01,  5.0591e-02,  1.0722e-01,\n",
              "          1.7289e-01,  1.2029e-01,  8.2686e-02, -7.2606e-01,  2.5858e-02,\n",
              "         -4.2133e-03, -1.2578e-01, -5.1681e-02, -2.4722e-01, -2.6631e-02,\n",
              "          5.1123e-01, -8.7454e-02,  1.6125e-01, -1.4687e-02,  1.4865e-01,\n",
              "          4.5528e-02, -3.3826e-01,  1.1703e-01, -7.5950e-01,  1.3904e-01,\n",
              "         -1.7650e-01, -7.9705e-02,  8.3456e-03, -9.0851e-02,  9.9641e-01,\n",
              "          3.8537e-02, -8.8640e-02,  1.6091e-01, -2.2964e-01,  7.3123e-02,\n",
              "         -1.2858e-02,  3.4458e-03,  2.8591e-02, -2.5890e-01, -5.4931e-02,\n",
              "          9.6529e-01, -1.8061e-01, -1.7506e-02,  3.7622e-02, -1.5418e-01,\n",
              "          5.1700e-03, -1.2829e-01, -1.0209e-01,  9.7590e-01, -1.0350e-02,\n",
              "          1.6454e-01, -1.3677e-01,  9.5775e-01, -1.3206e-01,  5.4988e-02,\n",
              "          8.0379e-03,  9.3432e-02,  1.0585e-01, -5.5568e-02,  6.5197e-01,\n",
              "          8.2066e-01,  1.0959e-01, -1.1356e-02, -1.1005e-01,  1.8512e-01,\n",
              "          2.6441e-01, -5.9965e-02, -1.9659e-01,  1.1950e-01,  1.4102e-02,\n",
              "         -1.4917e-01, -1.0346e-01,  3.0244e-02,  1.3287e-01,  4.0531e-02,\n",
              "          3.1891e-01,  1.4767e-01,  2.6354e-02, -1.0578e-01,  8.4292e-01,\n",
              "          1.3395e-01,  1.1231e-01,  7.9742e-02, -9.5549e-02, -6.1664e-02,\n",
              "          1.3259e-01, -7.4779e-02, -6.9422e-02, -4.9452e-02,  1.0773e-01,\n",
              "         -6.8118e-02,  2.1504e-01,  1.2966e-01, -1.6689e-01, -6.0754e-01,\n",
              "          1.2624e-01,  6.4861e-02,  6.4571e-02,  7.0279e-03,  1.5072e-02,\n",
              "          9.1214e-02,  5.1297e-02,  1.5209e-01,  1.1771e-01, -9.8262e-02,\n",
              "         -2.0461e-02, -9.6595e-02,  6.7000e-02, -8.3015e-02, -1.5455e-02,\n",
              "         -3.2767e-02,  4.5125e-01, -4.2750e-02,  9.1506e-02,  1.3001e-01,\n",
              "          1.3947e-01, -8.2361e-02, -3.5753e-02, -2.0259e-01, -1.6403e-02,\n",
              "          1.1548e-01,  8.9425e-03,  1.1167e-01,  5.7620e-03, -5.9440e-02,\n",
              "         -1.4092e-01, -1.0549e-01, -6.1658e-03,  1.1536e-01,  9.6957e-02,\n",
              "         -2.6648e-01, -4.5964e-02, -6.3674e-02, -7.3117e-02,  5.5820e-02,\n",
              "          5.4904e-02,  1.9226e-02, -3.1484e-02, -1.6874e-01,  7.7604e-01,\n",
              "         -9.3808e-02, -5.2257e-02, -4.6360e-02,  1.0235e-01,  1.3284e-01,\n",
              "         -1.3702e-01, -6.7949e-02, -1.1109e-01, -5.4531e-02, -1.8648e-02,\n",
              "         -1.1178e-02, -1.7746e-01, -4.6682e-02,  1.2210e-01, -1.2506e-01,\n",
              "          4.6389e-01,  8.7705e-03,  2.1006e-02, -2.9392e-02,  3.8949e-01,\n",
              "          1.0068e-02,  8.9912e-02, -1.6663e-01, -3.0796e-02, -1.2964e-01,\n",
              "          5.4668e-02, -7.5656e-02, -1.1805e-01,  1.0642e-01, -9.3560e-02,\n",
              "          6.9223e-03, -3.2155e-02,  3.8950e-01, -1.1755e-01, -9.6974e-01,\n",
              "         -1.1342e-01, -5.5057e-02,  1.2615e-02,  2.4273e-02, -8.7114e-02,\n",
              "         -1.3457e-01,  4.6392e-03, -7.2655e-02,  1.2197e-01, -7.9246e-02,\n",
              "          1.0131e-01,  3.3278e-01, -2.7093e-02,  2.4765e-02, -2.9481e-02,\n",
              "          1.7711e-01, -1.6386e-01, -1.1803e-01,  9.0733e-02, -9.3463e-02,\n",
              "          4.4910e-01,  3.9101e-02,  7.0260e-02,  1.1328e-03,  3.6004e-03,\n",
              "         -2.5080e-03, -4.0147e-02,  9.3245e-02,  1.8565e-01, -2.5162e-02,\n",
              "          6.5409e-02, -2.9059e-01, -4.3071e-02,  8.6324e-02,  4.1794e-02,\n",
              "         -4.5644e-02, -1.0017e-01, -1.2452e-01, -6.5963e-03, -9.3934e-02,\n",
              "          4.2820e-02, -6.0092e-02,  1.0317e-01,  1.0552e-02,  2.0013e-02,\n",
              "          9.3296e-03,  1.4188e-01, -5.8063e-02, -3.4392e-01,  1.1869e-01,\n",
              "          1.9126e-01, -1.5116e-01, -1.1006e-01, -5.7606e-02,  1.5310e-02,\n",
              "         -1.0569e-02, -1.3857e-01,  1.9061e-02,  3.3886e-02,  4.8845e-03,\n",
              "         -9.9261e-04, -7.9398e-01,  8.0590e-02,  4.4206e-02, -1.3412e-01,\n",
              "          1.1000e-01,  2.0805e-02, -3.7498e-02, -2.7821e-02, -1.1044e-01,\n",
              "          1.1479e-01,  1.0676e-01, -2.1118e-02,  1.5766e-02,  1.7027e-01,\n",
              "          2.0642e-02,  1.9003e-02,  1.5251e-01,  6.3854e-02, -1.0691e-01,\n",
              "         -4.2758e-02, -8.1615e-02, -3.1775e-02, -1.4826e-02, -3.6675e-02,\n",
              "          7.9187e-02,  8.4880e-02,  6.7561e-02,  6.4113e-01,  2.5790e-03,\n",
              "         -2.5739e-03,  1.5710e-01,  7.2519e-02, -3.4225e-01, -8.0476e-02,\n",
              "          3.7882e-02, -4.3967e-01, -4.6937e-02,  8.4090e-02, -5.6341e-03,\n",
              "         -3.7359e-02,  7.9880e-01, -1.6450e-01,  6.7908e-02,  4.5277e-02,\n",
              "         -8.5999e-02, -1.3898e-01,  7.6143e-02]], grad_fn=<TanhBackward0>), hidden_states=None, past_key_values=None, attentions=None, cross_attentions=None)"
            ]
          },
          "execution_count": 35,
          "metadata": {},
          "output_type": "execute_result"
        }
      ],
      "source": [
        "output = transf_model(**encoded)\n",
        "output"
      ]
    },
    {
      "cell_type": "code",
      "execution_count": 36,
      "metadata": {
        "colab": {
          "base_uri": "https://localhost:8080/"
        },
        "id": "Yuke2vY2DHbn",
        "outputId": "4c962b8f-3a7c-4002-f777-3b5e7775e584"
      },
      "outputs": [
        {
          "name": "stdout",
          "output_type": "stream",
          "text": [
            "torch.Size([1, 140, 768])\n"
          ]
        }
      ],
      "source": [
        "print(output.last_hidden_state.shape)"
      ]
    },
    {
      "cell_type": "code",
      "execution_count": 37,
      "metadata": {
        "colab": {
          "base_uri": "https://localhost:8080/"
        },
        "id": "iqsDjG2Dwcmq",
        "outputId": "5df8295f-c182-4f2d-dd53-fcc100aac5f2"
      },
      "outputs": [
        {
          "name": "stderr",
          "output_type": "stream",
          "text": [
            "Some weights of the model checkpoint at neuralmind/bert-base-portuguese-cased were not used when initializing BertForMaskedLM: ['bert.pooler.dense.bias', 'bert.pooler.dense.weight', 'cls.seq_relationship.bias', 'cls.seq_relationship.weight']\n",
            "- This IS expected if you are initializing BertForMaskedLM from the checkpoint of a model trained on another task or with another architecture (e.g. initializing a BertForSequenceClassification model from a BertForPreTraining model).\n",
            "- This IS NOT expected if you are initializing BertForMaskedLM from the checkpoint of a model that you expect to be exactly identical (initializing a BertForSequenceClassification model from a BertForSequenceClassification model).\n"
          ]
        }
      ],
      "source": [
        "from transformers import AutoModelForMaskedLM\n",
        "lm = AutoModelForMaskedLM.from_pretrained(model_name)\n",
        "\n"
      ]
    },
    {
      "cell_type": "code",
      "execution_count": 38,
      "metadata": {
        "colab": {
          "base_uri": "https://localhost:8080/"
        },
        "id": "Mhafv7fuzX8R",
        "outputId": "66d8693d-bf0e-46f6-91f2-df801c8cad77"
      },
      "outputs": [
        {
          "name": "stdout",
          "output_type": "stream",
          "text": [
            "tensor([[  101,   231,   646,   183,   577, 13665,   123,   103,   171,  1754,\n",
            "           125,  2108,   102]])\n"
          ]
        }
      ],
      "source": [
        "text = \"O rato roeu a [MASK] do rei de Roma\"\n",
        "encoded = tokenizer(text,return_tensors='pt')\n",
        "print(encoded['input_ids'])\n"
      ]
    },
    {
      "cell_type": "code",
      "execution_count": 42,
      "metadata": {},
      "outputs": [
        {
          "name": "stdout",
          "output_type": "stream",
          "text": [
            "MaskedLMOutput(loss=None, logits=tensor([[[ -7.0549,  -7.4780,  -7.6611,  ...,  -7.5475,  -6.3172,  -6.5222],\n",
            "         [-11.1501, -13.5877, -11.4622,  ..., -10.4687,  -9.8710,  -9.6263],\n",
            "         [ -7.1713,  -7.8902, -10.6035,  ...,  -8.1884,  -6.4012,  -6.3499],\n",
            "         ...,\n",
            "         [-10.2086,  -9.9908, -10.0528,  ...,  -9.2802,  -9.6582,  -8.3069],\n",
            "         [ -5.2291,  -6.5524,  -7.2077,  ...,  -5.9838,  -7.5163,  -5.9150],\n",
            "         [ -7.1496,  -7.5715,  -7.7688,  ...,  -7.6387,  -6.2978,  -6.5950]]],\n",
            "       grad_fn=<ViewBackward0>), hidden_states=None, attentions=None)\n",
            "torch.Size([1, 13, 29794])\n",
            "torch.Size([13, 29794])\n",
            "tensor([  123,   231,   646,   183,   577, 13665,   123,  3827,   171,  1754,\n",
            "          125,  2108,   123])\n"
          ]
        },
        {
          "data": {
            "text/plain": [
              "'O rato roeu a cabeça do rei de Roma'"
            ]
          },
          "execution_count": 42,
          "metadata": {},
          "output_type": "execute_result"
        }
      ],
      "source": [
        "ids = lm(**encoded)\n",
        "print(ids)\n",
        "ids = ids.logits\n",
        "print(ids.shape)\n",
        "ids = ids.squeeze(dim=0)\n",
        "print(ids.shape)\n",
        "ids = ids.softmax(dim=1).argmax(dim=1)\n",
        "print(ids)\n",
        "tokenizer.decode(ids[1:-1])"
      ]
    },
    {
      "cell_type": "code",
      "execution_count": 39,
      "metadata": {
        "colab": {
          "base_uri": "https://localhost:8080/",
          "height": 70
        },
        "id": "XlfTtPPpza83",
        "outputId": "54f89b47-6736-40d2-ba75-1914587d1263"
      },
      "outputs": [
        {
          "name": "stdout",
          "output_type": "stream",
          "text": [
            "tensor([  123,   231,   646,   183,   577, 13665,   123,  3827,   171,  1754,\n",
            "          125,  2108,   123])\n"
          ]
        },
        {
          "data": {
            "text/plain": [
              "'O rato roeu a cabeça do rei de Roma'"
            ]
          },
          "execution_count": 39,
          "metadata": {},
          "output_type": "execute_result"
        }
      ],
      "source": [
        "ids = lm(**encoded).logits.squeeze(dim=0)\n",
        "ids = ids.softmax(dim=1).argmax(dim=1)\n",
        "print(ids)\n",
        "tokenizer.decode(ids[1:-1])"
      ]
    }
  ],
  "metadata": {
    "colab": {
      "provenance": []
    },
    "kernelspec": {
      "display_name": "Python 3",
      "name": "python3"
    },
    "language_info": {
      "codemirror_mode": {
        "name": "ipython",
        "version": 3
      },
      "file_extension": ".py",
      "mimetype": "text/x-python",
      "name": "python",
      "nbconvert_exporter": "python",
      "pygments_lexer": "ipython3",
      "version": "3.11.0"
    },
    "widgets": {
      "application/vnd.jupyter.widget-state+json": {
        "004523f24ebd4373a1847fdff6763298": {
          "model_module": "@jupyter-widgets/controls",
          "model_module_version": "1.5.0",
          "model_name": "HTMLModel",
          "state": {
            "_dom_classes": [],
            "_model_module": "@jupyter-widgets/controls",
            "_model_module_version": "1.5.0",
            "_model_name": "HTMLModel",
            "_view_count": null,
            "_view_module": "@jupyter-widgets/controls",
            "_view_module_version": "1.5.0",
            "_view_name": "HTMLView",
            "description": "",
            "description_tooltip": null,
            "layout": "IPY_MODEL_e6cc368a4d2d4ea3b7789e8a9593a375",
            "placeholder": "​",
            "style": "IPY_MODEL_3f10c966d4354b43ad39988dd3fcbc86",
            "value": "pytorch_model.bin: 100%"
          }
        },
        "0188741a6b9847169efccee68087e7ee": {
          "model_module": "@jupyter-widgets/controls",
          "model_module_version": "1.5.0",
          "model_name": "ProgressStyleModel",
          "state": {
            "_model_module": "@jupyter-widgets/controls",
            "_model_module_version": "1.5.0",
            "_model_name": "ProgressStyleModel",
            "_view_count": null,
            "_view_module": "@jupyter-widgets/base",
            "_view_module_version": "1.2.0",
            "_view_name": "StyleView",
            "bar_color": null,
            "description_width": ""
          }
        },
        "01d24ae932794909ad096ccd336894e8": {
          "model_module": "@jupyter-widgets/controls",
          "model_module_version": "1.5.0",
          "model_name": "DescriptionStyleModel",
          "state": {
            "_model_module": "@jupyter-widgets/controls",
            "_model_module_version": "1.5.0",
            "_model_name": "DescriptionStyleModel",
            "_view_count": null,
            "_view_module": "@jupyter-widgets/base",
            "_view_module_version": "1.2.0",
            "_view_name": "StyleView",
            "description_width": ""
          }
        },
        "04e9a6ec926c41d89dfc8051a947ba36": {
          "model_module": "@jupyter-widgets/base",
          "model_module_version": "1.2.0",
          "model_name": "LayoutModel",
          "state": {
            "_model_module": "@jupyter-widgets/base",
            "_model_module_version": "1.2.0",
            "_model_name": "LayoutModel",
            "_view_count": null,
            "_view_module": "@jupyter-widgets/base",
            "_view_module_version": "1.2.0",
            "_view_name": "LayoutView",
            "align_content": null,
            "align_items": null,
            "align_self": null,
            "border": null,
            "bottom": null,
            "display": null,
            "flex": null,
            "flex_flow": null,
            "grid_area": null,
            "grid_auto_columns": null,
            "grid_auto_flow": null,
            "grid_auto_rows": null,
            "grid_column": null,
            "grid_gap": null,
            "grid_row": null,
            "grid_template_areas": null,
            "grid_template_columns": null,
            "grid_template_rows": null,
            "height": null,
            "justify_content": null,
            "justify_items": null,
            "left": null,
            "margin": null,
            "max_height": null,
            "max_width": null,
            "min_height": null,
            "min_width": null,
            "object_fit": null,
            "object_position": null,
            "order": null,
            "overflow": null,
            "overflow_x": null,
            "overflow_y": null,
            "padding": null,
            "right": null,
            "top": null,
            "visibility": null,
            "width": null
          }
        },
        "0a9d4c45923046cab722463f4e71f50e": {
          "model_module": "@jupyter-widgets/base",
          "model_module_version": "1.2.0",
          "model_name": "LayoutModel",
          "state": {
            "_model_module": "@jupyter-widgets/base",
            "_model_module_version": "1.2.0",
            "_model_name": "LayoutModel",
            "_view_count": null,
            "_view_module": "@jupyter-widgets/base",
            "_view_module_version": "1.2.0",
            "_view_name": "LayoutView",
            "align_content": null,
            "align_items": null,
            "align_self": null,
            "border": null,
            "bottom": null,
            "display": null,
            "flex": null,
            "flex_flow": null,
            "grid_area": null,
            "grid_auto_columns": null,
            "grid_auto_flow": null,
            "grid_auto_rows": null,
            "grid_column": null,
            "grid_gap": null,
            "grid_row": null,
            "grid_template_areas": null,
            "grid_template_columns": null,
            "grid_template_rows": null,
            "height": null,
            "justify_content": null,
            "justify_items": null,
            "left": null,
            "margin": null,
            "max_height": null,
            "max_width": null,
            "min_height": null,
            "min_width": null,
            "object_fit": null,
            "object_position": null,
            "order": null,
            "overflow": null,
            "overflow_x": null,
            "overflow_y": null,
            "padding": null,
            "right": null,
            "top": null,
            "visibility": null,
            "width": null
          }
        },
        "1357e6f5358e4853bb54ecd6b6efc23c": {
          "model_module": "@jupyter-widgets/controls",
          "model_module_version": "1.5.0",
          "model_name": "HTMLModel",
          "state": {
            "_dom_classes": [],
            "_model_module": "@jupyter-widgets/controls",
            "_model_module_version": "1.5.0",
            "_model_name": "HTMLModel",
            "_view_count": null,
            "_view_module": "@jupyter-widgets/controls",
            "_view_module_version": "1.5.0",
            "_view_name": "HTMLView",
            "description": "",
            "description_tooltip": null,
            "layout": "IPY_MODEL_6f27b1ddf1014685a3be3844353288aa",
            "placeholder": "​",
            "style": "IPY_MODEL_143ea28d74c342aa9c5e3af07e66b10e",
            "value": " 647/647 [00:00&lt;00:00, 14.4kB/s]"
          }
        },
        "143ea28d74c342aa9c5e3af07e66b10e": {
          "model_module": "@jupyter-widgets/controls",
          "model_module_version": "1.5.0",
          "model_name": "DescriptionStyleModel",
          "state": {
            "_model_module": "@jupyter-widgets/controls",
            "_model_module_version": "1.5.0",
            "_model_name": "DescriptionStyleModel",
            "_view_count": null,
            "_view_module": "@jupyter-widgets/base",
            "_view_module_version": "1.2.0",
            "_view_name": "StyleView",
            "description_width": ""
          }
        },
        "1bc870e15c6643d8b9af46a0ca14e9d7": {
          "model_module": "@jupyter-widgets/base",
          "model_module_version": "1.2.0",
          "model_name": "LayoutModel",
          "state": {
            "_model_module": "@jupyter-widgets/base",
            "_model_module_version": "1.2.0",
            "_model_name": "LayoutModel",
            "_view_count": null,
            "_view_module": "@jupyter-widgets/base",
            "_view_module_version": "1.2.0",
            "_view_name": "LayoutView",
            "align_content": null,
            "align_items": null,
            "align_self": null,
            "border": null,
            "bottom": null,
            "display": null,
            "flex": null,
            "flex_flow": null,
            "grid_area": null,
            "grid_auto_columns": null,
            "grid_auto_flow": null,
            "grid_auto_rows": null,
            "grid_column": null,
            "grid_gap": null,
            "grid_row": null,
            "grid_template_areas": null,
            "grid_template_columns": null,
            "grid_template_rows": null,
            "height": null,
            "justify_content": null,
            "justify_items": null,
            "left": null,
            "margin": null,
            "max_height": null,
            "max_width": null,
            "min_height": null,
            "min_width": null,
            "object_fit": null,
            "object_position": null,
            "order": null,
            "overflow": null,
            "overflow_x": null,
            "overflow_y": null,
            "padding": null,
            "right": null,
            "top": null,
            "visibility": null,
            "width": null
          }
        },
        "1f0a5ac669064ed49977f313dd934696": {
          "model_module": "@jupyter-widgets/base",
          "model_module_version": "1.2.0",
          "model_name": "LayoutModel",
          "state": {
            "_model_module": "@jupyter-widgets/base",
            "_model_module_version": "1.2.0",
            "_model_name": "LayoutModel",
            "_view_count": null,
            "_view_module": "@jupyter-widgets/base",
            "_view_module_version": "1.2.0",
            "_view_name": "LayoutView",
            "align_content": null,
            "align_items": null,
            "align_self": null,
            "border": null,
            "bottom": null,
            "display": null,
            "flex": null,
            "flex_flow": null,
            "grid_area": null,
            "grid_auto_columns": null,
            "grid_auto_flow": null,
            "grid_auto_rows": null,
            "grid_column": null,
            "grid_gap": null,
            "grid_row": null,
            "grid_template_areas": null,
            "grid_template_columns": null,
            "grid_template_rows": null,
            "height": null,
            "justify_content": null,
            "justify_items": null,
            "left": null,
            "margin": null,
            "max_height": null,
            "max_width": null,
            "min_height": null,
            "min_width": null,
            "object_fit": null,
            "object_position": null,
            "order": null,
            "overflow": null,
            "overflow_x": null,
            "overflow_y": null,
            "padding": null,
            "right": null,
            "top": null,
            "visibility": null,
            "width": null
          }
        },
        "2178ac9e7df84f06ae349cf1887e77df": {
          "model_module": "@jupyter-widgets/controls",
          "model_module_version": "1.5.0",
          "model_name": "FloatProgressModel",
          "state": {
            "_dom_classes": [],
            "_model_module": "@jupyter-widgets/controls",
            "_model_module_version": "1.5.0",
            "_model_name": "FloatProgressModel",
            "_view_count": null,
            "_view_module": "@jupyter-widgets/controls",
            "_view_module_version": "1.5.0",
            "_view_name": "ProgressView",
            "bar_style": "success",
            "description": "",
            "description_tooltip": null,
            "layout": "IPY_MODEL_79ace638574a4835b8a9cc382e3f69bb",
            "max": 2,
            "min": 0,
            "orientation": "horizontal",
            "style": "IPY_MODEL_0188741a6b9847169efccee68087e7ee",
            "value": 2
          }
        },
        "22972412418f4a21bbc6a03e0bd9dfa5": {
          "model_module": "@jupyter-widgets/controls",
          "model_module_version": "1.5.0",
          "model_name": "HBoxModel",
          "state": {
            "_dom_classes": [],
            "_model_module": "@jupyter-widgets/controls",
            "_model_module_version": "1.5.0",
            "_model_name": "HBoxModel",
            "_view_count": null,
            "_view_module": "@jupyter-widgets/controls",
            "_view_module_version": "1.5.0",
            "_view_name": "HBoxView",
            "box_style": "",
            "children": [
              "IPY_MODEL_004523f24ebd4373a1847fdff6763298",
              "IPY_MODEL_f3cd2301d56a470e8a4ded1286377475",
              "IPY_MODEL_3a37ca08ff40408baaafb034c7bcde0e"
            ],
            "layout": "IPY_MODEL_7f11859150044ce2b35c7b3851d8704b"
          }
        },
        "26550c1fc4cd4ffc932ed247fffea933": {
          "model_module": "@jupyter-widgets/base",
          "model_module_version": "1.2.0",
          "model_name": "LayoutModel",
          "state": {
            "_model_module": "@jupyter-widgets/base",
            "_model_module_version": "1.2.0",
            "_model_name": "LayoutModel",
            "_view_count": null,
            "_view_module": "@jupyter-widgets/base",
            "_view_module_version": "1.2.0",
            "_view_name": "LayoutView",
            "align_content": null,
            "align_items": null,
            "align_self": null,
            "border": null,
            "bottom": null,
            "display": null,
            "flex": null,
            "flex_flow": null,
            "grid_area": null,
            "grid_auto_columns": null,
            "grid_auto_flow": null,
            "grid_auto_rows": null,
            "grid_column": null,
            "grid_gap": null,
            "grid_row": null,
            "grid_template_areas": null,
            "grid_template_columns": null,
            "grid_template_rows": null,
            "height": null,
            "justify_content": null,
            "justify_items": null,
            "left": null,
            "margin": null,
            "max_height": null,
            "max_width": null,
            "min_height": null,
            "min_width": null,
            "object_fit": null,
            "object_position": null,
            "order": null,
            "overflow": null,
            "overflow_x": null,
            "overflow_y": null,
            "padding": null,
            "right": null,
            "top": null,
            "visibility": null,
            "width": null
          }
        },
        "272ae88df93d4abc9da25a0356419ae7": {
          "model_module": "@jupyter-widgets/controls",
          "model_module_version": "1.5.0",
          "model_name": "HTMLModel",
          "state": {
            "_dom_classes": [],
            "_model_module": "@jupyter-widgets/controls",
            "_model_module_version": "1.5.0",
            "_model_name": "HTMLModel",
            "_view_count": null,
            "_view_module": "@jupyter-widgets/controls",
            "_view_module_version": "1.5.0",
            "_view_name": "HTMLView",
            "description": "",
            "description_tooltip": null,
            "layout": "IPY_MODEL_79f62543413047aa8e8ab4c33e58a8ff",
            "placeholder": "​",
            "style": "IPY_MODEL_37ecd718b2c646e38a2bc5874413a634",
            "value": " 210k/210k [00:00&lt;00:00, 2.79MB/s]"
          }
        },
        "2c35221cf33f4f51866d5aa005fdb8eb": {
          "model_module": "@jupyter-widgets/base",
          "model_module_version": "1.2.0",
          "model_name": "LayoutModel",
          "state": {
            "_model_module": "@jupyter-widgets/base",
            "_model_module_version": "1.2.0",
            "_model_name": "LayoutModel",
            "_view_count": null,
            "_view_module": "@jupyter-widgets/base",
            "_view_module_version": "1.2.0",
            "_view_name": "LayoutView",
            "align_content": null,
            "align_items": null,
            "align_self": null,
            "border": null,
            "bottom": null,
            "display": null,
            "flex": null,
            "flex_flow": null,
            "grid_area": null,
            "grid_auto_columns": null,
            "grid_auto_flow": null,
            "grid_auto_rows": null,
            "grid_column": null,
            "grid_gap": null,
            "grid_row": null,
            "grid_template_areas": null,
            "grid_template_columns": null,
            "grid_template_rows": null,
            "height": null,
            "justify_content": null,
            "justify_items": null,
            "left": null,
            "margin": null,
            "max_height": null,
            "max_width": null,
            "min_height": null,
            "min_width": null,
            "object_fit": null,
            "object_position": null,
            "order": null,
            "overflow": null,
            "overflow_x": null,
            "overflow_y": null,
            "padding": null,
            "right": null,
            "top": null,
            "visibility": null,
            "width": null
          }
        },
        "351824e626fe46a48eda6777d30b57c6": {
          "model_module": "@jupyter-widgets/controls",
          "model_module_version": "1.5.0",
          "model_name": "DescriptionStyleModel",
          "state": {
            "_model_module": "@jupyter-widgets/controls",
            "_model_module_version": "1.5.0",
            "_model_name": "DescriptionStyleModel",
            "_view_count": null,
            "_view_module": "@jupyter-widgets/base",
            "_view_module_version": "1.2.0",
            "_view_name": "StyleView",
            "description_width": ""
          }
        },
        "372b3cc639e943f388e2e27ac7f3a84c": {
          "model_module": "@jupyter-widgets/base",
          "model_module_version": "1.2.0",
          "model_name": "LayoutModel",
          "state": {
            "_model_module": "@jupyter-widgets/base",
            "_model_module_version": "1.2.0",
            "_model_name": "LayoutModel",
            "_view_count": null,
            "_view_module": "@jupyter-widgets/base",
            "_view_module_version": "1.2.0",
            "_view_name": "LayoutView",
            "align_content": null,
            "align_items": null,
            "align_self": null,
            "border": null,
            "bottom": null,
            "display": null,
            "flex": null,
            "flex_flow": null,
            "grid_area": null,
            "grid_auto_columns": null,
            "grid_auto_flow": null,
            "grid_auto_rows": null,
            "grid_column": null,
            "grid_gap": null,
            "grid_row": null,
            "grid_template_areas": null,
            "grid_template_columns": null,
            "grid_template_rows": null,
            "height": null,
            "justify_content": null,
            "justify_items": null,
            "left": null,
            "margin": null,
            "max_height": null,
            "max_width": null,
            "min_height": null,
            "min_width": null,
            "object_fit": null,
            "object_position": null,
            "order": null,
            "overflow": null,
            "overflow_x": null,
            "overflow_y": null,
            "padding": null,
            "right": null,
            "top": null,
            "visibility": null,
            "width": null
          }
        },
        "37ecd718b2c646e38a2bc5874413a634": {
          "model_module": "@jupyter-widgets/controls",
          "model_module_version": "1.5.0",
          "model_name": "DescriptionStyleModel",
          "state": {
            "_model_module": "@jupyter-widgets/controls",
            "_model_module_version": "1.5.0",
            "_model_name": "DescriptionStyleModel",
            "_view_count": null,
            "_view_module": "@jupyter-widgets/base",
            "_view_module_version": "1.2.0",
            "_view_name": "StyleView",
            "description_width": ""
          }
        },
        "3862f4dbf84648008ec5dc46cfa21cd3": {
          "model_module": "@jupyter-widgets/controls",
          "model_module_version": "1.5.0",
          "model_name": "HBoxModel",
          "state": {
            "_dom_classes": [],
            "_model_module": "@jupyter-widgets/controls",
            "_model_module_version": "1.5.0",
            "_model_name": "HBoxModel",
            "_view_count": null,
            "_view_module": "@jupyter-widgets/controls",
            "_view_module_version": "1.5.0",
            "_view_name": "HBoxView",
            "box_style": "",
            "children": [
              "IPY_MODEL_c71e60b3a8dc4ab4b104d7317d246597",
              "IPY_MODEL_a3e00202b43e4522b008830a47935778",
              "IPY_MODEL_272ae88df93d4abc9da25a0356419ae7"
            ],
            "layout": "IPY_MODEL_7902853356494b07a9b4632cca503e57"
          }
        },
        "38d94a57a94046c7a5d7f946d047f0a9": {
          "model_module": "@jupyter-widgets/controls",
          "model_module_version": "1.5.0",
          "model_name": "HTMLModel",
          "state": {
            "_dom_classes": [],
            "_model_module": "@jupyter-widgets/controls",
            "_model_module_version": "1.5.0",
            "_model_name": "HTMLModel",
            "_view_count": null,
            "_view_module": "@jupyter-widgets/controls",
            "_view_module_version": "1.5.0",
            "_view_name": "HTMLView",
            "description": "",
            "description_tooltip": null,
            "layout": "IPY_MODEL_be088b040c6d4fd0823277cf5b607b77",
            "placeholder": "​",
            "style": "IPY_MODEL_d6374413f3f6487587512cacc396bbf8",
            "value": " 2.00/2.00 [00:00&lt;00:00, 89.4B/s]"
          }
        },
        "3a37ca08ff40408baaafb034c7bcde0e": {
          "model_module": "@jupyter-widgets/controls",
          "model_module_version": "1.5.0",
          "model_name": "HTMLModel",
          "state": {
            "_dom_classes": [],
            "_model_module": "@jupyter-widgets/controls",
            "_model_module_version": "1.5.0",
            "_model_name": "HTMLModel",
            "_view_count": null,
            "_view_module": "@jupyter-widgets/controls",
            "_view_module_version": "1.5.0",
            "_view_name": "HTMLView",
            "description": "",
            "description_tooltip": null,
            "layout": "IPY_MODEL_1f0a5ac669064ed49977f313dd934696",
            "placeholder": "​",
            "style": "IPY_MODEL_96bcb9569713451289b7d2256be3a7e3",
            "value": " 438M/438M [00:02&lt;00:00, 184MB/s]"
          }
        },
        "3b1b7fadad6b49299a363d1f839293f7": {
          "model_module": "@jupyter-widgets/controls",
          "model_module_version": "1.5.0",
          "model_name": "FloatProgressModel",
          "state": {
            "_dom_classes": [],
            "_model_module": "@jupyter-widgets/controls",
            "_model_module_version": "1.5.0",
            "_model_name": "FloatProgressModel",
            "_view_count": null,
            "_view_module": "@jupyter-widgets/controls",
            "_view_module_version": "1.5.0",
            "_view_name": "ProgressView",
            "bar_style": "success",
            "description": "",
            "description_tooltip": null,
            "layout": "IPY_MODEL_372b3cc639e943f388e2e27ac7f3a84c",
            "max": 647,
            "min": 0,
            "orientation": "horizontal",
            "style": "IPY_MODEL_9c7c3b87b9d247ba90d9c68468d4d1fe",
            "value": 647
          }
        },
        "3d408f4d739b4c7f8fb34366ee5c8073": {
          "model_module": "@jupyter-widgets/controls",
          "model_module_version": "1.5.0",
          "model_name": "HTMLModel",
          "state": {
            "_dom_classes": [],
            "_model_module": "@jupyter-widgets/controls",
            "_model_module_version": "1.5.0",
            "_model_name": "HTMLModel",
            "_view_count": null,
            "_view_module": "@jupyter-widgets/controls",
            "_view_module_version": "1.5.0",
            "_view_name": "HTMLView",
            "description": "",
            "description_tooltip": null,
            "layout": "IPY_MODEL_5d4b3483da0f4f73a7356132bb11fbeb",
            "placeholder": "​",
            "style": "IPY_MODEL_ab4abea05fe14ebfb2d715640eef93ea",
            "value": "special_tokens_map.json: 100%"
          }
        },
        "3e1de9a4e74e4bffa23d5edf41c2320a": {
          "model_module": "@jupyter-widgets/base",
          "model_module_version": "1.2.0",
          "model_name": "LayoutModel",
          "state": {
            "_model_module": "@jupyter-widgets/base",
            "_model_module_version": "1.2.0",
            "_model_name": "LayoutModel",
            "_view_count": null,
            "_view_module": "@jupyter-widgets/base",
            "_view_module_version": "1.2.0",
            "_view_name": "LayoutView",
            "align_content": null,
            "align_items": null,
            "align_self": null,
            "border": null,
            "bottom": null,
            "display": null,
            "flex": null,
            "flex_flow": null,
            "grid_area": null,
            "grid_auto_columns": null,
            "grid_auto_flow": null,
            "grid_auto_rows": null,
            "grid_column": null,
            "grid_gap": null,
            "grid_row": null,
            "grid_template_areas": null,
            "grid_template_columns": null,
            "grid_template_rows": null,
            "height": null,
            "justify_content": null,
            "justify_items": null,
            "left": null,
            "margin": null,
            "max_height": null,
            "max_width": null,
            "min_height": null,
            "min_width": null,
            "object_fit": null,
            "object_position": null,
            "order": null,
            "overflow": null,
            "overflow_x": null,
            "overflow_y": null,
            "padding": null,
            "right": null,
            "top": null,
            "visibility": null,
            "width": null
          }
        },
        "3f10c966d4354b43ad39988dd3fcbc86": {
          "model_module": "@jupyter-widgets/controls",
          "model_module_version": "1.5.0",
          "model_name": "DescriptionStyleModel",
          "state": {
            "_model_module": "@jupyter-widgets/controls",
            "_model_module_version": "1.5.0",
            "_model_name": "DescriptionStyleModel",
            "_view_count": null,
            "_view_module": "@jupyter-widgets/base",
            "_view_module_version": "1.2.0",
            "_view_name": "StyleView",
            "description_width": ""
          }
        },
        "4055ec7ef9fd47cba0abd84f6dbbaef5": {
          "model_module": "@jupyter-widgets/controls",
          "model_module_version": "1.5.0",
          "model_name": "DescriptionStyleModel",
          "state": {
            "_model_module": "@jupyter-widgets/controls",
            "_model_module_version": "1.5.0",
            "_model_name": "DescriptionStyleModel",
            "_view_count": null,
            "_view_module": "@jupyter-widgets/base",
            "_view_module_version": "1.2.0",
            "_view_name": "StyleView",
            "description_width": ""
          }
        },
        "439ec6e910b842a59d1055ffb8f8b476": {
          "model_module": "@jupyter-widgets/controls",
          "model_module_version": "1.5.0",
          "model_name": "HBoxModel",
          "state": {
            "_dom_classes": [],
            "_model_module": "@jupyter-widgets/controls",
            "_model_module_version": "1.5.0",
            "_model_name": "HBoxModel",
            "_view_count": null,
            "_view_module": "@jupyter-widgets/controls",
            "_view_module_version": "1.5.0",
            "_view_name": "HBoxView",
            "box_style": "",
            "children": [
              "IPY_MODEL_707d61f8e3a14a7ea389d76b7fa6fd62",
              "IPY_MODEL_3b1b7fadad6b49299a363d1f839293f7",
              "IPY_MODEL_1357e6f5358e4853bb54ecd6b6efc23c"
            ],
            "layout": "IPY_MODEL_5e72c1779d384c7a83b54b61c6e46b69"
          }
        },
        "464b3ea2abba44ff8914e9d564a89457": {
          "model_module": "@jupyter-widgets/controls",
          "model_module_version": "1.5.0",
          "model_name": "ProgressStyleModel",
          "state": {
            "_model_module": "@jupyter-widgets/controls",
            "_model_module_version": "1.5.0",
            "_model_name": "ProgressStyleModel",
            "_view_count": null,
            "_view_module": "@jupyter-widgets/base",
            "_view_module_version": "1.2.0",
            "_view_name": "StyleView",
            "bar_color": null,
            "description_width": ""
          }
        },
        "52fb998a5fdf4241af743b972129d72a": {
          "model_module": "@jupyter-widgets/controls",
          "model_module_version": "1.5.0",
          "model_name": "HTMLModel",
          "state": {
            "_dom_classes": [],
            "_model_module": "@jupyter-widgets/controls",
            "_model_module_version": "1.5.0",
            "_model_name": "HTMLModel",
            "_view_count": null,
            "_view_module": "@jupyter-widgets/controls",
            "_view_module_version": "1.5.0",
            "_view_name": "HTMLView",
            "description": "",
            "description_tooltip": null,
            "layout": "IPY_MODEL_97b8b2224fc24dc6806c6b1ff939b472",
            "placeholder": "​",
            "style": "IPY_MODEL_4055ec7ef9fd47cba0abd84f6dbbaef5",
            "value": "added_tokens.json: 100%"
          }
        },
        "5d4b3483da0f4f73a7356132bb11fbeb": {
          "model_module": "@jupyter-widgets/base",
          "model_module_version": "1.2.0",
          "model_name": "LayoutModel",
          "state": {
            "_model_module": "@jupyter-widgets/base",
            "_model_module_version": "1.2.0",
            "_model_name": "LayoutModel",
            "_view_count": null,
            "_view_module": "@jupyter-widgets/base",
            "_view_module_version": "1.2.0",
            "_view_name": "LayoutView",
            "align_content": null,
            "align_items": null,
            "align_self": null,
            "border": null,
            "bottom": null,
            "display": null,
            "flex": null,
            "flex_flow": null,
            "grid_area": null,
            "grid_auto_columns": null,
            "grid_auto_flow": null,
            "grid_auto_rows": null,
            "grid_column": null,
            "grid_gap": null,
            "grid_row": null,
            "grid_template_areas": null,
            "grid_template_columns": null,
            "grid_template_rows": null,
            "height": null,
            "justify_content": null,
            "justify_items": null,
            "left": null,
            "margin": null,
            "max_height": null,
            "max_width": null,
            "min_height": null,
            "min_width": null,
            "object_fit": null,
            "object_position": null,
            "order": null,
            "overflow": null,
            "overflow_x": null,
            "overflow_y": null,
            "padding": null,
            "right": null,
            "top": null,
            "visibility": null,
            "width": null
          }
        },
        "5e5e6e2a25294fa2b64b038ee962c6ea": {
          "model_module": "@jupyter-widgets/base",
          "model_module_version": "1.2.0",
          "model_name": "LayoutModel",
          "state": {
            "_model_module": "@jupyter-widgets/base",
            "_model_module_version": "1.2.0",
            "_model_name": "LayoutModel",
            "_view_count": null,
            "_view_module": "@jupyter-widgets/base",
            "_view_module_version": "1.2.0",
            "_view_name": "LayoutView",
            "align_content": null,
            "align_items": null,
            "align_self": null,
            "border": null,
            "bottom": null,
            "display": null,
            "flex": null,
            "flex_flow": null,
            "grid_area": null,
            "grid_auto_columns": null,
            "grid_auto_flow": null,
            "grid_auto_rows": null,
            "grid_column": null,
            "grid_gap": null,
            "grid_row": null,
            "grid_template_areas": null,
            "grid_template_columns": null,
            "grid_template_rows": null,
            "height": null,
            "justify_content": null,
            "justify_items": null,
            "left": null,
            "margin": null,
            "max_height": null,
            "max_width": null,
            "min_height": null,
            "min_width": null,
            "object_fit": null,
            "object_position": null,
            "order": null,
            "overflow": null,
            "overflow_x": null,
            "overflow_y": null,
            "padding": null,
            "right": null,
            "top": null,
            "visibility": null,
            "width": null
          }
        },
        "5e69fbef962142979bf9df1463cbee1f": {
          "model_module": "@jupyter-widgets/controls",
          "model_module_version": "1.5.0",
          "model_name": "HTMLModel",
          "state": {
            "_dom_classes": [],
            "_model_module": "@jupyter-widgets/controls",
            "_model_module_version": "1.5.0",
            "_model_name": "HTMLModel",
            "_view_count": null,
            "_view_module": "@jupyter-widgets/controls",
            "_view_module_version": "1.5.0",
            "_view_name": "HTMLView",
            "description": "",
            "description_tooltip": null,
            "layout": "IPY_MODEL_b51febbe145a402e9862cdbb7784b7ce",
            "placeholder": "​",
            "style": "IPY_MODEL_351824e626fe46a48eda6777d30b57c6",
            "value": "tokenizer_config.json: 100%"
          }
        },
        "5e72c1779d384c7a83b54b61c6e46b69": {
          "model_module": "@jupyter-widgets/base",
          "model_module_version": "1.2.0",
          "model_name": "LayoutModel",
          "state": {
            "_model_module": "@jupyter-widgets/base",
            "_model_module_version": "1.2.0",
            "_model_name": "LayoutModel",
            "_view_count": null,
            "_view_module": "@jupyter-widgets/base",
            "_view_module_version": "1.2.0",
            "_view_name": "LayoutView",
            "align_content": null,
            "align_items": null,
            "align_self": null,
            "border": null,
            "bottom": null,
            "display": null,
            "flex": null,
            "flex_flow": null,
            "grid_area": null,
            "grid_auto_columns": null,
            "grid_auto_flow": null,
            "grid_auto_rows": null,
            "grid_column": null,
            "grid_gap": null,
            "grid_row": null,
            "grid_template_areas": null,
            "grid_template_columns": null,
            "grid_template_rows": null,
            "height": null,
            "justify_content": null,
            "justify_items": null,
            "left": null,
            "margin": null,
            "max_height": null,
            "max_width": null,
            "min_height": null,
            "min_width": null,
            "object_fit": null,
            "object_position": null,
            "order": null,
            "overflow": null,
            "overflow_x": null,
            "overflow_y": null,
            "padding": null,
            "right": null,
            "top": null,
            "visibility": null,
            "width": null
          }
        },
        "6f27b1ddf1014685a3be3844353288aa": {
          "model_module": "@jupyter-widgets/base",
          "model_module_version": "1.2.0",
          "model_name": "LayoutModel",
          "state": {
            "_model_module": "@jupyter-widgets/base",
            "_model_module_version": "1.2.0",
            "_model_name": "LayoutModel",
            "_view_count": null,
            "_view_module": "@jupyter-widgets/base",
            "_view_module_version": "1.2.0",
            "_view_name": "LayoutView",
            "align_content": null,
            "align_items": null,
            "align_self": null,
            "border": null,
            "bottom": null,
            "display": null,
            "flex": null,
            "flex_flow": null,
            "grid_area": null,
            "grid_auto_columns": null,
            "grid_auto_flow": null,
            "grid_auto_rows": null,
            "grid_column": null,
            "grid_gap": null,
            "grid_row": null,
            "grid_template_areas": null,
            "grid_template_columns": null,
            "grid_template_rows": null,
            "height": null,
            "justify_content": null,
            "justify_items": null,
            "left": null,
            "margin": null,
            "max_height": null,
            "max_width": null,
            "min_height": null,
            "min_width": null,
            "object_fit": null,
            "object_position": null,
            "order": null,
            "overflow": null,
            "overflow_x": null,
            "overflow_y": null,
            "padding": null,
            "right": null,
            "top": null,
            "visibility": null,
            "width": null
          }
        },
        "707d61f8e3a14a7ea389d76b7fa6fd62": {
          "model_module": "@jupyter-widgets/controls",
          "model_module_version": "1.5.0",
          "model_name": "HTMLModel",
          "state": {
            "_dom_classes": [],
            "_model_module": "@jupyter-widgets/controls",
            "_model_module_version": "1.5.0",
            "_model_name": "HTMLModel",
            "_view_count": null,
            "_view_module": "@jupyter-widgets/controls",
            "_view_module_version": "1.5.0",
            "_view_name": "HTMLView",
            "description": "",
            "description_tooltip": null,
            "layout": "IPY_MODEL_3e1de9a4e74e4bffa23d5edf41c2320a",
            "placeholder": "​",
            "style": "IPY_MODEL_cbbf8f0e44724436907b9cb940c5cc2c",
            "value": "config.json: 100%"
          }
        },
        "7902853356494b07a9b4632cca503e57": {
          "model_module": "@jupyter-widgets/base",
          "model_module_version": "1.2.0",
          "model_name": "LayoutModel",
          "state": {
            "_model_module": "@jupyter-widgets/base",
            "_model_module_version": "1.2.0",
            "_model_name": "LayoutModel",
            "_view_count": null,
            "_view_module": "@jupyter-widgets/base",
            "_view_module_version": "1.2.0",
            "_view_name": "LayoutView",
            "align_content": null,
            "align_items": null,
            "align_self": null,
            "border": null,
            "bottom": null,
            "display": null,
            "flex": null,
            "flex_flow": null,
            "grid_area": null,
            "grid_auto_columns": null,
            "grid_auto_flow": null,
            "grid_auto_rows": null,
            "grid_column": null,
            "grid_gap": null,
            "grid_row": null,
            "grid_template_areas": null,
            "grid_template_columns": null,
            "grid_template_rows": null,
            "height": null,
            "justify_content": null,
            "justify_items": null,
            "left": null,
            "margin": null,
            "max_height": null,
            "max_width": null,
            "min_height": null,
            "min_width": null,
            "object_fit": null,
            "object_position": null,
            "order": null,
            "overflow": null,
            "overflow_x": null,
            "overflow_y": null,
            "padding": null,
            "right": null,
            "top": null,
            "visibility": null,
            "width": null
          }
        },
        "79ace638574a4835b8a9cc382e3f69bb": {
          "model_module": "@jupyter-widgets/base",
          "model_module_version": "1.2.0",
          "model_name": "LayoutModel",
          "state": {
            "_model_module": "@jupyter-widgets/base",
            "_model_module_version": "1.2.0",
            "_model_name": "LayoutModel",
            "_view_count": null,
            "_view_module": "@jupyter-widgets/base",
            "_view_module_version": "1.2.0",
            "_view_name": "LayoutView",
            "align_content": null,
            "align_items": null,
            "align_self": null,
            "border": null,
            "bottom": null,
            "display": null,
            "flex": null,
            "flex_flow": null,
            "grid_area": null,
            "grid_auto_columns": null,
            "grid_auto_flow": null,
            "grid_auto_rows": null,
            "grid_column": null,
            "grid_gap": null,
            "grid_row": null,
            "grid_template_areas": null,
            "grid_template_columns": null,
            "grid_template_rows": null,
            "height": null,
            "justify_content": null,
            "justify_items": null,
            "left": null,
            "margin": null,
            "max_height": null,
            "max_width": null,
            "min_height": null,
            "min_width": null,
            "object_fit": null,
            "object_position": null,
            "order": null,
            "overflow": null,
            "overflow_x": null,
            "overflow_y": null,
            "padding": null,
            "right": null,
            "top": null,
            "visibility": null,
            "width": null
          }
        },
        "79f62543413047aa8e8ab4c33e58a8ff": {
          "model_module": "@jupyter-widgets/base",
          "model_module_version": "1.2.0",
          "model_name": "LayoutModel",
          "state": {
            "_model_module": "@jupyter-widgets/base",
            "_model_module_version": "1.2.0",
            "_model_name": "LayoutModel",
            "_view_count": null,
            "_view_module": "@jupyter-widgets/base",
            "_view_module_version": "1.2.0",
            "_view_name": "LayoutView",
            "align_content": null,
            "align_items": null,
            "align_self": null,
            "border": null,
            "bottom": null,
            "display": null,
            "flex": null,
            "flex_flow": null,
            "grid_area": null,
            "grid_auto_columns": null,
            "grid_auto_flow": null,
            "grid_auto_rows": null,
            "grid_column": null,
            "grid_gap": null,
            "grid_row": null,
            "grid_template_areas": null,
            "grid_template_columns": null,
            "grid_template_rows": null,
            "height": null,
            "justify_content": null,
            "justify_items": null,
            "left": null,
            "margin": null,
            "max_height": null,
            "max_width": null,
            "min_height": null,
            "min_width": null,
            "object_fit": null,
            "object_position": null,
            "order": null,
            "overflow": null,
            "overflow_x": null,
            "overflow_y": null,
            "padding": null,
            "right": null,
            "top": null,
            "visibility": null,
            "width": null
          }
        },
        "7f11859150044ce2b35c7b3851d8704b": {
          "model_module": "@jupyter-widgets/base",
          "model_module_version": "1.2.0",
          "model_name": "LayoutModel",
          "state": {
            "_model_module": "@jupyter-widgets/base",
            "_model_module_version": "1.2.0",
            "_model_name": "LayoutModel",
            "_view_count": null,
            "_view_module": "@jupyter-widgets/base",
            "_view_module_version": "1.2.0",
            "_view_name": "LayoutView",
            "align_content": null,
            "align_items": null,
            "align_self": null,
            "border": null,
            "bottom": null,
            "display": null,
            "flex": null,
            "flex_flow": null,
            "grid_area": null,
            "grid_auto_columns": null,
            "grid_auto_flow": null,
            "grid_auto_rows": null,
            "grid_column": null,
            "grid_gap": null,
            "grid_row": null,
            "grid_template_areas": null,
            "grid_template_columns": null,
            "grid_template_rows": null,
            "height": null,
            "justify_content": null,
            "justify_items": null,
            "left": null,
            "margin": null,
            "max_height": null,
            "max_width": null,
            "min_height": null,
            "min_width": null,
            "object_fit": null,
            "object_position": null,
            "order": null,
            "overflow": null,
            "overflow_x": null,
            "overflow_y": null,
            "padding": null,
            "right": null,
            "top": null,
            "visibility": null,
            "width": null
          }
        },
        "7f8df1d9d35446b09be51982f9a12934": {
          "model_module": "@jupyter-widgets/base",
          "model_module_version": "1.2.0",
          "model_name": "LayoutModel",
          "state": {
            "_model_module": "@jupyter-widgets/base",
            "_model_module_version": "1.2.0",
            "_model_name": "LayoutModel",
            "_view_count": null,
            "_view_module": "@jupyter-widgets/base",
            "_view_module_version": "1.2.0",
            "_view_name": "LayoutView",
            "align_content": null,
            "align_items": null,
            "align_self": null,
            "border": null,
            "bottom": null,
            "display": null,
            "flex": null,
            "flex_flow": null,
            "grid_area": null,
            "grid_auto_columns": null,
            "grid_auto_flow": null,
            "grid_auto_rows": null,
            "grid_column": null,
            "grid_gap": null,
            "grid_row": null,
            "grid_template_areas": null,
            "grid_template_columns": null,
            "grid_template_rows": null,
            "height": null,
            "justify_content": null,
            "justify_items": null,
            "left": null,
            "margin": null,
            "max_height": null,
            "max_width": null,
            "min_height": null,
            "min_width": null,
            "object_fit": null,
            "object_position": null,
            "order": null,
            "overflow": null,
            "overflow_x": null,
            "overflow_y": null,
            "padding": null,
            "right": null,
            "top": null,
            "visibility": null,
            "width": null
          }
        },
        "82cd95c47ce54435bdab142dd807b4a1": {
          "model_module": "@jupyter-widgets/controls",
          "model_module_version": "1.5.0",
          "model_name": "HBoxModel",
          "state": {
            "_dom_classes": [],
            "_model_module": "@jupyter-widgets/controls",
            "_model_module_version": "1.5.0",
            "_model_name": "HBoxModel",
            "_view_count": null,
            "_view_module": "@jupyter-widgets/controls",
            "_view_module_version": "1.5.0",
            "_view_name": "HBoxView",
            "box_style": "",
            "children": [
              "IPY_MODEL_52fb998a5fdf4241af743b972129d72a",
              "IPY_MODEL_2178ac9e7df84f06ae349cf1887e77df",
              "IPY_MODEL_38d94a57a94046c7a5d7f946d047f0a9"
            ],
            "layout": "IPY_MODEL_0a9d4c45923046cab722463f4e71f50e"
          }
        },
        "8911884cc9124c0eaf3f927df47976dc": {
          "model_module": "@jupyter-widgets/controls",
          "model_module_version": "1.5.0",
          "model_name": "HTMLModel",
          "state": {
            "_dom_classes": [],
            "_model_module": "@jupyter-widgets/controls",
            "_model_module_version": "1.5.0",
            "_model_name": "HTMLModel",
            "_view_count": null,
            "_view_module": "@jupyter-widgets/controls",
            "_view_module_version": "1.5.0",
            "_view_name": "HTMLView",
            "description": "",
            "description_tooltip": null,
            "layout": "IPY_MODEL_be2c8152063647e6afccabc7b97bbfa2",
            "placeholder": "​",
            "style": "IPY_MODEL_b6e82b6622fc4e73804ebdd1c7972371",
            "value": " 112/112 [00:00&lt;00:00, 5.59kB/s]"
          }
        },
        "8e1d6588ef804dabb4efffac17086431": {
          "model_module": "@jupyter-widgets/controls",
          "model_module_version": "1.5.0",
          "model_name": "FloatProgressModel",
          "state": {
            "_dom_classes": [],
            "_model_module": "@jupyter-widgets/controls",
            "_model_module_version": "1.5.0",
            "_model_name": "FloatProgressModel",
            "_view_count": null,
            "_view_module": "@jupyter-widgets/controls",
            "_view_module_version": "1.5.0",
            "_view_name": "ProgressView",
            "bar_style": "success",
            "description": "",
            "description_tooltip": null,
            "layout": "IPY_MODEL_1bc870e15c6643d8b9af46a0ca14e9d7",
            "max": 112,
            "min": 0,
            "orientation": "horizontal",
            "style": "IPY_MODEL_d84dc5946a50434bb39ffb8cd3f7771a",
            "value": 112
          }
        },
        "8e94a9adc3094fb0a53ea72ce90a94a6": {
          "model_module": "@jupyter-widgets/controls",
          "model_module_version": "1.5.0",
          "model_name": "ProgressStyleModel",
          "state": {
            "_model_module": "@jupyter-widgets/controls",
            "_model_module_version": "1.5.0",
            "_model_name": "ProgressStyleModel",
            "_view_count": null,
            "_view_module": "@jupyter-widgets/base",
            "_view_module_version": "1.2.0",
            "_view_name": "StyleView",
            "bar_color": null,
            "description_width": ""
          }
        },
        "96bcb9569713451289b7d2256be3a7e3": {
          "model_module": "@jupyter-widgets/controls",
          "model_module_version": "1.5.0",
          "model_name": "DescriptionStyleModel",
          "state": {
            "_model_module": "@jupyter-widgets/controls",
            "_model_module_version": "1.5.0",
            "_model_name": "DescriptionStyleModel",
            "_view_count": null,
            "_view_module": "@jupyter-widgets/base",
            "_view_module_version": "1.2.0",
            "_view_name": "StyleView",
            "description_width": ""
          }
        },
        "97b8b2224fc24dc6806c6b1ff939b472": {
          "model_module": "@jupyter-widgets/base",
          "model_module_version": "1.2.0",
          "model_name": "LayoutModel",
          "state": {
            "_model_module": "@jupyter-widgets/base",
            "_model_module_version": "1.2.0",
            "_model_name": "LayoutModel",
            "_view_count": null,
            "_view_module": "@jupyter-widgets/base",
            "_view_module_version": "1.2.0",
            "_view_name": "LayoutView",
            "align_content": null,
            "align_items": null,
            "align_self": null,
            "border": null,
            "bottom": null,
            "display": null,
            "flex": null,
            "flex_flow": null,
            "grid_area": null,
            "grid_auto_columns": null,
            "grid_auto_flow": null,
            "grid_auto_rows": null,
            "grid_column": null,
            "grid_gap": null,
            "grid_row": null,
            "grid_template_areas": null,
            "grid_template_columns": null,
            "grid_template_rows": null,
            "height": null,
            "justify_content": null,
            "justify_items": null,
            "left": null,
            "margin": null,
            "max_height": null,
            "max_width": null,
            "min_height": null,
            "min_width": null,
            "object_fit": null,
            "object_position": null,
            "order": null,
            "overflow": null,
            "overflow_x": null,
            "overflow_y": null,
            "padding": null,
            "right": null,
            "top": null,
            "visibility": null,
            "width": null
          }
        },
        "9c7c3b87b9d247ba90d9c68468d4d1fe": {
          "model_module": "@jupyter-widgets/controls",
          "model_module_version": "1.5.0",
          "model_name": "ProgressStyleModel",
          "state": {
            "_model_module": "@jupyter-widgets/controls",
            "_model_module_version": "1.5.0",
            "_model_name": "ProgressStyleModel",
            "_view_count": null,
            "_view_module": "@jupyter-widgets/base",
            "_view_module_version": "1.2.0",
            "_view_name": "StyleView",
            "bar_color": null,
            "description_width": ""
          }
        },
        "a217edd9f1594f46b92f443238b75ef4": {
          "model_module": "@jupyter-widgets/controls",
          "model_module_version": "1.5.0",
          "model_name": "HBoxModel",
          "state": {
            "_dom_classes": [],
            "_model_module": "@jupyter-widgets/controls",
            "_model_module_version": "1.5.0",
            "_model_name": "HBoxModel",
            "_view_count": null,
            "_view_module": "@jupyter-widgets/controls",
            "_view_module_version": "1.5.0",
            "_view_name": "HBoxView",
            "box_style": "",
            "children": [
              "IPY_MODEL_5e69fbef962142979bf9df1463cbee1f",
              "IPY_MODEL_ffe9af5b56764ea489be2bc8f62c63cb",
              "IPY_MODEL_dd6f7af18dc1498abeb1b2d86b700445"
            ],
            "layout": "IPY_MODEL_2c35221cf33f4f51866d5aa005fdb8eb"
          }
        },
        "a3e00202b43e4522b008830a47935778": {
          "model_module": "@jupyter-widgets/controls",
          "model_module_version": "1.5.0",
          "model_name": "FloatProgressModel",
          "state": {
            "_dom_classes": [],
            "_model_module": "@jupyter-widgets/controls",
            "_model_module_version": "1.5.0",
            "_model_name": "FloatProgressModel",
            "_view_count": null,
            "_view_module": "@jupyter-widgets/controls",
            "_view_module_version": "1.5.0",
            "_view_name": "ProgressView",
            "bar_style": "success",
            "description": "",
            "description_tooltip": null,
            "layout": "IPY_MODEL_f4fde6fb31814279a5dfb02da4a4da61",
            "max": 209528,
            "min": 0,
            "orientation": "horizontal",
            "style": "IPY_MODEL_464b3ea2abba44ff8914e9d564a89457",
            "value": 209528
          }
        },
        "ab4abea05fe14ebfb2d715640eef93ea": {
          "model_module": "@jupyter-widgets/controls",
          "model_module_version": "1.5.0",
          "model_name": "DescriptionStyleModel",
          "state": {
            "_model_module": "@jupyter-widgets/controls",
            "_model_module_version": "1.5.0",
            "_model_name": "DescriptionStyleModel",
            "_view_count": null,
            "_view_module": "@jupyter-widgets/base",
            "_view_module_version": "1.2.0",
            "_view_name": "StyleView",
            "description_width": ""
          }
        },
        "b1944dbbe97e48a585c81812f7c4fa6d": {
          "model_module": "@jupyter-widgets/controls",
          "model_module_version": "1.5.0",
          "model_name": "HBoxModel",
          "state": {
            "_dom_classes": [],
            "_model_module": "@jupyter-widgets/controls",
            "_model_module_version": "1.5.0",
            "_model_name": "HBoxModel",
            "_view_count": null,
            "_view_module": "@jupyter-widgets/controls",
            "_view_module_version": "1.5.0",
            "_view_name": "HBoxView",
            "box_style": "",
            "children": [
              "IPY_MODEL_3d408f4d739b4c7f8fb34366ee5c8073",
              "IPY_MODEL_8e1d6588ef804dabb4efffac17086431",
              "IPY_MODEL_8911884cc9124c0eaf3f927df47976dc"
            ],
            "layout": "IPY_MODEL_04e9a6ec926c41d89dfc8051a947ba36"
          }
        },
        "b51febbe145a402e9862cdbb7784b7ce": {
          "model_module": "@jupyter-widgets/base",
          "model_module_version": "1.2.0",
          "model_name": "LayoutModel",
          "state": {
            "_model_module": "@jupyter-widgets/base",
            "_model_module_version": "1.2.0",
            "_model_name": "LayoutModel",
            "_view_count": null,
            "_view_module": "@jupyter-widgets/base",
            "_view_module_version": "1.2.0",
            "_view_name": "LayoutView",
            "align_content": null,
            "align_items": null,
            "align_self": null,
            "border": null,
            "bottom": null,
            "display": null,
            "flex": null,
            "flex_flow": null,
            "grid_area": null,
            "grid_auto_columns": null,
            "grid_auto_flow": null,
            "grid_auto_rows": null,
            "grid_column": null,
            "grid_gap": null,
            "grid_row": null,
            "grid_template_areas": null,
            "grid_template_columns": null,
            "grid_template_rows": null,
            "height": null,
            "justify_content": null,
            "justify_items": null,
            "left": null,
            "margin": null,
            "max_height": null,
            "max_width": null,
            "min_height": null,
            "min_width": null,
            "object_fit": null,
            "object_position": null,
            "order": null,
            "overflow": null,
            "overflow_x": null,
            "overflow_y": null,
            "padding": null,
            "right": null,
            "top": null,
            "visibility": null,
            "width": null
          }
        },
        "b6e82b6622fc4e73804ebdd1c7972371": {
          "model_module": "@jupyter-widgets/controls",
          "model_module_version": "1.5.0",
          "model_name": "DescriptionStyleModel",
          "state": {
            "_model_module": "@jupyter-widgets/controls",
            "_model_module_version": "1.5.0",
            "_model_name": "DescriptionStyleModel",
            "_view_count": null,
            "_view_module": "@jupyter-widgets/base",
            "_view_module_version": "1.2.0",
            "_view_name": "StyleView",
            "description_width": ""
          }
        },
        "bceb150dc3de40ffa026654580cc4c6f": {
          "model_module": "@jupyter-widgets/controls",
          "model_module_version": "1.5.0",
          "model_name": "ProgressStyleModel",
          "state": {
            "_model_module": "@jupyter-widgets/controls",
            "_model_module_version": "1.5.0",
            "_model_name": "ProgressStyleModel",
            "_view_count": null,
            "_view_module": "@jupyter-widgets/base",
            "_view_module_version": "1.2.0",
            "_view_name": "StyleView",
            "bar_color": null,
            "description_width": ""
          }
        },
        "be088b040c6d4fd0823277cf5b607b77": {
          "model_module": "@jupyter-widgets/base",
          "model_module_version": "1.2.0",
          "model_name": "LayoutModel",
          "state": {
            "_model_module": "@jupyter-widgets/base",
            "_model_module_version": "1.2.0",
            "_model_name": "LayoutModel",
            "_view_count": null,
            "_view_module": "@jupyter-widgets/base",
            "_view_module_version": "1.2.0",
            "_view_name": "LayoutView",
            "align_content": null,
            "align_items": null,
            "align_self": null,
            "border": null,
            "bottom": null,
            "display": null,
            "flex": null,
            "flex_flow": null,
            "grid_area": null,
            "grid_auto_columns": null,
            "grid_auto_flow": null,
            "grid_auto_rows": null,
            "grid_column": null,
            "grid_gap": null,
            "grid_row": null,
            "grid_template_areas": null,
            "grid_template_columns": null,
            "grid_template_rows": null,
            "height": null,
            "justify_content": null,
            "justify_items": null,
            "left": null,
            "margin": null,
            "max_height": null,
            "max_width": null,
            "min_height": null,
            "min_width": null,
            "object_fit": null,
            "object_position": null,
            "order": null,
            "overflow": null,
            "overflow_x": null,
            "overflow_y": null,
            "padding": null,
            "right": null,
            "top": null,
            "visibility": null,
            "width": null
          }
        },
        "be2c8152063647e6afccabc7b97bbfa2": {
          "model_module": "@jupyter-widgets/base",
          "model_module_version": "1.2.0",
          "model_name": "LayoutModel",
          "state": {
            "_model_module": "@jupyter-widgets/base",
            "_model_module_version": "1.2.0",
            "_model_name": "LayoutModel",
            "_view_count": null,
            "_view_module": "@jupyter-widgets/base",
            "_view_module_version": "1.2.0",
            "_view_name": "LayoutView",
            "align_content": null,
            "align_items": null,
            "align_self": null,
            "border": null,
            "bottom": null,
            "display": null,
            "flex": null,
            "flex_flow": null,
            "grid_area": null,
            "grid_auto_columns": null,
            "grid_auto_flow": null,
            "grid_auto_rows": null,
            "grid_column": null,
            "grid_gap": null,
            "grid_row": null,
            "grid_template_areas": null,
            "grid_template_columns": null,
            "grid_template_rows": null,
            "height": null,
            "justify_content": null,
            "justify_items": null,
            "left": null,
            "margin": null,
            "max_height": null,
            "max_width": null,
            "min_height": null,
            "min_width": null,
            "object_fit": null,
            "object_position": null,
            "order": null,
            "overflow": null,
            "overflow_x": null,
            "overflow_y": null,
            "padding": null,
            "right": null,
            "top": null,
            "visibility": null,
            "width": null
          }
        },
        "c71e60b3a8dc4ab4b104d7317d246597": {
          "model_module": "@jupyter-widgets/controls",
          "model_module_version": "1.5.0",
          "model_name": "HTMLModel",
          "state": {
            "_dom_classes": [],
            "_model_module": "@jupyter-widgets/controls",
            "_model_module_version": "1.5.0",
            "_model_name": "HTMLModel",
            "_view_count": null,
            "_view_module": "@jupyter-widgets/controls",
            "_view_module_version": "1.5.0",
            "_view_name": "HTMLView",
            "description": "",
            "description_tooltip": null,
            "layout": "IPY_MODEL_7f8df1d9d35446b09be51982f9a12934",
            "placeholder": "​",
            "style": "IPY_MODEL_01d24ae932794909ad096ccd336894e8",
            "value": "vocab.txt: 100%"
          }
        },
        "cbbf8f0e44724436907b9cb940c5cc2c": {
          "model_module": "@jupyter-widgets/controls",
          "model_module_version": "1.5.0",
          "model_name": "DescriptionStyleModel",
          "state": {
            "_model_module": "@jupyter-widgets/controls",
            "_model_module_version": "1.5.0",
            "_model_name": "DescriptionStyleModel",
            "_view_count": null,
            "_view_module": "@jupyter-widgets/base",
            "_view_module_version": "1.2.0",
            "_view_name": "StyleView",
            "description_width": ""
          }
        },
        "d6374413f3f6487587512cacc396bbf8": {
          "model_module": "@jupyter-widgets/controls",
          "model_module_version": "1.5.0",
          "model_name": "DescriptionStyleModel",
          "state": {
            "_model_module": "@jupyter-widgets/controls",
            "_model_module_version": "1.5.0",
            "_model_name": "DescriptionStyleModel",
            "_view_count": null,
            "_view_module": "@jupyter-widgets/base",
            "_view_module_version": "1.2.0",
            "_view_name": "StyleView",
            "description_width": ""
          }
        },
        "d7953d75fd4e46ff8bef4fa1ceaed091": {
          "model_module": "@jupyter-widgets/base",
          "model_module_version": "1.2.0",
          "model_name": "LayoutModel",
          "state": {
            "_model_module": "@jupyter-widgets/base",
            "_model_module_version": "1.2.0",
            "_model_name": "LayoutModel",
            "_view_count": null,
            "_view_module": "@jupyter-widgets/base",
            "_view_module_version": "1.2.0",
            "_view_name": "LayoutView",
            "align_content": null,
            "align_items": null,
            "align_self": null,
            "border": null,
            "bottom": null,
            "display": null,
            "flex": null,
            "flex_flow": null,
            "grid_area": null,
            "grid_auto_columns": null,
            "grid_auto_flow": null,
            "grid_auto_rows": null,
            "grid_column": null,
            "grid_gap": null,
            "grid_row": null,
            "grid_template_areas": null,
            "grid_template_columns": null,
            "grid_template_rows": null,
            "height": null,
            "justify_content": null,
            "justify_items": null,
            "left": null,
            "margin": null,
            "max_height": null,
            "max_width": null,
            "min_height": null,
            "min_width": null,
            "object_fit": null,
            "object_position": null,
            "order": null,
            "overflow": null,
            "overflow_x": null,
            "overflow_y": null,
            "padding": null,
            "right": null,
            "top": null,
            "visibility": null,
            "width": null
          }
        },
        "d84dc5946a50434bb39ffb8cd3f7771a": {
          "model_module": "@jupyter-widgets/controls",
          "model_module_version": "1.5.0",
          "model_name": "ProgressStyleModel",
          "state": {
            "_model_module": "@jupyter-widgets/controls",
            "_model_module_version": "1.5.0",
            "_model_name": "ProgressStyleModel",
            "_view_count": null,
            "_view_module": "@jupyter-widgets/base",
            "_view_module_version": "1.2.0",
            "_view_name": "StyleView",
            "bar_color": null,
            "description_width": ""
          }
        },
        "dd6f7af18dc1498abeb1b2d86b700445": {
          "model_module": "@jupyter-widgets/controls",
          "model_module_version": "1.5.0",
          "model_name": "HTMLModel",
          "state": {
            "_dom_classes": [],
            "_model_module": "@jupyter-widgets/controls",
            "_model_module_version": "1.5.0",
            "_model_name": "HTMLModel",
            "_view_count": null,
            "_view_module": "@jupyter-widgets/controls",
            "_view_module_version": "1.5.0",
            "_view_name": "HTMLView",
            "description": "",
            "description_tooltip": null,
            "layout": "IPY_MODEL_26550c1fc4cd4ffc932ed247fffea933",
            "placeholder": "​",
            "style": "IPY_MODEL_faefdd8d31014b269ee1739f34e3813e",
            "value": " 43.0/43.0 [00:00&lt;00:00, 715B/s]"
          }
        },
        "e6cc368a4d2d4ea3b7789e8a9593a375": {
          "model_module": "@jupyter-widgets/base",
          "model_module_version": "1.2.0",
          "model_name": "LayoutModel",
          "state": {
            "_model_module": "@jupyter-widgets/base",
            "_model_module_version": "1.2.0",
            "_model_name": "LayoutModel",
            "_view_count": null,
            "_view_module": "@jupyter-widgets/base",
            "_view_module_version": "1.2.0",
            "_view_name": "LayoutView",
            "align_content": null,
            "align_items": null,
            "align_self": null,
            "border": null,
            "bottom": null,
            "display": null,
            "flex": null,
            "flex_flow": null,
            "grid_area": null,
            "grid_auto_columns": null,
            "grid_auto_flow": null,
            "grid_auto_rows": null,
            "grid_column": null,
            "grid_gap": null,
            "grid_row": null,
            "grid_template_areas": null,
            "grid_template_columns": null,
            "grid_template_rows": null,
            "height": null,
            "justify_content": null,
            "justify_items": null,
            "left": null,
            "margin": null,
            "max_height": null,
            "max_width": null,
            "min_height": null,
            "min_width": null,
            "object_fit": null,
            "object_position": null,
            "order": null,
            "overflow": null,
            "overflow_x": null,
            "overflow_y": null,
            "padding": null,
            "right": null,
            "top": null,
            "visibility": null,
            "width": null
          }
        },
        "f3cd2301d56a470e8a4ded1286377475": {
          "model_module": "@jupyter-widgets/controls",
          "model_module_version": "1.5.0",
          "model_name": "FloatProgressModel",
          "state": {
            "_dom_classes": [],
            "_model_module": "@jupyter-widgets/controls",
            "_model_module_version": "1.5.0",
            "_model_name": "FloatProgressModel",
            "_view_count": null,
            "_view_module": "@jupyter-widgets/controls",
            "_view_module_version": "1.5.0",
            "_view_name": "ProgressView",
            "bar_style": "success",
            "description": "",
            "description_tooltip": null,
            "layout": "IPY_MODEL_d7953d75fd4e46ff8bef4fa1ceaed091",
            "max": 438235074,
            "min": 0,
            "orientation": "horizontal",
            "style": "IPY_MODEL_bceb150dc3de40ffa026654580cc4c6f",
            "value": 438235074
          }
        },
        "f4fde6fb31814279a5dfb02da4a4da61": {
          "model_module": "@jupyter-widgets/base",
          "model_module_version": "1.2.0",
          "model_name": "LayoutModel",
          "state": {
            "_model_module": "@jupyter-widgets/base",
            "_model_module_version": "1.2.0",
            "_model_name": "LayoutModel",
            "_view_count": null,
            "_view_module": "@jupyter-widgets/base",
            "_view_module_version": "1.2.0",
            "_view_name": "LayoutView",
            "align_content": null,
            "align_items": null,
            "align_self": null,
            "border": null,
            "bottom": null,
            "display": null,
            "flex": null,
            "flex_flow": null,
            "grid_area": null,
            "grid_auto_columns": null,
            "grid_auto_flow": null,
            "grid_auto_rows": null,
            "grid_column": null,
            "grid_gap": null,
            "grid_row": null,
            "grid_template_areas": null,
            "grid_template_columns": null,
            "grid_template_rows": null,
            "height": null,
            "justify_content": null,
            "justify_items": null,
            "left": null,
            "margin": null,
            "max_height": null,
            "max_width": null,
            "min_height": null,
            "min_width": null,
            "object_fit": null,
            "object_position": null,
            "order": null,
            "overflow": null,
            "overflow_x": null,
            "overflow_y": null,
            "padding": null,
            "right": null,
            "top": null,
            "visibility": null,
            "width": null
          }
        },
        "faefdd8d31014b269ee1739f34e3813e": {
          "model_module": "@jupyter-widgets/controls",
          "model_module_version": "1.5.0",
          "model_name": "DescriptionStyleModel",
          "state": {
            "_model_module": "@jupyter-widgets/controls",
            "_model_module_version": "1.5.0",
            "_model_name": "DescriptionStyleModel",
            "_view_count": null,
            "_view_module": "@jupyter-widgets/base",
            "_view_module_version": "1.2.0",
            "_view_name": "StyleView",
            "description_width": ""
          }
        },
        "ffe9af5b56764ea489be2bc8f62c63cb": {
          "model_module": "@jupyter-widgets/controls",
          "model_module_version": "1.5.0",
          "model_name": "FloatProgressModel",
          "state": {
            "_dom_classes": [],
            "_model_module": "@jupyter-widgets/controls",
            "_model_module_version": "1.5.0",
            "_model_name": "FloatProgressModel",
            "_view_count": null,
            "_view_module": "@jupyter-widgets/controls",
            "_view_module_version": "1.5.0",
            "_view_name": "ProgressView",
            "bar_style": "success",
            "description": "",
            "description_tooltip": null,
            "layout": "IPY_MODEL_5e5e6e2a25294fa2b64b038ee962c6ea",
            "max": 43,
            "min": 0,
            "orientation": "horizontal",
            "style": "IPY_MODEL_8e94a9adc3094fb0a53ea72ce90a94a6",
            "value": 43
          }
        }
      }
    }
  },
  "nbformat": 4,
  "nbformat_minor": 0
}
