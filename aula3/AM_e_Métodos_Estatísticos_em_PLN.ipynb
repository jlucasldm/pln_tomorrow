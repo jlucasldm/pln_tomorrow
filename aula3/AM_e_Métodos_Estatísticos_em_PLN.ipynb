{
  "cells": [
    {
      "cell_type": "markdown",
      "metadata": {
        "id": "AJBS2bztu1Qi"
      },
      "source": [
        "# Classificação de Textos\n",
        "\n",
        "Vamos explorar nessa seção a utilização de métodos de representação explícita (engenharia de características) e codificação de problemas como classificação textual.\n",
        "\n",
        "### Materiais\n",
        "\n",
        "[Biblioteca SciKit Learn - Classificador Linear SVM](https://scikit-learn.org/stable/modules/generated/sklearn.svm.SVC.html)\n",
        "\n"
      ]
    },
    {
      "cell_type": "code",
      "execution_count": null,
      "metadata": {
        "id": "ylg_kbaLu0ja"
      },
      "outputs": [],
      "source": []
    },
    {
      "cell_type": "markdown",
      "metadata": {
        "id": "1JJDv3HhuzHi"
      },
      "source": [
        "## Análise de Sentimentos\n",
        "\n",
        "Vamos modelar a tarefa de análise de sentimentos como uma tarefa de classificação textual. Logo, nosso sistema deverá receber um texto e devolver uma classe descrevendo a polaridade da avaliação expressa nesse texto (positiva ou negativa)"
      ]
    },
    {
      "cell_type": "code",
      "execution_count": 2,
      "metadata": {
        "colab": {
          "base_uri": "https://localhost:8080/"
        },
        "id": "DTmTpQ3wouyL",
        "outputId": "4902895d-82f1-4ecc-df80-88b0bd84a13d"
      },
      "outputs": [
        {
          "name": "stderr",
          "output_type": "stream",
          "text": [
            "UsageError: Line magic function `%unzip` not found.\n"
          ]
        }
      ],
      "source": [
        "!wget http://marlovss.work.gd:8080/tomorrow/aula3/as.zip\n",
        "!unzip as.zip -d corpus"
      ]
    },
    {
      "cell_type": "code",
      "execution_count": 4,
      "metadata": {
        "id": "1YqJ_-XZojWa"
      },
      "outputs": [],
      "source": [
        "import nltk\n",
        "from nltk.corpus import PortugueseCategorizedPlaintextCorpusReader\n",
        "\n",
        "root_dir='./corpus'\n",
        "corpus = PortugueseCategorizedPlaintextCorpusReader(cat_pattern=\"([^_]*)_.*\",fileids=\".*\\.txt\",root=root_dir)"
      ]
    },
    {
      "cell_type": "code",
      "execution_count": 10,
      "metadata": {},
      "outputs": [
        {
          "name": "stdout",
          "output_type": "stream",
          "text": [
            "Quando comentei o lançamento de Presságio, em abril do ano passado, havia posto na roda através de uma pequena digressão a escassez de novas ideias para lidar com o fim do mundo no cinema.\n",
            "O filme-catástrofe de Alex Proyas, por mais inconseqüente e desastroso que seja, acabou se tornando uma referência na busca por soluções para esta fórmula soterrada por definitivo por as megalomanias de Rolland Emmerich 2012 e a Pandora de Avatar, de James Cameron -- afinal, se a sentença do fim do mundo está dada e os humanos já encontram alternativas para povoar outros planetas, qual a possibilidade de um simples tornado Twister ou vulcão O Inferno de Dante impressionar o público\n",
            "É preciso inovar e extrapolar, buscar novas formas de despertar esta curiosidade mórbida por o medo.\n",
            "Pandorum, de Christopher Alvart, leva este gosto por a miscelnea alternativa de um Presságio para o espaço, numa espécie de ponto de ligação entre aquele filme e as suposições sobre povoamento de planetas alternativos e de outros sistemas espaciais, a nova balinha de goma das ficções.\n",
            "Tomou, porém, um furo gigantesco de Avatar, já que os mistérios e as suposições deixadas em aberto por Alvart após a resolução de seu filme já foram explorados e redimensionados de maneira grandiloqüente e megalômana por o sagaz e levemente auspicioso -- James Cameron, que mais uma vez não mediu esforços para dar alguns passos maiores do que a perna -- o resultado desse audacioso salto foi aquele que todos nós sabemos.\n",
            "E, mesmo que não tivesse levado caldinho de Cameron, este Pandorum seria um filme tenebroso por o simples fato de não ter o menor conhecimento sobre onde estão ou podem estar suas forças e quais as dimensões de elas.\n",
            "Existem algumas possibilidades interessantes no meio de aquela baderna de filme de horror a la Alien, acessos de loucura cientificados, arca de Noé, monstrinhos extraterrestres gosmentos, exploração de planetas e a salvação da humanidade, mas que não se referem a estes temas, e sim à questão da memória, do lado humano que existe naquela situação, quando homens acordam atirados numa nave aos poucos vão recordando seus motivos para estarem ali e, especialmente, recebendo de sua cabeça flashes da vida que viviam antes disso, com mulheres, filhos, cachorros e etc num mundo que, naquele momento, encontra- se devastado por a burrice humana.\n",
            "Uma pena, porém, que o diretor seja apenas um operário de tiques óbvios sem o menor cuidado com a imagem e seu peso diante de essas cenas-chave, especialmente aquelas sobre seus homens -- e de todas as outras, na verdade.\n",
            "A cmera de Alvart sofre do mal que atinge a uma grande parcela de realizadores.\n",
            "Ela se basta por o registro, por filmar o encenado, quando na realidade, no cinema, sua função deve dizer muito mais respeito à expressão.\n",
            "Para Alvart, captar a ação de um ngulo favorável ao seu registro íntegro vale muito mais do que pensar no tempo da imagem antes do corte incrível como nesses filmes todos os planos parecem ter a mesma duração, a edição serve para deletar aquilo que não for útil à progressão da ação e dar agilidade para o filme o que se confunde com cortes e troca de ngulos que buscam se aproximar da velocidade da luz, e os atores são filmados apenas para mostrar o necessário para que a história ande.\n",
            "Como Alvart também não é Bigelow para fazer da ação um princípio para outras observações o resultado é um filme tão profundo quanto um CGI de vídeo-game, que não consegue expressar coisa alguma em momento nenhum.\n",
            "A comparação com os games, aliás, pode ser feita de diversas formas durante o filme, que por nada é produzido por Paul W. S. Anderson responsável por adaptações de Mortal Kombat e Resident Evil e que dirigiu um filme parecido e superior a este, O Enigma do Horizonte, que de todo modo também não é bom.\n",
            "Pandorum segue, inclusive, a mesma estrutura narrativa de um jogo apresentação, escolhe personagem, pega um objetivo específico que é guiado por alguém de uma cabine, descobre onde executar- lo, vai pra lá, passa por desafios no caminho até chegar ao local, executa e the end, com direito a elipses que parecem mesmo ter saído de um jogo tamanha a sua disfunção narrativa servem apenas pra pular o tempo de espera vai entrar na sala, encosta na porta, corta e tá lá dentro;\n",
            "imaginem um filme inteiro obcecado por podar arestas.\n",
            "Os jogos, no entanto, costumam ser mais criativos do que isto, e ao menos oferecem interação.\n",
            "Já Pandorum é um CGI de quase duas horas que não nos possibilita nada, nem mesmo uma eventual escapadinha na função skip que seria uma benção enorme em diversos momentos.\n",
            "\n",
            "{'público', 'resultado', 'todos', 'sem', 'the', 'expressar', 'referência', 'especialmente', 'abril', 'pular', 'momentos', 'passado', 'oferecem', 'sim', 'E', 'existe', 'diretor', 'acessos', 'como', 'ligação', ',', 'aquelas', 'consegue', 'corte', 'estrutura', 'motivos', 'nada', 'deve', 'sua', 'memória', 'filmados', 'game', 'fórmula', 'simples', 'povoar', 'história', 'Noé', 'levado', 'encosta', 'humanos', 'imagem', 'agilidade', 'suas', 'cabeça', 'cenas', 'tamanha', 'atirados', 'algumas', 'progressão', 'passa', 'quase', 'esta', 'lançamento', 'mundo', 'É', 'games', 'profundo', 'este', 'horror', 'elas', 'serve', 'acordam', 'sagaz', 'Bigelow', 'são', 'megalômana', 'uma', 'chave', 'inteiro', 'criativos', 'realidade', 'por', 'extraterrestres', 'O', 'esforços', 'Rolland', 'Já', 'estão', 'cmera', 'sofre', 'a', 'dentro', 'buscam', 'humano', 'respeito', 'arestas', 'íntegro', 'Alex', 'Inferno', 'jogos', 'ser', 'velocidade', 'tão', 'chegar', 'nós', 'A', 'aberto', 'mal', 'diversas', 'S', 'o', 'for', 'pra', 'muito', 'pequena', 'costumam', 'seu', 'aquilo', 'mostrar', 'dada', 'responsável', 'tornando', 'ter', 'um', 'interação', 'disso', 'preciso', 'à', 'lado', 'espera', 'é', 'encontram', 'skip', 'da', 'se', 'em', 'mais', 'tá', 'possibilidades', 'definitivo', 'isto', 'maiores', 'curiosidade', 'específico', 'desafios', 'ngulos', 'impressionar', 'óbvios', 'dizer', 'alguma', 'fazer', 'menos', 'deletar', 'arca', 'expressão', 'direito', '2012', 'Pandorum', 'dirigiu', 'produzido', 'necessário', 'sabemos', 'referem', 'Kombat', 'roda', 'alternativa', 'aos', 'executa', 'menor', 'CGI', 'povoamento', 'forças', 'escassez', 'cientificados', 'e', 'ponto', 'planetas', 'seus', 'filhos', 'das', 'vale', 'soterrada', 'apenas', 'gosmentos', 'catástrofe', 'princípio', 'adaptações', '--', 'Christopher', 'nesses', 'alguém', 'estar', 'sala', 'James', 'possibilita', 'cabine', 'fim', 'vida', 'alguns', 'Emmerich', 'miscelnea', 'mesmo', 'segue', 'espaço', 'guiado', 'Uma', 'troca', 'W', 'ano', 'furo', 'Cameron', 'medo', 'poucos', 'formas', 'nem', 'aproximar', 'desastroso', 'end', 'durante', 'tiques', 'atinge', 'ou', 'podem', 'estes', ';', 'homens', 'possibilidade', 'Quando', 'enorme', 'nave', 'captar', 'vídeo', 'temas', 'Existem', 'ngulo', 'ideias', 'de', 'Proyas', 'lidar', 'inconseqüente', 'pena', 'obcecado', 'útil', 'com', 'diversos', 'imaginem', 'no', 'sistemas', 'personagem', 'diante', 'quais', 'grande', 'perna', 'observações', 'sobre', 'ande', 'havia', 'extrapolar', 'deixadas', 'num', 'recebendo', 'mistérios', 'bom', 'acabou', 'através', 'registro', 'todo', 'cachorros', 'passos', 'dar', 'Presságio', 'Mortal', 'Os', 'afinal', 'mediu', 'encenado', 'maneira', 'vão', 'megalomanias', 'outras', 'local', 'aliás', 'Avatar', 'naquele', 'quanto', 'numa', 'momento', 'redimensionados', 'vulcão', 'viviam', 'do', 'dimensões', 'comparação', 'goma', 'lá', 'leva', 'salvação', 'etc', 'digressão', 'já', 'cuidado', 'tornado', 'qual', 'vez', 'entrar', 'saído', 'baderna', 'também', 'Pandora', 'tempo', 'favorável', 'outros', 'salto', 'Paul', 'planos', 'corta', 'atores', 'foram', 'conhecimento', 'questão', 'confunde', 'mulheres', 'entre', 'operário', 'eventual', 'basta', 'cinema', 'porta', 'Anderson', 'ao', 'Alvart', 'Evil', 'filme', 'posto', 'encontra', 'cortes', 'feita', 'buscar', 'parcela', 'vai', 'novas', 'humanidade', 'recordando', 'gigantesco', 'gosto', 'Tomou', 'escapadinha', 'busca', 'Enigma', 'nos', 'exploração', 'estarem', 'espécie', 'Para', 'ação', 'meio', 'tivesse', 'caldinho', 'foi', 'na', 'parecem', 'horas', 'monstrinhos', 'realizadores', 'disfunção', 'seja', 'inclusive', 'filmar', 'Como', 'função', 'grandiloqüente', 'os', 'Alien', 'modo', 'lo', 'pega', 'inovar', 'escolhe', 'apresentação', 'para', 'antes', 'peso', 'naquela', 'porém', 'ali', 'filmes', 'podar', 'servem', '.', 'soluções', 'executar', 'Ela', 'incrível', 'entanto', 'essas', 'verdade', 'situação', 'loucura', 'balinha', 'narrativa', 'descobre', 'espaciais', 'Twister', 'burrice', '-', 'comentei', 'audacioso', 'desse', 'nenhum', 'duas', 'jogo', 'ficções', 'alternativas', 'seria', 'aquele', 'pode', 'superior', 'não', 'Resident', 'que', 'está', 'duração', 'edição', 'humana', 'até', 'após', 'Horizonte', 'onde', 'benção', 'parecido', 'Dante', 'suposições', 'interessantes', 'aquela', 'quando', 'nova', 'auspicioso', 'despertar', 'caminho', 'pensar', 'coisa', 'elipses', 'tenebroso', 'as', 'mas', 'explorados', 'levemente', 'todas', 'resolução', 'la', 'mesma', 'sentença', 'alternativos', 'flashes', 'objetivo', 'devastado', 'luz', 'fato', 'mórbida'}\n",
            "['neg']\n"
          ]
        }
      ],
      "source": [
        "# corpus.categories()\n",
        "# corpus.words()\n",
        "# corpus.sents()\n",
        "# corpus.fileids()\n",
        "# list(corpus.sents(fileids=[corpus.fileids()[0]]))\n",
        "\n",
        "print(corpus.raw(fileids=[corpus.fileids()[0]]))\n",
        "print(set(corpus.words(fileids=[corpus.fileids()[0]])))\n",
        "print(corpus.categories(fileids=[corpus.fileids()[0]]))\n"
      ]
    },
    {
      "cell_type": "markdown",
      "metadata": {
        "id": "y69fie-fpQhB"
      },
      "source": [
        "## Construindo uma representação para o texto\n",
        "\n",
        "Construa uma representação semântica para o conteúdo do texto, aplicável à tarefa de análise de sentimentos"
      ]
    },
    {
      "cell_type": "code",
      "execution_count": 15,
      "metadata": {},
      "outputs": [
        {
          "name": "stdout",
          "output_type": "stream",
          "text": [
            "showing info https://raw.githubusercontent.com/nltk/nltk_data/gh-pages/index.xml\n"
          ]
        },
        {
          "data": {
            "text/plain": [
              "True"
            ]
          },
          "execution_count": 15,
          "metadata": {},
          "output_type": "execute_result"
        }
      ],
      "source": [
        "nltk.download()"
      ]
    },
    {
      "cell_type": "code",
      "execution_count": 60,
      "metadata": {
        "colab": {
          "base_uri": "https://localhost:8080/"
        },
        "id": "hfWmlbKmpJLR",
        "outputId": "2dc42810-eb33-4dd8-b5fa-8ed750e323ef"
      },
      "outputs": [
        {
          "name": "stderr",
          "output_type": "stream",
          "text": [
            "[nltk_data] Downloading package floresta to\n",
            "[nltk_data]     C:\\Users\\oknotok\\AppData\\Roaming\\nltk_data...\n",
            "[nltk_data]   Package floresta is already up-to-date!\n"
          ]
        },
        {
          "name": "stdout",
          "output_type": "stream",
          "text": [
            "{'seguro', 'imigrante', 'abstratos', 'brasileiros', 'sensível', 'autorais', 'brasileiras', 'vi', 'jornalista', 'produtivo', 'monstruoso', 'turistas', 'modesta', 'noturno', 'político', 'inseparáveis', 'viável', 'nobre', 'imensa', 'digna', 'amadoras', 'trabalhista', 'urbano', 'universal', 'péssima', 'discreto', 'secretos', 'amorosas', 'indomáveis', 'efetiva', 'antigo', 'sonhadora', 'ricos', 'central', 'simples', 'oportunistas', 'bela', 'únicos', 'inútil', 'preta', 'válido', 'subsequente', 'temático', 'iguais', 'jurídica', 'violento', 'econômicos', 'altíssimo', 'profundo', 'então', 'bacanas', 'privado', 'pescadores', 'universitário', 'gratuita', 'estável', 'segundos', 'civis', 'perigosa', 'intelectual', 'bíblica', 'ficcionais', 'mínimos', 'surda', 'policiais', 'ideal', 'talentoso', 'inglês', 'clássicos', 'imensas', 'trágica', 'soviético', 'repletas', 'atenta', 'belíssimos', 'republicano', 'chamados', 'amistoso', 'espiritual', 'verdadeira', 'pequena', 'louvável', 'imenso', 'bonita', 'ameaçadoras', 'materiais', 'ambiente', 'mera', 'asiáticos', 'exclusivo', 'sensorial', 'bamba', 'baixa', 'conjugal', 'progressistas', 'irlandês', 'curtas', 'larga', 'familiar', 'óbvios', 'veloz', 'idiotas', 'geral', 'psicológica', 'direito', 'potencial', 'ambicioso', 'necessário', 'interno', 'parcial', 'constrangedor', 'claras', 'bonitos', 'inteligente', 'mexicana', 'vermelho', 'forte', 'nítido', 'contraditória', 'insana', 'estrangeira', 'mole', 'indiscutível', 'sérios', 'inadmissível', 'natural', 'direta', 'sórdidos', 'pontuais', 'necessários', 'viva', 'argentinos', 'apático', 'históricas', 'caótico', 'calmo', 'integrante', 'obrigatória', 'velhos', 'médico', 'indispensáveis', 'absurdo', 'comercial', 'fraco', 'promissora', 'competitivo', 'absoluto', 'motor', 'provável', 'desastrosos', 'tenso', 'populares', 'multiuso', 'egoísta', 'negro', 'idêntica', 'fundadores', 'pretensiosa', 'simbólica', 'manual', 'jornalísticos', 'belo', 'fresco', 'brancos', 'curiosos', 'prematura', 'cheio', 'branco', 'chata', 'grande', 'decisiva', 'rápidos', 'africana', 'desprezível', 'xxi', 'triunfal', 'visuais', 'veterana', 'oriundos', 'importante', 'prévia', 'vizinho', 'conservadora', 'dramáticas', 'malucas', 'gratuito', 'paralelos', 'repleto', 'incompatíveis', 'diferente', 'áurea', 'distante', 'razoáveis', 'rasteiro', 'suaves', 'espontânea', 'distintas', 'pertinente', 'local', 'gráfico', 'frequentes', 'brancas', 'dinâmica', 'sexual', 'virtual', 'autêntica', 'respectiva', 'poética', 'definitiva', 'masculinas', 'semelhante', 'sólida', 'rápidas', 'curioso', 'oeste', 'gay', 'velha', 'últimas', 'atento', 'delicada', 'piores', 'idosos', 'frontal', 'ilícitas', 'mau', 'loucos', 'fantástico', 'doce', 'poderosa', 'consequente', 'romenos', 'célebre', 'tecnológicas', 'dependente', 'original', 'último', 'má', 'teatral', 'experimental', 'suspeito', 'feia', 'gordos', 'corporal', 'africanos', 'alternativo', 'primeiro', 'meias', 'feminino', 'terroristas', 'conveniente', 'promissores', 'terríveis', 'furiosos', 'visível', 'velozes', 'extraordinária', 'urbanos', 'ágeis', 'derradeira', 'única', 'experiente', 'pequenas', 'convencional', 'poderosas', 'comum', 'esplendorosa', 'baratos', 'poderosos', 'audiovisual', 'grandioso', 'americanas', 'profissionais', 'nua', 'chinês', 'própria', 'difícil', 'genial', 'fofa', 'falso', 'viral', 'democrata', 'positiva', 'belas', 'pacato', 'felizes', 'fascinante', 'interna', 'verdadeiro', 'incrível', 'espanholas', 'sueco', 'narcísico', 'temporária', 'preconceituosa', 'horários', 'morta', 'fortes', 'dramático', 'futura', 'excessivas', 'real', 'vulnerável', 'paralelo', 'antigos', 'infinita', 'lógico', 'caro', 'essenciais', 'superior', 'digno', 'contemporâneos', 'sedento', 'injusta', 'gostosa', 'humana', 'ruim', 'específicos', 'primeira', 'expressivo', 'alimentares', 'cheios', 'regional', 'inferior', 'alemão', 'contrário', 'auspicioso', 'japonês', 'meia', 'famoso', 'fértil', 'fina', 'individual', 'profundas', 'científico', 'mentais', 'super', 'inferiores', 'extenso', 'sutil', 'alternativos', 'improvável', 'excelentes', 'promocional', 'lenta', 'i', 'sérias', 'passiva', 'principal', 'novos', 'escolares', 'comovente', 'infeliz', 'consistentes', 'sozinho', 'inteiras', 'singular', 'naturais', 'interminável', 'humanística', 'modernas', 'éticas', 'vocal', 'residente', 'esperta', 'perfeita', 'americano', 'grega', 'encarnada', 'alto', 'longas', 'ditos', 'faciais', 'externa', 'futuras', 'amarelo', 'concorrentes', 'consciente', 'interiores', 'gratuitos', 'estranha', 'estrangeiros', 'absoluta', 'importantes', 'maior', 'ocidental', 'inexpressivo', 'iniciais', 'ingleses', 'brasileira', 'conscientes', 'seguinte', 'europeu', 'excepcionais', 'celular', 'impopulares', 'enigmático', 'emblemático', 'humanas', 'caseiro', 'inteiro', 'conquistador', 'criativos', 'vazias', 'romântico', 'baixos', 'coletivo', 'simpático', 'mundial', 'total', 'urbanas', 'junta', 'mãe', 'relativas', 'italiano', 'palpável', 'genérico', 'escuros', 'criativa', 'passível', 'elegante', 'quinto', 'fotográfico', 'verde', 'derradeiro', 'pública', 'perigoso', 'imperdível', 'literário', 'diversas', 'falsas', 'meticuloso', 'atraente', 'suspeita', 'temporal', 'indispensável', 'pop', 'inconcebível', 'documentarista', 'restantes', 'judeu', 'fúteis', 'morais', 'capitalista', 'estranhos', 'longo', 'certeiro', 'irmão', 'magro', 'impensável', 'industrial', 'subdesenvolvida', 'violentos', 'quentes', 'convicto', 'australianos', 'fictício', 'definitivo', 'maiores', 'jornalistas', 'ingênuo', 'recentes', 'terceiro', 'técnicos', 'pronto', 'econômicas', 'suposto', 'amplo', 'vendedora', 'competentes', 'famosas', 'significativo', 'incapazes', 'precisa', 'meros', 'menor', 'teen', 'letal', 'locais', 'alimentar', 'relativo', 'suficiente', 'elitista', 'espanhola', 'honesta', 'posterior', 'evidentes', 'trágicos', 'cinematográfica', 'tecnológico', 'promissor', 'máxima', 'melhor', 'filho', 'oitava', 'homônima', 'internacional', 'implícita', 'grave', 'linear', 'fiéis', 'árabe', 'lírico', 'otimista', 'analógicos', 'privada', 'devastador', 'inesquecível', 'russas', 'baixo', 'carinhosa', 'plausível', 'vazios', 'legais', 'ricas', 'católicos', 'português', 'internos', 'pura', 'temática', 'primeiros', 'vistos', 'físicas', 'progressiva', 'inevitável', 'especialista', 'britânico', 'prestes', 'frenético', 'primário', 'diversos', 'clássica', 'pobre', 'monótono', 'infinito', 'dita', 'completo', 'lógica', 'inacreditáveis', 'russa', 'imobiliário', 'argentino', 'moderno', 'duras', 'bom', 'permanente', 'constante', 'francesa', 'nuclear', 'inédita', 'católica', 'insuperáveis', 'independentes', 'séria', 'bizarra', 'muçulmanos', 'básico', 'segundo', 'televisivo', 'bacana', 'miserável', 'raro', 'inexistente', 'misterioso', 'implícito', 'degenerativa', 'fotográficas', 'inicial', 'compreensível', 'reais', 'top', 'decente', 'leves', 'paralela', 'existencial', 'técnica', 'alta', 'inusual', 'temáticas', 'imobiliária', 'impassível', 'válidas', 'líquido', 'clara', 'orgânica', 'voluntário', 'pobres', 'liberais', 'incondicional', 'mútua', 'contemporâneo', 'negativas', 'agradáveis', 'vivo', 'ótimo', 'artista', 'pequenos', 'brutal', 'política', 'típicos', 'sexto', 'pessoais', 'azul', 'opaca', 'próximo', 'grotesco', 'intensos', 'médicas', 'regular', 'quinta', 'óbvio', 'novas', 'canadense', 'complexo', 'expressiva', 'intencional', 'cruel', 'maravilhoso', 'curto', 'ameaçador', 'doente', 'evidente', 'pessoal', 'empolgante', 'certo', 'experimentais', 'longos', 'determinante', 'material', 'caótica', 'irresistível', 'atuais', 'japoneses', 'reserva', 'intenso', 'equivalente', 'financeiro', 'baixas', 'inexperiente', 'devido', 'cubanos', 'capazes', 'plena', 'híbrido', 'aleatórios', 'agradável', 'barato', 'europeus', 'natal', 'puro', 'desnecessárias', 'musical', 'marxista', 'prática', 'ético', 'árida', 'segura', 'concretos', 'más', 'gratificante', 'esquerda', 'indisfarçável', 'clássicas', 'vazio', 'originais', 'romana', 'red', 'fotográfica', 'famosos', 'contentes', 'notável', 'mental', 'primordial', 'americanos', 'estético', 'insuficiente', 'assassina', 'teatrais', 'sétima', 'underground', 'escura', 'mórbida', 'atentos', 'misteriosas', 'policial', 'quente', 'produtora', 'formal', 'econômica', 'espertos', 'próprio', 'alemã', 'italiana', 'profunda', 'honrosa', 'inúmeras', 'psicológicos', 'normais', 'suspeitas', 'norte', 'renascentista', 'britânica', 'digitais', 'vulgar', 'últimos', 'completa', 'alvo', 'complexa', 'menores', 'fáceis', 'infantis', 'engraçado', 'tridimensionais', 'humanos', 'futurista', 'claro', 'fixo', 'francês', 'emocional', 'invisíveis', 'positivos', 'brasileiro', 'selvagem', 'respectivos', 'sensacionalistas', 'grotesca', 'considerável', 'genuína', 'modernos', 'rentável', 'tímida', 'visual', 'óbvia', 'surpreendentes', 'direita', 'militares', 'plástico', 'automobilístico', 'boas', 'descartáveis', 'relevante', 'precisos', 'masculina', 'certa', 'chocante', 'típica', 'cultural', 'insuportáveis', 'ética', 'marginal', 'frágil', 'digital', 'ideológica', 'ativa', 'favorita', 'dada', 'incrédulo', 'máximos', 'gráfica', 'européia', 'administrativo', 'executivo', 'animal', 'vivas', 'diária', 'fundo', 'preciso', 'cirúrgicas', 'frio', 'certeiros', 'absurda', 'reveladora', 'diário', 'sexy', 'produtores', 'disponível', 'religioso', 'cearense', 'básicas', 'mágicos', 'filosófica', 'específico', 'autônoma', 'orientais', 'legal', 'espanhol', 'meios', 'moderna', 'inerente', 'mero', 'xiv', 'extra', 'participantes', 'sexuais', 'hipócrita', 'chique', 'franceses', 'animais', 'profundos', 'nulo', 'imensos', 'aceitável', 'chinesa', 'físico', 'loucas', 'marciais', 'exata', 'etíope', 'histórica', 'críticas', 'velho', 'galante', 'capenga', 'pequeno', 'diminuta', 'caricata', 'vasto', 'firme', 'amigo', 'cabeludo', 'oficial', 'possível', 'científica', 'básicos', 'comunistas', 'capital', 'imaginário', 'artificial', 'suficientes', 'grandes', 'dura', 'desagradáveis', 'incapaz', 'preciosos', 'excessiva', 'discutíveis', 'extraconjugal', 'burocrático', 'aparente', 'desastroso', 'visíveis', 'nucleares', 'complexas', 'integrantes', 'futuros', 'independente', 'particulares', 'criança', 'crescente', 'enorme', 'significativa', 'crucial', 'intermináveis', 'afável', 'errada', 'possíveis', 'livre', 'francesas', 'útil', 'nacionais', 'surpreendente', 'políticos', 'estúpida', 'presente', 'adolescentes', 'paulistano', 'última', 'pior', 'assustador', 'direto', 'boa', 'normal', 'fundamental', 'consumidores', 'mínima', 'fixa', 'técnicas', 'mediático', 'fraca', 'autêntico', 'pleno', 'sonoras', 'usuais', 'insensível', 'específica', 'antiga', 'distantes', 'terço', 'difíceis', 'oriental', 'vitoriosa', 'falsa', 'gritantes', 'competitiva', 'hábil', 'paranaense', 'habitual', 'precisas', 'próximas', 'infelizes', 'liberal', 'vermelha', 'universais', 'rápida', 'vaga', 'inúmeros', 'iii', 'xix', 'imoral', 'químico', 'acadêmico', 'comparável', 'fundador', 'doentes', 'teimoso', 'caipira', 'russo', 'externas', 'imprevisível', 'justa', 'principais', 'corporativa', 'média', 'múltiplas', 'altas', 'memorável', 'chamada', 'fiel', 'favorável', 'expresso', 'inédito', 'contemporânea', 'antipáticos', 'alegre', 'gerais', 'rápido', 'eleitoral', 'poético', 'verdadeiros', 'acadêmica', 'radical', 'constantes', 'eventual', 'dito', 'existente', 'basta', 'presentes', 'brilhantes', 'terreno', 'pronta', 'comuns', 'negativos', 'inglesa', 'plano', 'inteligentes', 'ilegal', 'mortos', 'gigantesco', 'densa', 'sobreviventes', 'popular', 'carismáticos', 'virgem', 'mortais', 'morto', 'ciumenta', 'humilde', 'expressivas', 'artísticas', 'lento', 'romântica', 'jovens', 'irregular', 'sociais', 'tradicionais', 'estranho', 'pendentes', 'judeus', 'conservador', 'responsáveis', 'leve', 'gira', 'médica', 'moral', 'atual', 'inesperado', 'históricos', 'malvado', 'complementar', 'específicas', 'únicas', 'agentes', 'públicos', 'capaz', 'máximo', 'financeiras', 'prima', 'alternativas', 'secreto', 'fácil', 'artístico', 'artesanal', 'bons', 'cegos', 'inimitável', 'poderoso', 'restante', 'louca', 'irônico', 'dupla', 'sublime', 'gradual', 'cigana', 'frias', 'famosa', 'fútil', 'péssimo', 'interessantes', 'honesto', 'ditas', 'militarista', 'previsível', 'eficaz', 'feliz', 'sério', 'terrível', 'conjunto', 'positivo', 'plásticas', 'perfeito', 'certos', 'calma', 'fictícios', 'urbana', 'abstrato', 'tecnológica', 'público', 'histórico', 'militar', 'intensa', 'mínimo', 'novo', 'preferencial', 'analista', 'estrangeiro', 'sujos', 'perigosas', 'apreensivos', 'anterior', 'xvi', 'nus', 'grisalho', 'fria', 'belíssimo', 'fascinantes', 'artísticos', 'apaixonante', 'santa', 'automático', 'longa', 'pontual', 'impecável', 'habituais', 'ininterruptas', 'melhores', 'sul', 'prévias', 'íntimo', 'graves', 'prisional', 'monumental', 'emotivo', 'atrasado', 'eficiente', 'negros', 'dorsal', 'semelhantes', 'correntes', 'fluente', 'religiosos', 'caseiras', 'negra', 'prévio', 'drástica', 'indefesos', 'fulminante', 'correto', 'ansioso', 'colaborador', 'melancólica', 'desnecessária', 'tensa', 'gigantescas', 'proveniente', 'iranianos', 'irregulares', 'sonora', 'particular', 'seguros', 'simbólico', 'culturais', 'sujeitos', 'lentos', 'seco', 'especiais', 'fugitivo', 'inesperada', 'humano', 'precedentes', 'pornô', 'curiosa', 'maus', 'alegres', 'grosso', 'emotiva', 'americana', 'cega', 'favorito', 'paralelas', 'explícito', 'coreográfica', 'ridículo', 'irresponsáveis', 'seguintes', 'brusca', 'falhas', 'final', 'diferentes', 'inocente', 'tropical', 'femininos', 'representativo', 'concreto', 'chamado', 'japonesa', 'improváveis', 'televisiva', 'circular', 'responsável', 'musicais', 'presidencial', 'russos', 'parisiense', 'esportiva', 'cubano', 'aéreo', 'convincente', 'largo', 'genérica', 'fracos', 'duplo', 'próprios', 'fabulosos', 'cool', 'mágica', 'incompetente', 'precioso', 'tradicional', 'contrários', 'trivial', 'judaico', 'religiosas', 'inacessível', 'escuro', 'válida', 'negativo', 'confidencial', 'horário', 'igual', 'explícita', 'femininas', 'perceptível', 'exclusiva', 'vizinhos', 'fresca', 'antigas', 'finais', 'deliciosos', 'noturna', 'potentes', 'suave', 'terceira', 'inaceitável', 'estrutural', 'inacreditável', 'excepcional', 'científicas', 'fotográficos', 'masculino', 'nacional', 'referente', 'úteis', 'sólido', 'preliminares', 'extrema', 'ilegais', 'horríveis', 'ii', 'trágico', 'verbais', 'complexos', 'rico', 'bastante', 'argentina', 'superiores', 'infantil', 'domésticos', 'estética', 'cubana', 'dramática', 'duro', 'rara', 'irreconhecível', 'indígenas', 'secundário', 'médio', 'comerciais', 'fundos', 'cênica', 'arqueológico', 'imprescindível', 'holandês', 'imponente', 'leal', 'coletiva', 'religiosa', 'justo', 'usual', 'ambiental', 'racial', 'universitários', 'físicos', 'exterior', 'rica', 'altos', 'japonesas', 'branca', 'visceral', 'cheia', 'excessivo', 'contraditório', 'federal', 'gélida', 'multinacionais', 'essencial', 'corrente', 'quarta', 'crítico', 'recente', 'quarto', 'magnífica', 'disponíveis', 'necessárias', 'supremo', 'exemplar', 'próxima', 'equivalentes', 'hostil', 'solteiro', 'revolucionária', 'precoce', 'descendente', 'feminina', 'física', 'financeiros', 'mágico', 'imediato', 'carioca', 'global', 'lésbica', 'vertiginosa', 'anteriores', 'magníficos', 'jovem', 'esquisita', 'eterna', 'único', 'aéreas', 'internacionais', 'confortáveis', 'artística', 'existentes', 'irônicos', 'próximos', 'pertencente', 'vencedora', 'gigantes', 'velhas', 'totalitários', 'típico', 'oceânica', 'orbital', 'brilhante', 'necessária', 'curta', 'crítica', 'especial', 'experientes', 'próprias', 'gigantesca', 'curtos', 'paulistas', 'meio', 'técnico', 'marcantes', 'fundamentais', 'maciça', 'pretensa', 'latente', 'espacial', 'indiano', 'preto', 'racional', 'suicida', 'bonito', 'infalível', 'futuro', 'xx', 'básica', 'cerebral', 'excelente', 'convencionais', 'vizinha', 'segunda', 'violenta', 'autobiográfico', 'rural', 'comunista', 'assustadores', 'regionais', 'óbvias', 'social', 'distintos', 'notórias', 'espaciais', 'sincero', 'documental', 'esperto', 'emocionantes', 'medíocre', 'políticas', 'inversa', 'mortal', 'extremo', 'incompleto', 'individuais', 'peculiar', 'famintos', 'frenética', 'primeiras', 'ambulante', 'amigos', 'idênticos', 'livres', 'interessante', 'sensacional', 'romano', 'profissional', 'desconcertantes', 'ofegante', 'imediata', 'esquerdo', 'nova', 'cotidiano', 'raras', 'civil', 'irritante', 'estéticos', 'decepcionante', 'enormes', 'perturbadoras', 'impossível', 'simpática', 'magnética'}\n"
          ]
        }
      ],
      "source": [
        "\n",
        "# Vocabulario do corpus sem stopwords\n",
        "from nltk.corpus import stopwords\n",
        "stopwords = set(stopwords.words('portuguese'))\n",
        "vocab = set([word.lower() for word in corpus.words() if word.isalpha() and word.lower() not in stopwords])\n",
        "\n",
        "# Filtrar o vocabulário para apenas adjetivos\n",
        "nltk.download('floresta')\n",
        "from nltk.corpus import floresta\n",
        "floresta_tagged = floresta.tagged_words()\n",
        "adjectives = set([word.lower() for (word,tag) in floresta_tagged if tag.find('adj') != -1 and word.lower() in vocab]) \n",
        "\n",
        "vocab = vocab.intersection(adjectives)\n",
        "print(vocab)\n"
      ]
    },
    {
      "cell_type": "code",
      "execution_count": 64,
      "metadata": {},
      "outputs": [
        {
          "name": "stdout",
          "output_type": "stream",
          "text": [
            "[1, 1, 1, 0, 0, 0, 0, 0, 0, 0, 0, 0, 0, 0, 0, 0, 0, 0, 0, 0, 0, 0, 0, 0, 0, 0, 0, 0, 0, 0, 0, 0, 0, 0, 0, 0, 0, 0, 0, 0, 0, 0, 0, 0, 0, 0, 0, 0, 0, 0, 0, 0, 0, 0, 0, 0, 0, 0, 0, 0, 0, 0, 0, 0, 0, 0, 0, 0, 0, 0, 0, 0, 0, 0, 0, 0, 0, 0, 0, 0, 0, 0, 0, 0, 0, 0, 0, 0, 0, 0, 0, 0, 0, 0, 0, 0, 0, 0, 0, 0, 0, 0, 0, 0, 0, 0, 0, 0, 0, 0, 0, 0, 0, 0, 0, 0, 0, 0, 0, 0, 0, 0, 0, 0, 0, 0, 0, 0, 0, 0, 0, 0, 0, 0, 0, 0, 0, 0, 0, 0, 0, 0, 0, 0, 0, 0, 0, 0, 0, 0, 0, 0, 0, 0, 0, 0, 0, 0, 0, 0, 0, 0, 0, 0, 0, 0, 0, 0, 0, 0, 0, 0, 0, 0, 0, 0, 0, 0, 0, 0, 0, 0, 0, 0, 0, 0, 0, 0, 0, 0, 0, 0, 0, 0, 0, 0, 0, 0, 0, 0, 0, 0, 0, 0, 0, 0, 0, 0, 0, 0, 0, 0, 0, 0, 0, 0, 0, 0, 0, 0, 0, 0, 0, 0, 0, 0, 0, 0, 0, 0, 0, 0, 0, 0, 0, 0, 0, 0, 0, 0, 0, 0, 0, 0, 0, 0, 0, 0, 0, 0, 0, 0, 0, 0, 0, 0, 0, 0, 0, 0, 0, 0, 0, 0, 0, 0, 0, 0, 0, 0, 0, 0, 0, 0, 0, 0, 0, 0, 0, 0, 0, 0, 0, 0, 0, 0, 0, 0, 0, 0, 0, 0, 0, 0, 0, 0, 0, 0, 0, 0, 0, 0, 0, 0, 0, 0, 0, 0, 0, 0, 0, 0, 0, 0, 0, 0, 0, 0, 0, 0, 0, 0, 0, 0, 0, 0, 0, 0, 0, 0, 0, 0, 0, 0, 0, 0, 0, 0, 0, 0, 0, 0, 0, 0, 0, 0, 0, 0, 0, 0, 0, 0, 0, 0, 0, 0, 0, 0, 0, 0, 0, 0, 0, 0, 0, 0, 0, 0, 0, 0, 0, 0, 0, 0, 0, 0, 0, 0, 0, 0, 0, 0, 0, 0, 0, 0, 0, 0, 0, 0, 0, 0, 0, 0, 0, 0, 0, 0, 0, 0, 0, 0, 0, 0, 0, 0, 0, 0, 0, 0, 0, 0, 0, 0, 0, 0, 0, 0, 0, 0, 0, 0, 0, 0, 0, 0, 0, 0, 0, 0, 0, 0, 0, 0, 0, 0, 0, 0, 0, 0, 0, 0, 0, 0, 0, 0, 0, 0, 0, 0, 0, 0, 0, 0, 0, 0, 0, 0, 0, 0, 0, 0, 0, 0, 0, 0, 0, 0, 0, 0, 0, 0, 0, 0, 0, 0, 0, 0, 0, 0, 0, 0, 0, 0, 0, 0, 0, 0, 0, 0, 0, 0, 0, 0, 0, 0, 0, 0, 0, 0, 0, 0, 0, 0, 0, 0, 0, 0, 0, 0, 0, 0, 0, 0, 0, 0, 0, 0, 0, 0, 0, 0, 0, 0, 0, 0, 0, 0, 0, 0, 0, 0, 0, 0, 0, 0, 0, 0, 0, 0, 0, 0, 0, 0, 0, 0, 0, 0, 0, 0, 0, 0, 0, 0, 0, 0, 0, 0, 0, 0, 0, 0, 0, 0, 0, 0, 0, 0, 0, 0, 0, 0, 0, 0, 0, 0, 0, 0, 0, 0, 0, 0, 0, 0, 0, 0, 0, 0, 0, 0, 0, 0, 0, 0, 0, 0, 0, 0, 0, 0, 0, 0, 0, 0, 0, 0, 0, 0, 0, 0, 0, 0, 0, 0, 0, 0, 0, 0, 0, 0, 0, 0, 0, 0, 0, 0, 0, 0, 0, 0, 0, 0, 0, 0, 0, 0, 0, 0, 0, 0, 0, 0, 0, 0, 0, 0, 0, 0, 0, 0, 0, 0, 0, 0, 0, 0, 0, 0, 0, 0, 0, 0, 0, 0, 0, 0, 0, 0, 0, 0, 0, 0, 0, 0, 0, 0, 0, 0, 0, 0, 0, 0, 0, 0, 0, 0, 0, 0, 0, 0, 0, 0, 0, 0, 0, 0, 0, 0, 0, 0, 0, 0, 0, 0, 0, 0, 0, 0, 0, 0, 0, 0, 0, 0, 0, 0, 0, 0, 0, 0, 0, 0, 0, 0, 0, 0, 0, 0, 0, 0, 0, 0, 0, 0, 0, 0, 0, 0, 0, 0, 0, 0, 0, 0, 0, 0, 0, 0, 0, 0, 0, 0, 0, 0, 0, 0, 0, 0, 0, 0, 0, 0, 0, 0, 0, 0, 0, 0, 0, 0, 0, 0, 0, 0, 0, 0, 0, 0, 0, 0, 0, 0, 0, 0, 0, 0, 0, 0, 0, 0, 0, 0, 0, 0, 0, 0, 0, 0, 0, 0, 0, 0, 0, 0, 0, 0, 0, 0, 0, 0, 0, 0, 0, 0, 0, 0, 0, 0, 0, 0, 0, 0, 0, 0, 0, 0, 0, 0, 0, 0, 0, 0, 0, 0, 0, 0, 0, 0, 0, 0, 0, 0, 0, 0, 0, 0, 0, 0, 0, 0, 0, 0, 0, 0, 0, 0, 0, 0, 0, 0, 0, 0, 0, 0, 0, 0, 0, 0, 0, 0, 0, 0, 0, 0, 0, 0, 0, 0, 0, 0, 0, 0, 0, 0, 0, 0, 0, 0, 0, 0, 0, 0, 0, 0, 0, 0, 0, 0, 0, 0, 0, 0, 0, 0, 0, 0, 0, 0, 0, 0, 0, 0, 0, 0, 0, 0, 0, 0, 0, 0, 0, 0, 0, 0, 0, 0, 0, 0, 0, 0, 0, 0, 0, 0, 0, 0, 0, 0, 0, 0, 0, 0, 0, 0, 0, 0, 0, 0, 0, 0, 0, 0, 0, 0, 0, 0, 0, 0, 0, 0, 0, 0, 0, 0, 0, 0, 0, 0, 0, 0, 0, 0, 0, 0, 0, 0, 0, 0, 0, 0, 0, 0, 0, 0, 0, 0, 0, 0, 0, 0, 0, 0, 0, 0, 0, 0, 0, 0, 0, 0, 0, 0, 0, 0, 0, 0, 0, 0, 0, 0, 0, 0, 0, 0, 0, 0, 0, 0, 0, 0, 0, 0, 0, 0, 0, 0, 0, 0, 0, 0, 0, 0, 0, 0, 0, 0, 0, 0, 0, 0, 0, 0, 0, 0, 0, 0, 0, 0, 0, 0, 0, 0, 0, 0, 0, 0, 0, 0, 0, 0, 0, 0, 0, 0, 0, 0, 0, 0, 0, 0, 0, 0, 0, 0, 0, 0, 0, 0, 0, 0, 0, 0, 0, 0, 0, 0, 0, 0, 0, 0, 0, 0, 0, 0, 0, 0, 0, 0, 0, 0, 0, 0, 0, 0, 0, 0, 0, 0, 0, 0, 0, 0, 0, 0, 0, 0, 0, 0, 0, 0, 0, 0, 0, 0, 0, 0, 0, 0, 0, 0, 0, 0, 0, 0, 0, 0, 0, 0, 0, 0, 0, 0, 0, 0, 0, 0, 0, 0, 0, 0, 0, 0, 0, 0, 0, 0, 0, 0, 0, 0, 0, 0, 0, 0, 0, 0, 0, 0, 0, 0, 0, 0, 0, 0, 0, 0, 0, 0, 0, 0, 0, 0, 0, 0, 0, 0, 0, 0, 0, 0, 0, 0, 0, 0, 0, 0, 0, 0, 0, 0, 0, 0, 0, 0, 0, 0, 0, 0, 0, 0, 0, 0, 0, 0, 0, 0, 0, 0, 0, 0, 0, 0, 0, 0, 0, 0, 0, 0, 0, 0, 0, 0, 0, 0, 0, 0, 0, 0, 0, 0, 0, 0, 0, 0, 0, 0, 0, 0, 0, 0, 0, 0, 0, 0, 0, 0, 0, 0, 0, 0, 0, 0, 0, 0, 0, 0, 0, 0, 0, 0, 0, 0, 0, 0, 0, 0, 0, 0, 0, 0, 0, 0, 0, 0, 0, 0, 0, 0, 0, 0, 0, 0, 0, 0, 0, 0, 0, 0, 0, 0, 0, 0, 0, 0, 0, 0, 0, 0, 0, 0, 0, 0, 0, 0, 0, 0, 0, 0, 0, 0, 0, 0, 0, 0, 0, 0, 0, 0, 0, 0, 0, 0, 0, 0, 0, 0, 0, 0, 0, 0, 0, 0, 0, 0, 0, 0, 0, 0, 0, 0, 0, 0, 0, 0, 0, 0, 0, 0, 0, 0, 0, 0, 0, 0, 0, 0, 0, 0, 0, 0, 0, 0, 0]\n"
          ]
        }
      ],
      "source": [
        "\n",
        "# Cada texto do corpus será representado por um vetor de features mapeando a frequência de cada palavra do vocabulário\n",
        "def repr(text):\n",
        "  rep = [0]*len(vocab)\n",
        "  for word in text.split():\n",
        "    word = word.lower()\n",
        "    if word in vocab:\n",
        "      rep[list(vocab).index(word)] += 1\n",
        "  return rep\n",
        "\n",
        "print(repr('seguro imigrante abstratos'))"
      ]
    },
    {
      "cell_type": "code",
      "execution_count": 65,
      "metadata": {
        "id": "fdK1vTe2pqXK"
      },
      "outputs": [],
      "source": [
        "X = [repr(corpus.raw(fileids=[file])) for file in corpus.fileids()]\n",
        "Y = [corpus.categories(fileids=[file])[0] for file in corpus.fileids()]"
      ]
    },
    {
      "cell_type": "code",
      "execution_count": 66,
      "metadata": {},
      "outputs": [
        {
          "name": "stdout",
          "output_type": "stream",
          "text": [
            "[0, 0, 0, 0, 0, 0, 0, 0, 0, 0, 0, 0, 0, 0, 0, 0, 0, 0, 0, 0, 0, 0, 0, 0, 0, 0, 0, 0, 0, 0, 0, 0, 0, 0, 2, 0, 0, 0, 0, 0, 0, 0, 0, 0, 0, 0, 0, 0, 1, 0, 0, 0, 0, 0, 0, 0, 0, 0, 0, 0, 0, 0, 0, 0, 0, 0, 0, 0, 0, 0, 0, 0, 0, 0, 0, 0, 0, 0, 0, 0, 1, 0, 0, 0, 0, 0, 0, 0, 0, 0, 0, 0, 0, 0, 0, 0, 0, 0, 0, 1, 0, 0, 0, 0, 1, 0, 0, 1, 0, 0, 0, 0, 0, 0, 0, 0, 0, 0, 0, 0, 0, 0, 0, 0, 0, 0, 0, 0, 0, 0, 0, 0, 0, 0, 0, 0, 0, 0, 0, 0, 0, 0, 0, 0, 0, 0, 0, 0, 0, 0, 0, 0, 0, 0, 0, 0, 0, 0, 0, 0, 0, 0, 0, 0, 0, 0, 0, 0, 0, 1, 0, 0, 0, 0, 0, 0, 0, 0, 0, 0, 0, 0, 0, 0, 0, 0, 0, 0, 0, 0, 0, 0, 0, 0, 0, 0, 0, 0, 0, 0, 0, 0, 0, 0, 0, 0, 0, 0, 0, 0, 0, 0, 0, 0, 0, 0, 0, 0, 0, 0, 0, 0, 0, 0, 0, 0, 0, 0, 0, 0, 0, 0, 0, 0, 0, 0, 0, 0, 0, 0, 0, 0, 0, 0, 0, 0, 0, 0, 0, 0, 0, 0, 0, 0, 0, 0, 0, 0, 0, 0, 0, 0, 0, 0, 0, 0, 0, 0, 0, 0, 0, 0, 0, 0, 0, 0, 0, 0, 0, 0, 0, 0, 0, 0, 0, 0, 0, 0, 1, 0, 0, 0, 0, 0, 0, 0, 0, 0, 0, 0, 0, 0, 0, 0, 0, 0, 0, 0, 1, 0, 0, 0, 0, 0, 0, 0, 0, 0, 0, 0, 0, 0, 0, 0, 0, 1, 0, 0, 0, 0, 0, 0, 0, 0, 0, 0, 0, 0, 0, 1, 0, 0, 0, 0, 0, 0, 0, 0, 0, 0, 0, 0, 0, 0, 0, 0, 0, 0, 0, 0, 0, 0, 0, 0, 0, 0, 0, 0, 0, 0, 0, 0, 0, 0, 0, 0, 0, 0, 0, 0, 0, 0, 0, 0, 0, 0, 0, 0, 0, 0, 0, 0, 0, 0, 0, 0, 0, 0, 0, 1, 0, 1, 0, 0, 0, 0, 0, 0, 0, 0, 0, 0, 0, 0, 0, 0, 0, 0, 0, 0, 0, 0, 0, 0, 0, 0, 0, 0, 1, 0, 0, 0, 0, 0, 0, 0, 0, 0, 0, 0, 0, 0, 0, 0, 0, 0, 0, 0, 0, 0, 0, 0, 0, 0, 0, 0, 1, 1, 0, 0, 0, 0, 0, 0, 0, 0, 0, 0, 0, 0, 0, 0, 0, 0, 2, 0, 0, 0, 0, 0, 0, 0, 0, 0, 0, 0, 0, 0, 0, 0, 0, 0, 0, 0, 0, 0, 0, 0, 0, 0, 0, 0, 0, 0, 0, 0, 0, 0, 0, 0, 0, 0, 0, 0, 0, 0, 0, 0, 0, 0, 0, 0, 0, 0, 0, 0, 0, 0, 0, 1, 0, 0, 0, 0, 0, 0, 0, 0, 0, 0, 0, 0, 0, 0, 0, 0, 0, 0, 0, 0, 0, 0, 0, 0, 0, 0, 0, 0, 0, 0, 0, 0, 0, 0, 0, 0, 0, 0, 0, 0, 0, 0, 0, 0, 0, 0, 0, 0, 0, 0, 0, 0, 0, 0, 0, 0, 0, 0, 0, 0, 0, 0, 0, 0, 0, 0, 0, 0, 0, 0, 0, 0, 0, 0, 0, 0, 0, 0, 0, 0, 2, 0, 0, 0, 0, 0, 0, 0, 0, 0, 0, 0, 0, 0, 0, 0, 0, 0, 0, 0, 0, 0, 0, 0, 0, 0, 0, 0, 0, 0, 0, 0, 0, 0, 0, 0, 0, 0, 0, 0, 0, 0, 0, 0, 0, 0, 0, 0, 0, 0, 0, 0, 0, 0, 0, 0, 0, 0, 0, 0, 0, 0, 0, 0, 0, 0, 0, 0, 0, 0, 1, 0, 0, 0, 0, 0, 0, 0, 0, 0, 0, 0, 0, 0, 0, 0, 0, 0, 0, 0, 0, 0, 0, 0, 0, 0, 0, 0, 0, 0, 0, 0, 1, 0, 0, 0, 0, 0, 0, 0, 0, 0, 0, 0, 0, 0, 0, 0, 0, 0, 0, 0, 0, 0, 0, 0, 0, 0, 0, 0, 0, 0, 0, 0, 0, 0, 0, 0, 0, 0, 0, 0, 0, 0, 1, 0, 0, 0, 0, 0, 0, 0, 0, 0, 0, 1, 0, 0, 0, 0, 0, 0, 0, 0, 0, 0, 0, 0, 0, 0, 1, 0, 0, 0, 0, 0, 0, 0, 0, 0, 0, 0, 0, 0, 0, 0, 0, 0, 0, 0, 0, 0, 0, 0, 0, 0, 0, 0, 0, 0, 0, 0, 0, 0, 0, 0, 0, 0, 0, 0, 0, 0, 0, 0, 0, 0, 0, 0, 0, 0, 0, 0, 0, 0, 0, 0, 0, 0, 1, 0, 0, 0, 0, 0, 0, 0, 0, 0, 1, 0, 0, 0, 0, 0, 0, 0, 0, 1, 0, 0, 0, 0, 0, 0, 0, 0, 0, 0, 0, 0, 0, 0, 0, 0, 0, 0, 0, 0, 0, 0, 0, 0, 0, 0, 0, 0, 0, 0, 0, 0, 0, 0, 0, 0, 0, 0, 0, 0, 0, 0, 0, 0, 0, 0, 0, 0, 0, 0, 0, 0, 0, 0, 0, 0, 0, 0, 0, 0, 0, 0, 0, 0, 0, 0, 0, 0, 0, 1, 0, 0, 0, 0, 0, 0, 0, 0, 0, 0, 0, 0, 0, 1, 0, 0, 1, 0, 0, 0, 0, 0, 0, 0, 0, 0, 0, 0, 1, 0, 0, 0, 0, 0, 0, 0, 0, 0, 0, 0, 0, 0, 0, 0, 0, 0, 0, 0, 0, 0, 0, 0, 0, 0, 0, 0, 0, 0, 0, 0, 0, 0, 0, 0, 0, 0, 0, 0, 1, 0, 0, 0, 0, 0, 0, 0, 0, 0, 0, 0, 0, 0, 0, 0, 0, 0, 0, 0, 1, 0, 0, 0, 0, 0, 0, 0, 0, 0, 0, 0, 0, 0, 0, 0, 0, 0, 0, 1, 0, 0, 0, 0, 0, 0, 0, 0, 0, 0, 0, 0, 0, 0, 0, 0, 0, 0, 0, 0, 0, 0, 0, 0, 0, 0, 0, 0, 0, 0, 0, 0, 0, 0, 0, 0, 0, 0, 0, 0, 0, 0, 0, 0, 0, 0, 0, 0, 0, 0, 0, 0, 0, 0, 0, 0, 0, 0, 0, 0, 0, 0, 0, 0, 0, 0, 0, 0, 0, 0, 1, 0, 0, 0, 0, 0, 0, 0, 0, 0, 0, 0, 0, 0, 0, 0, 0, 0, 0, 0, 0, 0, 0, 0, 0, 0, 0, 0, 0, 0, 0, 1, 0, 0, 0, 0, 0, 0, 0, 0, 0, 0, 0, 0, 0, 0, 0, 0, 0, 0, 0, 0, 0, 0, 0, 0, 0, 0, 0, 0, 0, 0, 0, 0, 0, 0, 0, 0, 0, 0, 0, 0, 0, 0, 0, 0, 0, 0, 0, 0, 0, 0, 0, 0, 0, 0, 0, 0, 0, 0, 0, 0, 0, 0, 0, 0, 0, 0, 0, 0, 0, 0, 0, 0, 0, 0, 0, 0, 0, 0, 0, 0, 0, 0, 0, 0, 0, 0, 0, 0, 0, 0, 0, 0, 0, 0, 0, 0, 0, 0, 0, 0, 0, 0, 0, 0, 0, 0, 0, 0, 0, 0, 0, 0, 0, 0, 0, 0, 0, 0, 0, 0, 0, 0, 0, 0, 0, 0, 0, 0, 0, 0, 0, 0, 0, 0, 0, 0, 0, 0, 0, 0, 0, 0, 0, 0, 0, 0, 0, 0, 0, 0, 0, 0, 0, 0, 0, 0, 0, 0, 0, 0, 0, 0, 0, 1, 0, 0, 0, 0, 0, 0, 0, 0, 0, 0, 0, 0, 0, 0, 0, 0, 0, 0, 0, 0, 0, 0, 0, 0, 0, 0, 0, 0, 0, 0, 0, 0, 0, 0, 0, 0, 0, 0, 0, 1, 0, 0, 0, 0, 0, 0, 0, 0, 0, 0, 0, 0, 0, 0, 0, 0, 0, 0, 0, 1, 0, 0, 0, 0, 0, 0, 0, 0, 0, 0, 0]\n",
            "neg\n",
            "([0, 0, 0, 0, 0, 0, 0, 0, 0, 0, 0, 0, 0, 0, 0, 0, 0, 0, 0, 0, 0, 0, 0, 0, 0, 0, 0, 0, 0, 0, 0, 0, 0, 0, 2, 0, 0, 0, 0, 0, 0, 0, 0, 0, 0, 0, 0, 0, 1, 0, 0, 0, 0, 0, 0, 0, 0, 0, 0, 0, 0, 0, 0, 0, 0, 0, 0, 0, 0, 0, 0, 0, 0, 0, 0, 0, 0, 0, 0, 0, 1, 0, 0, 0, 0, 0, 0, 0, 0, 0, 0, 0, 0, 0, 0, 0, 0, 0, 0, 1, 0, 0, 0, 0, 1, 0, 0, 1, 0, 0, 0, 0, 0, 0, 0, 0, 0, 0, 0, 0, 0, 0, 0, 0, 0, 0, 0, 0, 0, 0, 0, 0, 0, 0, 0, 0, 0, 0, 0, 0, 0, 0, 0, 0, 0, 0, 0, 0, 0, 0, 0, 0, 0, 0, 0, 0, 0, 0, 0, 0, 0, 0, 0, 0, 0, 0, 0, 0, 0, 1, 0, 0, 0, 0, 0, 0, 0, 0, 0, 0, 0, 0, 0, 0, 0, 0, 0, 0, 0, 0, 0, 0, 0, 0, 0, 0, 0, 0, 0, 0, 0, 0, 0, 0, 0, 0, 0, 0, 0, 0, 0, 0, 0, 0, 0, 0, 0, 0, 0, 0, 0, 0, 0, 0, 0, 0, 0, 0, 0, 0, 0, 0, 0, 0, 0, 0, 0, 0, 0, 0, 0, 0, 0, 0, 0, 0, 0, 0, 0, 0, 0, 0, 0, 0, 0, 0, 0, 0, 0, 0, 0, 0, 0, 0, 0, 0, 0, 0, 0, 0, 0, 0, 0, 0, 0, 0, 0, 0, 0, 0, 0, 0, 0, 0, 0, 0, 0, 0, 1, 0, 0, 0, 0, 0, 0, 0, 0, 0, 0, 0, 0, 0, 0, 0, 0, 0, 0, 0, 1, 0, 0, 0, 0, 0, 0, 0, 0, 0, 0, 0, 0, 0, 0, 0, 0, 1, 0, 0, 0, 0, 0, 0, 0, 0, 0, 0, 0, 0, 0, 1, 0, 0, 0, 0, 0, 0, 0, 0, 0, 0, 0, 0, 0, 0, 0, 0, 0, 0, 0, 0, 0, 0, 0, 0, 0, 0, 0, 0, 0, 0, 0, 0, 0, 0, 0, 0, 0, 0, 0, 0, 0, 0, 0, 0, 0, 0, 0, 0, 0, 0, 0, 0, 0, 0, 0, 0, 0, 0, 0, 1, 0, 1, 0, 0, 0, 0, 0, 0, 0, 0, 0, 0, 0, 0, 0, 0, 0, 0, 0, 0, 0, 0, 0, 0, 0, 0, 0, 0, 1, 0, 0, 0, 0, 0, 0, 0, 0, 0, 0, 0, 0, 0, 0, 0, 0, 0, 0, 0, 0, 0, 0, 0, 0, 0, 0, 0, 1, 1, 0, 0, 0, 0, 0, 0, 0, 0, 0, 0, 0, 0, 0, 0, 0, 0, 2, 0, 0, 0, 0, 0, 0, 0, 0, 0, 0, 0, 0, 0, 0, 0, 0, 0, 0, 0, 0, 0, 0, 0, 0, 0, 0, 0, 0, 0, 0, 0, 0, 0, 0, 0, 0, 0, 0, 0, 0, 0, 0, 0, 0, 0, 0, 0, 0, 0, 0, 0, 0, 0, 0, 1, 0, 0, 0, 0, 0, 0, 0, 0, 0, 0, 0, 0, 0, 0, 0, 0, 0, 0, 0, 0, 0, 0, 0, 0, 0, 0, 0, 0, 0, 0, 0, 0, 0, 0, 0, 0, 0, 0, 0, 0, 0, 0, 0, 0, 0, 0, 0, 0, 0, 0, 0, 0, 0, 0, 0, 0, 0, 0, 0, 0, 0, 0, 0, 0, 0, 0, 0, 0, 0, 0, 0, 0, 0, 0, 0, 0, 0, 0, 0, 0, 2, 0, 0, 0, 0, 0, 0, 0, 0, 0, 0, 0, 0, 0, 0, 0, 0, 0, 0, 0, 0, 0, 0, 0, 0, 0, 0, 0, 0, 0, 0, 0, 0, 0, 0, 0, 0, 0, 0, 0, 0, 0, 0, 0, 0, 0, 0, 0, 0, 0, 0, 0, 0, 0, 0, 0, 0, 0, 0, 0, 0, 0, 0, 0, 0, 0, 0, 0, 0, 0, 1, 0, 0, 0, 0, 0, 0, 0, 0, 0, 0, 0, 0, 0, 0, 0, 0, 0, 0, 0, 0, 0, 0, 0, 0, 0, 0, 0, 0, 0, 0, 0, 1, 0, 0, 0, 0, 0, 0, 0, 0, 0, 0, 0, 0, 0, 0, 0, 0, 0, 0, 0, 0, 0, 0, 0, 0, 0, 0, 0, 0, 0, 0, 0, 0, 0, 0, 0, 0, 0, 0, 0, 0, 0, 1, 0, 0, 0, 0, 0, 0, 0, 0, 0, 0, 1, 0, 0, 0, 0, 0, 0, 0, 0, 0, 0, 0, 0, 0, 0, 1, 0, 0, 0, 0, 0, 0, 0, 0, 0, 0, 0, 0, 0, 0, 0, 0, 0, 0, 0, 0, 0, 0, 0, 0, 0, 0, 0, 0, 0, 0, 0, 0, 0, 0, 0, 0, 0, 0, 0, 0, 0, 0, 0, 0, 0, 0, 0, 0, 0, 0, 0, 0, 0, 0, 0, 0, 0, 1, 0, 0, 0, 0, 0, 0, 0, 0, 0, 1, 0, 0, 0, 0, 0, 0, 0, 0, 1, 0, 0, 0, 0, 0, 0, 0, 0, 0, 0, 0, 0, 0, 0, 0, 0, 0, 0, 0, 0, 0, 0, 0, 0, 0, 0, 0, 0, 0, 0, 0, 0, 0, 0, 0, 0, 0, 0, 0, 0, 0, 0, 0, 0, 0, 0, 0, 0, 0, 0, 0, 0, 0, 0, 0, 0, 0, 0, 0, 0, 0, 0, 0, 0, 0, 0, 0, 0, 0, 1, 0, 0, 0, 0, 0, 0, 0, 0, 0, 0, 0, 0, 0, 1, 0, 0, 1, 0, 0, 0, 0, 0, 0, 0, 0, 0, 0, 0, 1, 0, 0, 0, 0, 0, 0, 0, 0, 0, 0, 0, 0, 0, 0, 0, 0, 0, 0, 0, 0, 0, 0, 0, 0, 0, 0, 0, 0, 0, 0, 0, 0, 0, 0, 0, 0, 0, 0, 0, 1, 0, 0, 0, 0, 0, 0, 0, 0, 0, 0, 0, 0, 0, 0, 0, 0, 0, 0, 0, 1, 0, 0, 0, 0, 0, 0, 0, 0, 0, 0, 0, 0, 0, 0, 0, 0, 0, 0, 1, 0, 0, 0, 0, 0, 0, 0, 0, 0, 0, 0, 0, 0, 0, 0, 0, 0, 0, 0, 0, 0, 0, 0, 0, 0, 0, 0, 0, 0, 0, 0, 0, 0, 0, 0, 0, 0, 0, 0, 0, 0, 0, 0, 0, 0, 0, 0, 0, 0, 0, 0, 0, 0, 0, 0, 0, 0, 0, 0, 0, 0, 0, 0, 0, 0, 0, 0, 0, 0, 0, 1, 0, 0, 0, 0, 0, 0, 0, 0, 0, 0, 0, 0, 0, 0, 0, 0, 0, 0, 0, 0, 0, 0, 0, 0, 0, 0, 0, 0, 0, 0, 1, 0, 0, 0, 0, 0, 0, 0, 0, 0, 0, 0, 0, 0, 0, 0, 0, 0, 0, 0, 0, 0, 0, 0, 0, 0, 0, 0, 0, 0, 0, 0, 0, 0, 0, 0, 0, 0, 0, 0, 0, 0, 0, 0, 0, 0, 0, 0, 0, 0, 0, 0, 0, 0, 0, 0, 0, 0, 0, 0, 0, 0, 0, 0, 0, 0, 0, 0, 0, 0, 0, 0, 0, 0, 0, 0, 0, 0, 0, 0, 0, 0, 0, 0, 0, 0, 0, 0, 0, 0, 0, 0, 0, 0, 0, 0, 0, 0, 0, 0, 0, 0, 0, 0, 0, 0, 0, 0, 0, 0, 0, 0, 0, 0, 0, 0, 0, 0, 0, 0, 0, 0, 0, 0, 0, 0, 0, 0, 0, 0, 0, 0, 0, 0, 0, 0, 0, 0, 0, 0, 0, 0, 0, 0, 0, 0, 0, 0, 0, 0, 0, 0, 0, 0, 0, 0, 0, 0, 0, 0, 0, 0, 0, 0, 1, 0, 0, 0, 0, 0, 0, 0, 0, 0, 0, 0, 0, 0, 0, 0, 0, 0, 0, 0, 0, 0, 0, 0, 0, 0, 0, 0, 0, 0, 0, 0, 0, 0, 0, 0, 0, 0, 0, 0, 1, 0, 0, 0, 0, 0, 0, 0, 0, 0, 0, 0, 0, 0, 0, 0, 0, 0, 0, 0, 1, 0, 0, 0, 0, 0, 0, 0, 0, 0, 0, 0], 'neg')\n"
          ]
        }
      ],
      "source": [
        "data = list(zip(X,Y))\n",
        "\n",
        "print(X[0])\n",
        "print(Y[0])\n",
        "\n",
        "print(data[0])"
      ]
    },
    {
      "cell_type": "code",
      "execution_count": 67,
      "metadata": {},
      "outputs": [],
      "source": [
        "import random\n",
        "\n",
        "random.shuffle(data)\n",
        "X,Y = zip(*data)"
      ]
    },
    {
      "cell_type": "code",
      "execution_count": 68,
      "metadata": {},
      "outputs": [],
      "source": [
        "import math\n",
        "\n",
        "trainX = X[:math.floor(len(X)*0.7)]\n",
        "trainY = Y[:math.floor(len(Y)*0.7)]\n",
        "\n",
        "testX = X[math.floor(len(X)*0.7):]\n",
        "testY = Y[math.floor(len(Y)*0.7):]"
      ]
    },
    {
      "cell_type": "code",
      "execution_count": 69,
      "metadata": {},
      "outputs": [
        {
          "data": {
            "text/html": [
              "<style>#sk-container-id-2 {color: black;background-color: white;}#sk-container-id-2 pre{padding: 0;}#sk-container-id-2 div.sk-toggleable {background-color: white;}#sk-container-id-2 label.sk-toggleable__label {cursor: pointer;display: block;width: 100%;margin-bottom: 0;padding: 0.3em;box-sizing: border-box;text-align: center;}#sk-container-id-2 label.sk-toggleable__label-arrow:before {content: \"▸\";float: left;margin-right: 0.25em;color: #696969;}#sk-container-id-2 label.sk-toggleable__label-arrow:hover:before {color: black;}#sk-container-id-2 div.sk-estimator:hover label.sk-toggleable__label-arrow:before {color: black;}#sk-container-id-2 div.sk-toggleable__content {max-height: 0;max-width: 0;overflow: hidden;text-align: left;background-color: #f0f8ff;}#sk-container-id-2 div.sk-toggleable__content pre {margin: 0.2em;color: black;border-radius: 0.25em;background-color: #f0f8ff;}#sk-container-id-2 input.sk-toggleable__control:checked~div.sk-toggleable__content {max-height: 200px;max-width: 100%;overflow: auto;}#sk-container-id-2 input.sk-toggleable__control:checked~label.sk-toggleable__label-arrow:before {content: \"▾\";}#sk-container-id-2 div.sk-estimator input.sk-toggleable__control:checked~label.sk-toggleable__label {background-color: #d4ebff;}#sk-container-id-2 div.sk-label input.sk-toggleable__control:checked~label.sk-toggleable__label {background-color: #d4ebff;}#sk-container-id-2 input.sk-hidden--visually {border: 0;clip: rect(1px 1px 1px 1px);clip: rect(1px, 1px, 1px, 1px);height: 1px;margin: -1px;overflow: hidden;padding: 0;position: absolute;width: 1px;}#sk-container-id-2 div.sk-estimator {font-family: monospace;background-color: #f0f8ff;border: 1px dotted black;border-radius: 0.25em;box-sizing: border-box;margin-bottom: 0.5em;}#sk-container-id-2 div.sk-estimator:hover {background-color: #d4ebff;}#sk-container-id-2 div.sk-parallel-item::after {content: \"\";width: 100%;border-bottom: 1px solid gray;flex-grow: 1;}#sk-container-id-2 div.sk-label:hover label.sk-toggleable__label {background-color: #d4ebff;}#sk-container-id-2 div.sk-serial::before {content: \"\";position: absolute;border-left: 1px solid gray;box-sizing: border-box;top: 0;bottom: 0;left: 50%;z-index: 0;}#sk-container-id-2 div.sk-serial {display: flex;flex-direction: column;align-items: center;background-color: white;padding-right: 0.2em;padding-left: 0.2em;position: relative;}#sk-container-id-2 div.sk-item {position: relative;z-index: 1;}#sk-container-id-2 div.sk-parallel {display: flex;align-items: stretch;justify-content: center;background-color: white;position: relative;}#sk-container-id-2 div.sk-item::before, #sk-container-id-2 div.sk-parallel-item::before {content: \"\";position: absolute;border-left: 1px solid gray;box-sizing: border-box;top: 0;bottom: 0;left: 50%;z-index: -1;}#sk-container-id-2 div.sk-parallel-item {display: flex;flex-direction: column;z-index: 1;position: relative;background-color: white;}#sk-container-id-2 div.sk-parallel-item:first-child::after {align-self: flex-end;width: 50%;}#sk-container-id-2 div.sk-parallel-item:last-child::after {align-self: flex-start;width: 50%;}#sk-container-id-2 div.sk-parallel-item:only-child::after {width: 0;}#sk-container-id-2 div.sk-dashed-wrapped {border: 1px dashed gray;margin: 0 0.4em 0.5em 0.4em;box-sizing: border-box;padding-bottom: 0.4em;background-color: white;}#sk-container-id-2 div.sk-label label {font-family: monospace;font-weight: bold;display: inline-block;line-height: 1.2em;}#sk-container-id-2 div.sk-label-container {text-align: center;}#sk-container-id-2 div.sk-container {/* jupyter's `normalize.less` sets `[hidden] { display: none; }` but bootstrap.min.css set `[hidden] { display: none !important; }` so we also need the `!important` here to be able to override the default hidden behavior on the sphinx rendered scikit-learn.org. See: https://github.com/scikit-learn/scikit-learn/issues/21755 */display: inline-block !important;position: relative;}#sk-container-id-2 div.sk-text-repr-fallback {display: none;}</style><div id=\"sk-container-id-2\" class=\"sk-top-container\"><div class=\"sk-text-repr-fallback\"><pre>SVC()</pre><b>In a Jupyter environment, please rerun this cell to show the HTML representation or trust the notebook. <br />On GitHub, the HTML representation is unable to render, please try loading this page with nbviewer.org.</b></div><div class=\"sk-container\" hidden><div class=\"sk-item\"><div class=\"sk-estimator sk-toggleable\"><input class=\"sk-toggleable__control sk-hidden--visually\" id=\"sk-estimator-id-2\" type=\"checkbox\" checked><label for=\"sk-estimator-id-2\" class=\"sk-toggleable__label sk-toggleable__label-arrow\">SVC</label><div class=\"sk-toggleable__content\"><pre>SVC()</pre></div></div></div></div></div>"
            ],
            "text/plain": [
              "SVC()"
            ]
          },
          "execution_count": 69,
          "metadata": {},
          "output_type": "execute_result"
        }
      ],
      "source": [
        "from sklearn.svm import SVC\n",
        "\n",
        "svc = SVC()\n",
        "svc.fit(trainX,trainY)\n"
      ]
    },
    {
      "cell_type": "code",
      "execution_count": 70,
      "metadata": {},
      "outputs": [
        {
          "data": {
            "text/plain": [
              "0.6363636363636364"
            ]
          },
          "execution_count": 70,
          "metadata": {},
          "output_type": "execute_result"
        }
      ],
      "source": [
        "svc.score(testX,testY)"
      ]
    },
    {
      "cell_type": "code",
      "execution_count": null,
      "metadata": {},
      "outputs": [],
      "source": [
        "predicted = svc.predict(testX)\n",
        "\n",
        "for i in range(len(predicted)):\n",
        "  print(f'Predicted: {predicted[i]} - Real: {testY[i]}')"
      ]
    },
    {
      "cell_type": "code",
      "execution_count": 73,
      "metadata": {},
      "outputs": [
        {
          "data": {
            "image/png": "[encoded data removed]",
            "text/plain": [
              "<Figure size 640x480 with 2 Axes>"
            ]
          },
          "metadata": {},
          "output_type": "display_data"
        }
      ],
      "source": [
        "import matplotlib.pyplot as plt\n",
        "from sklearn.metrics import ConfusionMatrixDisplay\n",
        "disp = ConfusionMatrixDisplay.from_estimator(\n",
        "    svc,\n",
        "    testX,\n",
        "    testY,\n",
        "    cmap=plt.cm.Blues,\n",
        ")"
      ]
    },
    {
      "cell_type": "markdown",
      "metadata": {
        "id": "X9h5VuiDpyjg"
      },
      "source": [
        "### Utilizando uma representação esparsa (Bag of Words)\n",
        "\n",
        "[SK-Learn Count Vectorizer](https://scikit-learn.org/stable/modules/generated/sklearn.feature_extraction.text.CountVectorizer.html)\n",
        "\n",
        "\n",
        "\n",
        "[SK-Learn TFIDF Vectorizer](https://scikit-learn.org/stable/modules/generated/sklearn.feature_extraction.text.TfidfVectorizer.html)"
      ]
    },
    {
      "cell_type": "code",
      "execution_count": 75,
      "metadata": {
        "colab": {
          "base_uri": "https://localhost:8080/"
        },
        "id": "A-ve7dPApxve",
        "outputId": "6f138df1-f955-4e55-bb8f-0e33125491ab"
      },
      "outputs": [
        {
          "name": "stderr",
          "output_type": "stream",
          "text": [
            "[nltk_data] Downloading package stopwords to\n",
            "[nltk_data]     C:\\Users\\oknotok\\AppData\\Roaming\\nltk_data...\n",
            "[nltk_data]   Package stopwords is already up-to-date!\n"
          ]
        }
      ],
      "source": [
        "from nltk.corpus import stopwords\n",
        "from sklearn.feature_extraction.text import CountVectorizer\n",
        "import math\n",
        "import nltk\n",
        "import random\n",
        "nltk.download('stopwords')\n",
        "stop_words = nltk.corpus.stopwords.words('portuguese')\n",
        "stop_words.extend(['(',')','%',',','\\\"',\"\\'\",\":\",\"$\",\"-\",\"--\",'.',';','?'])\n",
        "counter = CountVectorizer(stop_words=stop_words)\n",
        "data = [(corpus.raw(fileids=[fileid]),corpus.categories(fileids=[fileid])[0]) for fileid in corpus.fileids()]\n",
        "random.shuffle(data)\n",
        "texts,cats = zip(*data)\n",
        "texts = list(texts)\n",
        "cats = list(cats)\n",
        "counter = counter.fit(texts)\n",
        "X = counter.transform(texts[:math.floor(len(texts)*0.7)])\n",
        "y = cats[:math.floor(len(cats)*0.7)]\n",
        "testX = counter.transform(texts[math.floor(len(texts)*0.7):])\n",
        "testY = cats[math.floor(len(cats)*0.7):]\n"
      ]
    },
    {
      "cell_type": "code",
      "execution_count": 76,
      "metadata": {
        "id": "OXO5K_OVrzh9"
      },
      "outputs": [],
      "source": [
        "from sklearn.svm import SVC\n",
        "svc = SVC()\n",
        "svc = svc.fit(X,y)"
      ]
    },
    {
      "cell_type": "code",
      "execution_count": 77,
      "metadata": {
        "colab": {
          "base_uri": "https://localhost:8080/"
        },
        "id": "g0ncl4GNt2zM",
        "outputId": "4d488d6d-abcc-4714-9194-10bfdf91bbd8"
      },
      "outputs": [
        {
          "data": {
            "text/plain": [
              "0.6727272727272727"
            ]
          },
          "execution_count": 77,
          "metadata": {},
          "output_type": "execute_result"
        }
      ],
      "source": [
        "svc.score(testX,testY)"
      ]
    },
    {
      "cell_type": "markdown",
      "metadata": {
        "id": "K2GwFmq7wCJx"
      },
      "source": [
        "Como poderíamos fazer para o caso de um etiquetador morfossintático?"
      ]
    },
    {
      "cell_type": "code",
      "execution_count": null,
      "metadata": {
        "id": "WJium7L7wdhj"
      },
      "outputs": [],
      "source": [
        "!pip install conllu\n",
        "!wget http://marlovss.work.gd:8080/tomorrow/aula2/bosque.conllu\n",
        "!wget http://marlovss.work.gd:8080/tomorrow/aula2/test.conllu\n"
      ]
    },
    {
      "cell_type": "code",
      "execution_count": null,
      "metadata": {
        "id": "LWoWmRPVwbHl"
      },
      "outputs": [],
      "source": [
        "import conllu\n",
        "import itertools as it\n",
        "\n",
        "class AttributeDict(dict):\n",
        "    __getattr__ = dict.__getitem__\n",
        "    __setattr__ = dict.__setitem__\n",
        "    __delattr__ = dict.__delitem__\n",
        "\n",
        "\n",
        "class CoNLLU:\n",
        "   def __init__(self, files):\n",
        "      self.words = []\n",
        "      self.sentences = []\n",
        "      for f in files:\n",
        "         parsed = conllu.parse(open(f).read())\n",
        "         sents = [[AttributeDict(form = token['form'], lemma=token['lemma'],pos=token['upos'],feats=token['feats']) for token in tokenlist if token['upos']!='_'] for tokenlist in parsed]\n",
        "         self.sentences.extend(sents)\n",
        "         self.words.extend([word for sent in sents for word in sent])\n",
        "      self.pos_tags = set([word.pos for word in self.words])\n",
        "      self.feats_dict ={pos:set(it.chain.from_iterable([list(word.feats.keys()) for word in self.words if word.pos==pos and word.feats!= None])) for pos in self.pos_tags}\n"
      ]
    },
    {
      "cell_type": "code",
      "execution_count": null,
      "metadata": {
        "id": "GDxcGglTwM7-"
      },
      "outputs": [],
      "source": [
        "bosque = CoNLLU(files=[\"bosque.conllu\"])\n",
        "test = CoNLLU(files=[\"test.conllu\"])\n"
      ]
    },
    {
      "cell_type": "markdown",
      "metadata": {
        "id": "iKdLY4VZihmb"
      },
      "source": [
        "# Word Embeddings e Representações vetoriais\n",
        "Vamos explorar um pouco modelos de embeddings e sua utilização para construir representações de textos para aprendizagem de máquina\n",
        "\n",
        "### Materiais\n",
        "\n",
        "[Biblioteca Gensim](https://radimrehurek.com/gensim/)\n",
        "\n",
        "[Word Embedding NILC](http://www.nilc.icmc.usp.br/embeddings)"
      ]
    },
    {
      "cell_type": "code",
      "execution_count": null,
      "metadata": {
        "colab": {
          "base_uri": "https://localhost:8080/"
        },
        "id": "0Ym8G_hUfEbw",
        "outputId": "f8b18395-b500-4891-bf3f-2f781e52c52b"
      },
      "outputs": [
        {
          "name": "stdout",
          "output_type": "stream",
          "text": [
            "--2024-07-26 00:43:14--  http://143.107.183.175:22980/download.php?file=embeddings/word2vec/skip_s50.zip\n",
            "Connecting to 143.107.183.175:22980... connected.\n",
            "HTTP request sent, awaiting response... 200 OK\n",
            "Length: 176485664 (168M) [application/octet-stream]\n",
            "Saving to: ‘skip_s50.zip’\n",
            "\n",
            "skip_s50.zip        100%[===================>] 168.31M  8.27MB/s    in 20s     \n",
            "\n",
            "2024-07-26 00:43:34 (8.63 MB/s) - ‘skip_s50.zip’ saved [176485664/176485664]\n",
            "\n"
          ]
        }
      ],
      "source": [
        "!wget http://143.107.183.175:22980/download.php?file=embeddings/word2vec/skip_s50.zip -O skip_s50.zip\n",
        "!unzip skip_s50.zip"
      ]
    },
    {
      "cell_type": "code",
      "execution_count": null,
      "metadata": {
        "colab": {
          "base_uri": "https://localhost:8080/"
        },
        "id": "wjdmCKi8fgl1",
        "outputId": "2cc3141b-05d6-4854-d10a-2d2de1b1053f"
      },
      "outputs": [
        {
          "name": "stdout",
          "output_type": "stream",
          "text": [
            "Archive:  skip_s50.zip\n",
            "  inflating: skip_s50.txt            \n"
          ]
        }
      ],
      "source": [
        "!unzip skip_s50.zip"
      ]
    },
    {
      "cell_type": "code",
      "execution_count": null,
      "metadata": {
        "id": "kSUffWk2erSd"
      },
      "outputs": [],
      "source": [
        "import gensim\n",
        "from gensim.test.utils import datapath\n",
        "from  gensim.models.keyedvectors import Word2VecKeyedVectors\n",
        "model = Word2VecKeyedVectors.load_word2vec_format('skip_s50.txt')"
      ]
    },
    {
      "cell_type": "code",
      "execution_count": null,
      "metadata": {
        "colab": {
          "base_uri": "https://localhost:8080/"
        },
        "id": "tgProZccgIL6",
        "outputId": "12673bab-c2d7-405c-d6a7-b12421944f9c"
      },
      "outputs": [
        {
          "name": "stdout",
          "output_type": "stream",
          "text": [
            "[-0.295763 -0.109035 -0.51675  -0.001818 -0.058122 -0.050199 -0.345249\n",
            " -0.183904 -0.028004 -0.358447  0.172903 -0.094734 -0.108177  0.148727\n",
            " -0.102512 -0.061394 -0.272937  0.071819 -0.403729  0.168113 -0.19235\n",
            "  0.299979  0.090583 -0.266522  0.189941  0.006384  0.426003 -0.200579\n",
            "  0.092999 -0.004578  0.468458 -0.101667  0.007105 -0.154752 -0.474237\n",
            "  0.161002  0.101593  0.089223 -0.100523  0.372997 -0.138943 -0.405767\n",
            " -0.341875  0.630216 -0.066666 -0.276118  0.254343 -0.032535 -0.17794\n",
            "  0.074828]\n",
            "(50,)\n"
          ]
        }
      ],
      "source": [
        "print(model['pessoa'])\n",
        "print(model['pessoa'].shape)"
      ]
    },
    {
      "cell_type": "code",
      "execution_count": null,
      "metadata": {
        "colab": {
          "base_uri": "https://localhost:8080/"
        },
        "id": "aQdzYOrygKoz",
        "outputId": "4f0c40e9-0ae0-4e90-a931-2dd2e0ed00b2"
      },
      "outputs": [
        {
          "name": "stdout",
          "output_type": "stream",
          "text": [
            "['</s>', ',', 'de', '.', 'a', 'o', 'e', 'que', 'do', 'da', 'em', 'para', 'um', 'no', 'com', 'é', 'uma', 'os', 'não', 'na', '00', '0000', 'por', ')', '(', 'as', 'se', 'dos', 'foi', 'como', 'ao', 'mais', '?', '0', 'das', '-', 'mas', 'sua', 'ou', 'ser', 'seu', '000', ':', 'são', '«', 'pelo', '»', 'eu', 'ele', 'está', 'pela', 'também', 'nos', 'sobre', 'você', 'entre', 'tem', ';', '!', 'já', 'isso', 'anos', 'ainda', 'muito', 'aos', 'até', '/', 'quando', 'era', 'ter', 'bem', 'foram', 'mesmo', 'pode', 'nas', 'este', 'segundo', 'comissão', 'ano', 'dois', 'seus', 'ela', 'onde', 'depois', 'há', 'esta', 'dia', '%', 'todos', 'só', 'me', 'vai', 'sem', 'grande', 'parte', 'presidente', 'fazer', 'outros', 'durante', 'estado']\n"
          ]
        }
      ],
      "source": [
        "print(model.index_to_key[:100])"
      ]
    },
    {
      "cell_type": "code",
      "execution_count": null,
      "metadata": {
        "id": "AS4DsmKugO4w"
      },
      "outputs": [],
      "source": [
        "print(model.most_similar('mulher'))"
      ]
    },
    {
      "cell_type": "markdown",
      "metadata": {
        "id": "eDU_V947ghmF"
      },
      "source": [
        "## Construindo representações para textos\n",
        "\n",
        "Vamos construir uma representação ingênua de textos a partir das representações das palavras e utiliza-la para a tarefa de identificação de similaridade semântica"
      ]
    },
    {
      "cell_type": "code",
      "execution_count": null,
      "metadata": {
        "colab": {
          "base_uri": "https://localhost:8080/"
        },
        "id": "WkmcCX6Agfgx",
        "outputId": "741753d6-e895-45d5-c91a-45984c6634a7"
      },
      "outputs": [
        {
          "name": "stdout",
          "output_type": "stream",
          "text": [
            "--2024-07-26 00:59:31--  http://marlovss.work.gd:8080/tomorrow/aula3/assin.zip\n",
            "Resolving marlovss.work.gd (marlovss.work.gd)... 177.180.149.154\n",
            "Connecting to marlovss.work.gd (marlovss.work.gd)|177.180.149.154|:8080... connected.\n",
            "HTTP request sent, awaiting response... 200 OK\n",
            "Length: 290655 (284K) [application/zip]\n",
            "Saving to: ‘assin.zip’\n",
            "\n",
            "assin.zip           100%[===================>] 283.84K   218KB/s    in 1.3s    \n",
            "\n",
            "2024-07-26 00:59:33 (218 KB/s) - ‘assin.zip’ saved [290655/290655]\n",
            "\n",
            "Archive:  assin.zip\n",
            "  inflating: assin/assin2-test.xml   \n",
            "  inflating: assin/assin2-train.xml  \n"
          ]
        }
      ],
      "source": [
        "!wget http://marlovss.work.gd:8080/tomorrow/aula3/assin.zip\n",
        "!unzip assin.zip -d assin"
      ]
    },
    {
      "cell_type": "code",
      "execution_count": null,
      "metadata": {
        "colab": {
          "base_uri": "https://localhost:8080/"
        },
        "id": "LBFtpkugkHuG",
        "outputId": "1c4f27a2-0a79-44c6-e51c-f71597fbf136"
      },
      "outputs": [
        {
          "data": {
            "text/plain": [
              "True"
            ]
          },
          "execution_count": 27,
          "metadata": {},
          "output_type": "execute_result"
        }
      ],
      "source": [
        "'unk' in model"
      ]
    },
    {
      "cell_type": "code",
      "execution_count": null,
      "metadata": {
        "colab": {
          "base_uri": "https://localhost:8080/"
        },
        "id": "JfUeYiIUgUY5",
        "outputId": "9154c15b-7d9b-4388-df5f-88f793b4a271"
      },
      "outputs": [
        {
          "name": "stdout",
          "output_type": "stream",
          "text": [
            "[-0.10021989  0.105626   -0.08843433 -0.03277322  0.01006678 -0.21886735\n",
            " -0.20620257 -0.20914677 -0.08895311 -0.03475666  0.0876061  -0.16550265\n",
            "  0.12535112  0.00960356 -0.09276699 -0.12015767  0.07364266  0.03477145\n",
            "  0.02299567 -0.00696233  0.03394522  0.06740034  0.06485156 -0.42602924\n",
            " -0.08269379 -0.18157789  0.09410334 -0.15196978 -0.14423145  0.12327857\n",
            "  0.13763922  0.01964189  0.09452455  0.16938433  0.11580789 -0.19084166\n",
            " -0.06192011  0.06950122 -0.19876844  0.07833301  0.03262489 -0.12186745\n",
            "  0.11308779  0.10795633 -0.2771672   0.13939865 -0.1406939   0.04911755\n",
            "  0.06284567  0.019849  ]\n",
            "(50,)\n"
          ]
        }
      ],
      "source": [
        "import numpy as np\n",
        "def w2v_avg(lista_de_palavras,model):\n",
        "   if len(lista_de_palavras)>0:\n",
        "     lista_de_vetores = [model[palavra] if palavra in model else model['unk'] for palavra in lista_de_palavras ]\n",
        "     return np.sum(lista_de_vetores,axis=0)/len(lista_de_vetores)\n",
        "   else:\n",
        "     return lista_de_vetores\n",
        "\n",
        "rep = w2v_avg(\"o rato roeu a roupa do rei de roma\".split(),model)\n",
        "print(rep)\n",
        "print(rep.shape)"
      ]
    },
    {
      "cell_type": "code",
      "execution_count": null,
      "metadata": {
        "id": "vdURpDf1gdl5"
      },
      "outputs": [],
      "source": [
        "import re\n",
        "import random\n",
        "xmlText = open(\"assin/assin2-train.xml\").read()\n",
        "pairsText = re.findall(\"(?s)<pair entailment=\\\"([^\\\"]+)\\\".+?similarity=\\\"([^\\\"]+)\\\">(.+?)</pair>\",xmlText)\n",
        "pairs = [(re.findall(\"<t>(.+?)</t>\",t[2])[0].lower(),re.findall(\"<h>(.+?)</h>\",t[2])[0].lower(),t[1],1) for t in pairsText if t[0]==\"Paraphrase\"]\n",
        "pairs.extend([(re.findall(\"<t>(.+?)</t>\",t[2])[0].lower(),re.findall(\"<h>(.+?)</h>\",t[2])[0].lower(),t[1],0) for t in pairsText if t[0]!=\"Paraphrase\"])\n",
        "random.shuffle(pairs)\n",
        "X = [w2v_avg(s1,model)-w2v_avg(s2,model) for (s1,s2,sim,c) in pairs]\n",
        "y = [float(sim) for (s1,s2,sim,c) in pairs]"
      ]
    },
    {
      "cell_type": "code",
      "execution_count": null,
      "metadata": {
        "id": "FNl0FfkohQQ1"
      },
      "outputs": [],
      "source": [
        "import sklearn\n",
        "from sklearn.svm import SVR\n",
        "\n",
        "svr = SVR()\n",
        "svr = svr.fit(X,y)\n"
      ]
    },
    {
      "cell_type": "code",
      "execution_count": null,
      "metadata": {
        "id": "w3A5g-dShslU"
      },
      "outputs": [],
      "source": [
        "xmlText = open(\"assin/assin2-test.xml\").read()\n",
        "pairsText = re.findall(\"(?s)<pair entailment=\\\"([^\\\"]+)\\\".+?similarity=\\\"([^\\\"]+)\\\">(.+?)</pair>\",xmlText)\n",
        "testPairs = [(re.findall(\"<t>(.+?)</t>\",t[2])[0].lower(),re.findall(\"<h>(.+?)</h>\",t[2])[0].lower(),t[1],1) for t in pairsText if t[0]==\"Paraphrase\"]\n",
        "testPairs.extend([(re.findall(\"<t>(.+?)</t>\",t[2])[0].lower(),re.findall(\"<h>(.+?)</h>\",t[2])[0].lower(),t[1],0) for t in pairsText if t[0]!=\"Paraphrase\"])\n",
        "testX = [w2v_avg(s1,model)-w2v_avg(s2,model) for (s1,s2,sim,c) in testPairs]\n",
        "testy = [float(sim) for (s1,s2,sim,c) in testPairs]"
      ]
    },
    {
      "cell_type": "code",
      "execution_count": null,
      "metadata": {
        "colab": {
          "base_uri": "https://localhost:8080/"
        },
        "id": "lJswbS5FhWaI",
        "outputId": "de460868-61fe-4b34-a3eb-b8dbd692a1cf"
      },
      "outputs": [
        {
          "data": {
            "text/plain": [
              "0.08853227066327074"
            ]
          },
          "execution_count": 40,
          "metadata": {},
          "output_type": "execute_result"
        }
      ],
      "source": [
        "svr.score(testX,testy)"
      ]
    },
    {
      "cell_type": "markdown",
      "metadata": {
        "id": "udosepI5h1Df"
      },
      "source": []
    }
  ],
  "metadata": {
    "colab": {
      "provenance": []
    },
    "kernelspec": {
      "display_name": "Python 3",
      "name": "python3"
    },
    "language_info": {
      "codemirror_mode": {
        "name": "ipython",
        "version": 3
      },
      "file_extension": ".py",
      "mimetype": "text/x-python",
      "name": "python",
      "nbconvert_exporter": "python",
      "pygments_lexer": "ipython3",
      "version": "3.11.0"
    }
  },
  "nbformat": 4,
  "nbformat_minor": 0
}
